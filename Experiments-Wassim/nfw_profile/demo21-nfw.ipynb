{
 "cells": [
  {
   "cell_type": "markdown",
   "id": "1c819057-4781-4cfc-8d55-e3dcbc33687d",
   "metadata": {
    "pycharm": {
     "name": "#%% md\n"
    },
    "tags": []
   },
   "source": [
    "# $\\Phi$-SO demo"
   ]
  },
  {
   "cell_type": "markdown",
   "id": "e2390f38-ea65-4652-bfb7-0b29ed26a546",
   "metadata": {
    "pycharm": {
     "name": "#%% md\n"
    }
   },
   "source": [
    "## Packages import"
   ]
  },
  {
   "cell_type": "code",
   "execution_count": 1,
   "id": "75f93de4-0542-483d-aeea-f43f2d77f6ba",
   "metadata": {
    "pycharm": {
     "name": "#%%\n"
    }
   },
   "outputs": [
    {
     "name": "stdout",
     "output_type": "stream",
     "text": [
      "/opt/homebrew/Caskroom/miniforge/base/envs/PhySO\n"
     ]
    }
   ],
   "source": [
    "# conda env\n",
    "try:\n",
    "    get_ipython().system('echo $CONDA_PREFIX')\n",
    "except:\n",
    "    pass"
   ]
  },
  {
   "cell_type": "code",
   "execution_count": 2,
   "id": "3b2dc2b2-9961-4ade-8f41-a29866b3e723",
   "metadata": {
    "pycharm": {
     "name": "#%%\n"
    },
    "tags": []
   },
   "outputs": [],
   "source": [
    "try:\n",
    "    %matplotlib inline\n",
    "    #get_ipython().run_line_magic('matplotlib', 'inline')\n",
    "except:\n",
    "    pass"
   ]
  },
  {
   "cell_type": "code",
   "execution_count": 3,
   "id": "7e3ee9d9-c786-4583-aa32-2fbc65584009",
   "metadata": {
    "pycharm": {
     "name": "#%%\n"
    }
   },
   "outputs": [],
   "source": [
    "# External packages\n",
    "import torch\n",
    "import numpy as np\n",
    "\n",
    "# Pyplot\n",
    "import matplotlib.pyplot as plt\n",
    "\n",
    "# Internal code import\n",
    "import physo\n",
    "from physo.learn import monitoring\n",
    "from physo.task  import benchmark"
   ]
  },
  {
   "cell_type": "code",
   "execution_count": 4,
   "id": "6b52eaea-6ca2-4d3e-a846-2eedcd932e56",
   "metadata": {
    "pycharm": {
     "name": "#%%\n"
    }
   },
   "outputs": [
    {
     "name": "stdout",
     "output_type": "stream",
     "text": [
      "cpu\n"
     ]
    }
   ],
   "source": [
    "# Device\n",
    "DEVICE = 'cpu'\n",
    "if torch.cuda.is_available():\n",
    "    DEVICE = 'cuda'\n",
    "print(DEVICE)"
   ]
  },
  {
   "cell_type": "code",
   "execution_count": 5,
   "id": "8c8890ee-a992-4bb6-a0ff-8847e82c99ab",
   "metadata": {
    "pycharm": {
     "name": "#%%\n"
    }
   },
   "outputs": [
    {
     "data": {
      "text/plain": [
       "False"
      ]
     },
     "execution_count": 5,
     "metadata": {},
     "output_type": "execute_result"
    }
   ],
   "source": [
    "torch.cuda.is_available()"
   ]
  },
  {
   "cell_type": "markdown",
   "id": "91946a7e-e7dd-446b-9de9-101c930e82ce",
   "metadata": {
    "pycharm": {
     "name": "#%% md\n"
    }
   },
   "source": [
    "## Test case"
   ]
  },
  {
   "cell_type": "code",
   "execution_count": 6,
   "id": "23fcc22c-753b-4885-b305-0d277396d39a",
   "metadata": {
    "pycharm": {
     "name": "#%%\n"
    }
   },
   "outputs": [],
   "source": [
    "data_size = int(1e3)"
   ]
  },
  {
   "cell_type": "code",
   "execution_count": 7,
   "id": "06b4f66f-1699-4c7a-a22c-90304c8e7ae2",
   "metadata": {
    "pycharm": {
     "name": "#%%\n"
    }
   },
   "outputs": [
    {
     "name": "stdout",
     "output_type": "stream",
     "text": [
      "12\n"
     ]
    }
   ],
   "source": [
    "# Data points\n",
    "data_lowbound, data_upbound = 0.2, 1\n",
    "r  = np.random.uniform(data_lowbound, data_upbound, data_size)\n",
    "x0_array = r\n",
    "X_array = np.stack((x0_array,), axis=0)\n",
    "rs   = 1.391\n",
    "rho0 = 0.984\n",
    "y_array = rho0 / ( (r/rs) * (1 + r/rs)**2 )\n",
    "\n",
    "# One of many symbolic solutions:\n",
    "target_program_str = [\"div\", \"rho0\", \"mul\", \"div\", \"r\", \"rs\", \"n2\", \"add\", \"1\", \"div\", \"r\", \"rs\"]\n",
    "print(len(target_program_str))\n"
   ]
  },
  {
   "cell_type": "code",
   "execution_count": 8,
   "id": "a796039f-fdbb-4991-bc58-3fcb92cae589",
   "metadata": {
    "pycharm": {
     "name": "#%%\n"
    }
   },
   "outputs": [
    {
     "data": {
      "image/png": "[encoded data removed]",
      "text/plain": [
       "<Figure size 1000x500 with 1 Axes>"
      ]
     },
     "metadata": {},
     "output_type": "display_data"
    }
   ],
   "source": [
    "n_dim = X_array.shape[0]\n",
    "fig, ax = plt.subplots(n_dim, 1, figsize=(10,5))\n",
    "for i in range (n_dim):\n",
    "    curr_ax = ax if n_dim==1 else ax[i]\n",
    "    curr_ax.plot(X_array[i], y_array, 'k.',)\n",
    "    curr_ax.set_xlabel(\"X[%i]\"%(i))\n",
    "    curr_ax.set_ylabel(\"y\")\n",
    "plt.show()"
   ]
  },
  {
   "cell_type": "code",
   "execution_count": 9,
   "id": "ca6b2f73-80c3-4f55-9866-f0297b81087f",
   "metadata": {
    "pycharm": {
     "name": "#%%\n"
    }
   },
   "outputs": [],
   "source": [
    "# ------ Vectors ------\n",
    "# Stack of all input variables\n",
    "X = torch.tensor(X_array).to(DEVICE)\n",
    "# Output of symbolic function to guess\n",
    "y = torch.tensor(y_array).to(DEVICE)\n",
    "\n",
    "# ------ Constants ------\n",
    "const1 = torch.tensor(np.array( 1.   )).to(DEVICE)\n",
    "rho0   = torch.tensor(np.array( rho0 )).to(DEVICE)\n",
    "rs     = torch.tensor(np.array( rs   )).to(DEVICE)"
   ]
  },
  {
   "cell_type": "markdown",
   "id": "058939ea-1550-4f41-87cf-a6d879d51102",
   "metadata": {
    "pycharm": {
     "name": "#%% md\n"
    }
   },
   "source": [
    "## Run config"
   ]
  },
  {
   "cell_type": "markdown",
   "id": "07990a3b-14c5-4c4a-b54a-908f7cb259d4",
   "metadata": {
    "pycharm": {
     "name": "#%% md\n"
    }
   },
   "source": [
    "### Library config"
   ]
  },
  {
   "cell_type": "code",
   "execution_count": 10,
   "id": "f8666ce1-dfb1-4ee9-8695-2bcb76f26e7b",
   "metadata": {
    "pycharm": {
     "name": "#%%\n"
    }
   },
   "outputs": [],
   "source": [
    "args_make_tokens = {\n",
    "                # operations\n",
    "                \"op_names\"             : [\"mul\", \"add\", \"sub\", \"div\", \"inv\", \"n2\", \"sqrt\",], # \"exp\", \"log\", \"sin\", \"cos\"],\n",
    "                \"use_protected_ops\"    : True,\n",
    "                # input variables\n",
    "                \"input_var_ids\"        : {\"r\" : 0         , },\n",
    "                \"input_var_units\"      : {\"r\" : [1, 0, 0] , },\n",
    "                \"input_var_complexity\" : {\"r\" : 1.        , },\n",
    "                # constants\n",
    "                \"constants\"            : {\"1\" : const1    , \"rs\" : rs        , \"rho0\" : rho0       ,},\n",
    "                \"constants_units\"      : {\"1\" : [0, 0, 0] , \"rs\" : [1, 0, 0] , \"rho0\" : [-3, 1, 0] ,},\n",
    "                \"constants_complexity\" : {\"1\" : 1.        , \"rs\" : 1.        , \"rho0\" : 1.         ,},\n",
    "                ## free constants\n",
    "                #\"free_constants\"            : {\"m\"              , \"g\"              ,},\n",
    "                #\"free_constants_init_val\"   : {\"m\" : 1.         , \"g\" : 1.         ,},\n",
    "                #\"free_constants_units\"      : {\"m\" : [0, 0, 1]  , \"g\" : [1, -2, 0] ,},\n",
    "                #\"free_constants_complexity\" : {\"m\" : 1.         , \"g\" : 1.         ,},\n",
    "                    }\n",
    "\n",
    "library_config = {\"args_make_tokens\"  : args_make_tokens,\n",
    "                  \"superparent_units\" : [-3, 1, 0],\n",
    "                  \"superparent_name\"  : \"rho\",\n",
    "                }"
   ]
  },
  {
   "cell_type": "markdown",
   "id": "e4711b53",
   "metadata": {
    "pycharm": {
     "name": "#%% md\n"
    }
   },
   "source": [
    "### Learning config"
   ]
  },
  {
   "cell_type": "code",
   "execution_count": 11,
   "id": "68f51b4b",
   "metadata": {
    "collapsed": false,
    "jupyter": {
     "outputs_hidden": false
    },
    "pycharm": {
     "name": "#%%\n"
    }
   },
   "outputs": [],
   "source": [
    "reward_config = {\n",
    "                 \"reward_function\"     : physo.physym.reward.SquashedNRMSE, \n",
    "                 \"zero_out_unphysical\" : True, # PHYSICALITY\n",
    "                 \"zero_out_duplicates\" : False,\n",
    "                 \"keep_lowest_complexity_duplicate\" : False,\n",
    "                }"
   ]
  },
  {
   "cell_type": "code",
   "execution_count": 12,
   "id": "ff943989",
   "metadata": {
    "collapsed": false,
    "jupyter": {
     "outputs_hidden": false
    },
    "pycharm": {
     "name": "#%%\n"
    }
   },
   "outputs": [],
   "source": [
    "MAX_TRIAL_EXPRESSIONS = 2*1e6\n",
    "BATCH_SIZE = int(1e4)\n",
    "MAX_LENGTH = 35\n",
    "GET_OPTIMIZER = lambda model : torch.optim.Adam(\n",
    "                                    model.parameters(),                \n",
    "                                    lr=0.0025, #0.001, #0.0050, #0.0005, #1,  #lr=0.0025\n",
    "                                                )"
   ]
  },
  {
   "cell_type": "code",
   "execution_count": 13,
   "id": "a8c12168",
   "metadata": {
    "collapsed": false,
    "jupyter": {
     "outputs_hidden": false
    },
    "pycharm": {
     "name": "#%%\n"
    }
   },
   "outputs": [],
   "source": [
    "learning_config = {\n",
    "    # Batch related\n",
    "    'batch_size'       : BATCH_SIZE,\n",
    "    'max_time_step'    : MAX_LENGTH,\n",
    "    'n_epochs'         : int(1e9), #int(MAX_TRIAL_EXPRESSIONS/BATCH_SIZE),\n",
    "    # Loss related\n",
    "    'gamma_decay'      : 0.7,\n",
    "    'entropy_weight'   : 0.005,\n",
    "    # Reward related\n",
    "    'risk_factor'      : 0.05,\n",
    "    'rewards_computer' : physo.physym.reward.make_RewardsComputer (**reward_config),\n",
    "    # Optimizer\n",
    "    'get_optimizer'    : GET_OPTIMIZER,\n",
    "    'observe_units'    : True,\n",
    "}"
   ]
  },
  {
   "cell_type": "markdown",
   "id": "b5991694",
   "metadata": {
    "pycharm": {
     "name": "#%% md\n"
    }
   },
   "source": [
    "### Free constant optimizer config"
   ]
  },
  {
   "cell_type": "code",
   "execution_count": 14,
   "id": "61b59d31",
   "metadata": {
    "collapsed": false,
    "jupyter": {
     "outputs_hidden": false
    },
    "pycharm": {
     "name": "#%%\n"
    }
   },
   "outputs": [],
   "source": [
    "free_const_opti_args = {\n",
    "            'loss'   : \"MSE\",\n",
    "            'method' : 'LBFGS',\n",
    "            'method_args': {\n",
    "                        'n_steps' : 30,\n",
    "                        'tol'     : 1e-8,\n",
    "                        'lbfgs_func_args' : {\n",
    "                            'max_iter'       : 4,\n",
    "                            'line_search_fn' : \"strong_wolfe\",\n",
    "                                             },\n",
    "                            },\n",
    "        }"
   ]
  },
  {
   "cell_type": "markdown",
   "id": "cc624c08-92d7-473f-b24c-1e63ef50e340",
   "metadata": {
    "pycharm": {
     "name": "#%% md\n"
    }
   },
   "source": [
    "### Priors config"
   ]
  },
  {
   "cell_type": "code",
   "execution_count": 15,
   "id": "629557bb-8932-4bcb-b1f9-3214cb0a7938",
   "metadata": {
    "pycharm": {
     "name": "#%%\n"
    }
   },
   "outputs": [],
   "source": [
    "priors_config  = [\n",
    "                #(\"UniformArityPrior\", None),\n",
    "                # LENGTH RELATED\n",
    "                (\"HardLengthPrior\"  , {\"min_length\": 4, \"max_length\": MAX_LENGTH, }),\n",
    "                (\"SoftLengthPrior\"  , {\"length_loc\": 8, \"scale\": 5, }),\n",
    "                # RELATIONSHIPS RELATED\n",
    "                (\"NoUselessInversePrior\"  , None),\n",
    "                (\"PhysicalUnitsPrior\", {\"prob_eps\": np.finfo(np.float32).eps}), # PHYSICALITY\n",
    "                #(\"NestedFunctions\", {\"functions\":[\"exp\",], \"max_nesting\" : 1}),\n",
    "                #(\"NestedFunctions\", {\"functions\":[\"log\",], \"max_nesting\" : 1}),\n",
    "                #(\"NestedTrigonometryPrior\", {\"max_nesting\" : 1}),           \n",
    "                #(\"OccurrencesPrior\", {\"targets\" : [\"1\",], \"max\" : [3,] }),\n",
    "                 ]"
   ]
  },
  {
   "cell_type": "markdown",
   "id": "85f08d15-7325-4841-aebe-016a4f2978a8",
   "metadata": {
    "pycharm": {
     "name": "#%% md\n"
    }
   },
   "source": [
    "### Cell config"
   ]
  },
  {
   "cell_type": "code",
   "execution_count": 16,
   "id": "e433da57",
   "metadata": {
    "collapsed": false,
    "jupyter": {
     "outputs_hidden": false
    },
    "pycharm": {
     "name": "#%%\n"
    }
   },
   "outputs": [],
   "source": [
    "cell_config = {\n",
    "    \"hidden_size\" : 128,\n",
    "    \"n_layers\"    : 1,\n",
    "    \"is_lobotomized\" : False,\n",
    "}"
   ]
  },
  {
   "cell_type": "markdown",
   "id": "39e90708",
   "metadata": {
    "pycharm": {
     "name": "#%% md\n"
    }
   },
   "source": [
    "### Logger"
   ]
  },
  {
   "cell_type": "code",
   "execution_count": 17,
   "id": "13405809",
   "metadata": {
    "collapsed": false,
    "jupyter": {
     "outputs_hidden": false
    },
    "pycharm": {
     "name": "#%%\n"
    }
   },
   "outputs": [],
   "source": [
    "save_path_training_curves = 'nfw_curves.png'\n",
    "save_path_log             = 'nfw.log'\n",
    "\n",
    "run_logger     = monitoring.RunLogger(save_path = save_path_log, \n",
    "                                      do_save = True)\n",
    "\n",
    "run_visualiser = monitoring.RunVisualiser (epoch_refresh_rate = 10,\n",
    "                                           save_path = save_path_training_curves,\n",
    "                                           do_show   = False,\n",
    "                                           do_prints = True,\n",
    "                                           do_save   = True, )"
   ]
  },
  {
   "cell_type": "markdown",
   "id": "400eb0d0",
   "metadata": {
    "pycharm": {
     "name": "#%% md\n"
    }
   },
   "source": [
    "### Run config"
   ]
  },
  {
   "cell_type": "code",
   "execution_count": 18,
   "id": "2648c799",
   "metadata": {
    "collapsed": false,
    "jupyter": {
     "outputs_hidden": false
    },
    "pycharm": {
     "name": "#%%\n"
    }
   },
   "outputs": [],
   "source": [
    "run_config = {\n",
    "    \"learning_config\"      : learning_config,\n",
    "    \"reward_config\"        : reward_config,\n",
    "    \"free_const_opti_args\" : free_const_opti_args,\n",
    "    \"library_config\"       : library_config,\n",
    "    \"priors_config\"        : priors_config,\n",
    "    \"cell_config\"          : cell_config,\n",
    "    \"run_logger\"           : run_logger,\n",
    "    \"run_visualiser\"       : run_visualiser,\n",
    "}"
   ]
  },
  {
   "cell_type": "markdown",
   "id": "3f7d84b8",
   "metadata": {
    "pycharm": {
     "name": "#%% md\n"
    }
   },
   "source": [
    "## Dummy epoch for prior tuning"
   ]
  },
  {
   "cell_type": "code",
   "execution_count": 19,
   "id": "0c48b2af",
   "metadata": {
    "collapsed": false,
    "jupyter": {
     "outputs_hidden": false
    },
    "pycharm": {
     "name": "#%%\n"
    }
   },
   "outputs": [
    {
     "data": {
      "image/png": "[encoded data removed]",
      "text/plain": [
       "<Figure size 1400x700 with 2 Axes>"
      ]
     },
     "metadata": {},
     "output_type": "display_data"
    },
    {
     "data": {
      "image/png": "[encoded data removed]",
      "text/plain": [
       "<Figure size 1400x700 with 2 Axes>"
      ]
     },
     "metadata": {},
     "output_type": "display_data"
    }
   ],
   "source": [
    "benchmark.dummy_epoch(X, y, run_config)"
   ]
  },
  {
   "cell_type": "markdown",
   "id": "b1d8d5d3",
   "metadata": {
    "pycharm": {
     "name": "#%% md\n"
    }
   },
   "source": [
    "## Sanity checks"
   ]
  },
  {
   "cell_type": "code",
   "execution_count": 20,
   "id": "afb18a3a",
   "metadata": {
    "collapsed": false,
    "jupyter": {
     "outputs_hidden": false
    },
    "pycharm": {
     "name": "#%%\n"
    }
   },
   "outputs": [
    {
     "name": "stdout",
     "output_type": "stream",
     "text": [
      "Data\n"
     ]
    },
    {
     "data": {
      "image/png": "[encoded data removed]",
      "text/plain": [
       "<Figure size 1000x500 with 1 Axes>"
      ]
     },
     "metadata": {},
     "output_type": "display_data"
    },
    {
     "name": "stdout",
     "output_type": "stream",
     "text": [
      "{'mul': 0, 'add': 1, 'sub': 2, 'div': 3, 'inv': 4, 'n2': 5, 'sqrt': 6, '1': 7, 'rs': 8, 'rho0': 9, 'r': 10}\n",
      "-------------------------- Library -------------------------\n",
      "[mul add sub div inv n2 sqrt 1 rs rho0 r rho dummy -]\n",
      "--------------------------- Prior --------------------------\n",
      "PriorCollection:\n",
      "- HardLengthPrior (min_length = 4, max_length = 35)\n",
      "- SoftLengthPrior (length_loc = 8, scale = 5)\n",
      "- NoUselessInversePrior (['inv', 'n2', 'sqrt'] can not be child of ['inv', 'sqrt', 'n2'])\n",
      "- PhysicalUnitsPrior\n",
      "-------------------------- Dataset -------------------------\n",
      "X        : torch.Size([1, 1000]) \n",
      "y_target : torch.Size([1000])\n",
      "-------------------------- Programs ------------------------\n",
      "[['dummy' '-' '-' ... '-' '-' '-']\n",
      " ['dummy' '-' '-' ... '-' '-' '-']\n",
      " ['dummy' '-' '-' ... '-' '-' '-']\n",
      " ...\n",
      " ['dummy' '-' '-' ... '-' '-' '-']\n",
      " ['dummy' '-' '-' ... '-' '-' '-']\n",
      " ['dummy' '-' '-' ... '-' '-' '-']]\n",
      "\n",
      "-------------------------- Learning config ------------------------\n",
      "{'batch_size': 10000, 'max_time_step': 35, 'n_epochs': 1000000000, 'gamma_decay': 0.7, 'entropy_weight': 0.005, 'risk_factor': 0.05, 'rewards_computer': <function make_RewardsComputer.<locals>.<lambda> at 0x135c109d0>, 'get_optimizer': <function <lambda> at 0x15767c0d0>, 'observe_units': True}\n",
      "-------------------------- Cell ------------------------\n",
      "Cell(\n",
      "  (input_dense): Linear(in_features=66, out_features=128, bias=True)\n",
      "  (stacked_cells): ModuleList(\n",
      "    (0): LSTMCell(128, 128)\n",
      "  )\n",
      "  (output_dense): Linear(in_features=128, out_features=11, bias=True)\n",
      ")\n",
      "n_params= 142092\n",
      "config:\n",
      "{'hidden_size': 128, 'n_layers': 1, 'is_lobotomized': False}\n",
      "-------------------------- Reward config ------------------------\n",
      "{'reward_function': <function SquashedNRMSE at 0x137347ee0>, 'zero_out_unphysical': True, 'zero_out_duplicates': False, 'keep_lowest_complexity_duplicate': False}\n",
      "-------------------------- Ideal reward ------------------------\n",
      "---- Target ----\n",
      "Tokens in prefix notation:\n",
      "[div, rho0, mul, div, r, rs, n2, add, 1, div, r, rs]\n",
      "Raw expression ascii:\n",
      "      ρ₀     \n",
      "─────────────\n",
      "⎛          2⎞\n",
      "⎜  ⎛r     ⎞ ⎟\n",
      "⎜r⋅⎜── + 1⎟ ⎟\n",
      "⎜  ⎝rs    ⎠ ⎟\n",
      "⎜───────────⎟\n",
      "⎝     rs    ⎠\n",
      "Raw expression:\n"
     ]
    },
    {
     "data": {
      "image/png": "[encoded data removed]",
      "text/plain": [
       "<Figure size 1000x100 with 1 Axes>"
      ]
     },
     "metadata": {},
     "output_type": "display_data"
    },
    {
     "name": "stdout",
     "output_type": "stream",
     "text": [
      "Simplified expression:\n"
     ]
    },
    {
     "data": {
      "image/png": "[encoded data removed]",
      "text/plain": [
       "<Figure size 1000x100 with 1 Axes>"
      ]
     },
     "metadata": {},
     "output_type": "display_data"
    },
    {
     "name": "stdout",
     "output_type": "stream",
     "text": [
      "Ideal reward : 1.0\n"
     ]
    }
   ],
   "source": [
    "target_program = benchmark.sanity_check(X, y, run_config, \n",
    "                                        target_program_str = target_program_str,\n",
    "                                        expected_ideal_reward = 1.,\n",
    "                                       )"
   ]
  },
  {
   "cell_type": "markdown",
   "id": "6499d575",
   "metadata": {
    "pycharm": {
     "name": "#%% md\n"
    }
   },
   "source": [
    "## Run"
   ]
  },
  {
   "cell_type": "code",
   "execution_count": null,
   "id": "264e4870",
   "metadata": {
    "collapsed": false,
    "jupyter": {
     "outputs_hidden": false
    },
    "pycharm": {
     "name": "#%%\n"
    },
    "scrolled": true,
    "tags": []
   },
   "outputs": [
    {
     "name": "stderr",
     "output_type": "stream",
     "text": [
      "/Users/wtenachi/Documents/ASTRO_research/projects/AI_physicist/my_AI_physicist/PhySO/PhySO/physo/learn/monitoring.py:519: UserWarning: Creating legend with loc=\"best\" can be slow with large amounts of data.\n",
      "  self.fig.savefig(self.save_path)\n"
     ]
    },
    {
     "name": "stdout",
     "output_type": "stream",
     "text": [
      "=========== Epoch 00000 ===========\n",
      "-> Time 9.56 s\n",
      "\n",
      "Overall best  at R=0.797264\n",
      "-> Raw expression : \n",
      "                         2\n",
      "         ⎛             2⎞ \n",
      "         ⎜    ⎛   1   ⎞ ⎟ \n",
      "      rs⋅⎜1 + ⎜───────⎟ ⎟ \n",
      "         ⎜    ⎜⎛    1⎞⎟ ⎟ \n",
      "         ⎜    ⎜⎜1 - ─⎟⎟ ⎟ \n",
      "         ⎜    ⎜⎜    1⎟⎟ ⎟ \n",
      "         ⎜    ⎜⎜─────⎟⎟ ⎟ \n",
      "         ⎝    ⎝⎝  1  ⎠⎠ ⎠ \n",
      "-ρ₀ + ────────────────────\n",
      "                 1        \n",
      "             r⋅1⋅──       \n",
      "                 ρ₀       \n",
      "\n",
      "Best of epoch at R=0.797264\n",
      "-> Raw expression : \n",
      "                         2\n",
      "         ⎛             2⎞ \n",
      "         ⎜    ⎛   1   ⎞ ⎟ \n",
      "      rs⋅⎜1 + ⎜───────⎟ ⎟ \n",
      "         ⎜    ⎜⎛    1⎞⎟ ⎟ \n",
      "         ⎜    ⎜⎜1 - ─⎟⎟ ⎟ \n",
      "         ⎜    ⎜⎜    1⎟⎟ ⎟ \n",
      "         ⎜    ⎜⎜─────⎟⎟ ⎟ \n",
      "         ⎝    ⎝⎝  1  ⎠⎠ ⎠ \n",
      "-ρ₀ + ────────────────────\n",
      "                 1        \n",
      "             r⋅1⋅──       \n",
      "                 ρ₀       \n",
      "\n",
      "\n",
      "=========== Epoch 00001 ===========\n",
      "-> Time 8.53 s\n",
      "\n",
      "Overall best  at R=0.797264\n",
      "-> Raw expression : \n",
      "                         2\n",
      "         ⎛             2⎞ \n",
      "         ⎜    ⎛   1   ⎞ ⎟ \n",
      "      rs⋅⎜1 + ⎜───────⎟ ⎟ \n",
      "         ⎜    ⎜⎛    1⎞⎟ ⎟ \n",
      "         ⎜    ⎜⎜1 - ─⎟⎟ ⎟ \n",
      "         ⎜    ⎜⎜    1⎟⎟ ⎟ \n",
      "         ⎜    ⎜⎜─────⎟⎟ ⎟ \n",
      "         ⎝    ⎝⎝  1  ⎠⎠ ⎠ \n",
      "-ρ₀ + ────────────────────\n",
      "                 1        \n",
      "             r⋅1⋅──       \n",
      "                 ρ₀       \n",
      "\n",
      "Best of epoch at R=0.706093\n",
      "-> Raw expression : \n",
      "        1         \n",
      "──────────────────\n",
      "         r        \n",
      "1⋅────────────────\n",
      "          ⎛     2⎞\n",
      "  1⋅ρ₀⋅rs⋅⎝1 - 1 ⎠\n",
      "\n",
      "\n",
      "=========== Epoch 00002 ===========\n",
      "-> Time 8.75 s\n",
      "\n",
      "Overall best  at R=0.797264\n",
      "-> Raw expression : \n",
      "                         2\n",
      "         ⎛             2⎞ \n",
      "         ⎜    ⎛   1   ⎞ ⎟ \n",
      "      rs⋅⎜1 + ⎜───────⎟ ⎟ \n",
      "         ⎜    ⎜⎛    1⎞⎟ ⎟ \n",
      "         ⎜    ⎜⎜1 - ─⎟⎟ ⎟ \n",
      "         ⎜    ⎜⎜    1⎟⎟ ⎟ \n",
      "         ⎜    ⎜⎜─────⎟⎟ ⎟ \n",
      "         ⎝    ⎝⎝  1  ⎠⎠ ⎠ \n",
      "-ρ₀ + ────────────────────\n",
      "                 1        \n",
      "             r⋅1⋅──       \n",
      "                 ρ₀       \n",
      "\n",
      "Best of epoch at R=0.797264\n",
      "-> Raw expression : \n",
      "                    0.5\n",
      "⎛                 2⎞   \n",
      "⎜   ⎛        ρ₀  ⎞ ⎟   \n",
      "⎜ρ₀⋅⎜-ρ₀ + ──────⎟ ⎟   \n",
      "⎜   ⎜      ⎛ r  ⎞⎟ ⎟   \n",
      "⎜   ⎜      ⎜────⎟⎟ ⎟   \n",
      "⎜   ⎜      ⎜   1⎟⎟ ⎟   \n",
      "⎜   ⎜      ⎜rs⋅─⎟⎟ ⎟   \n",
      "⎜   ⎝      ⎝   1⎠⎠ ⎟   \n",
      "⎜──────────────────⎟   \n",
      "⎝        ρ₀        ⎠   \n",
      "\n",
      "\n",
      "=========== Epoch 00003 ===========\n",
      "-> Time 8.71 s\n",
      "\n",
      "Overall best  at R=0.797264\n",
      "-> Raw expression : \n",
      "                         2\n",
      "         ⎛             2⎞ \n",
      "         ⎜    ⎛   1   ⎞ ⎟ \n",
      "      rs⋅⎜1 + ⎜───────⎟ ⎟ \n",
      "         ⎜    ⎜⎛    1⎞⎟ ⎟ \n",
      "         ⎜    ⎜⎜1 - ─⎟⎟ ⎟ \n",
      "         ⎜    ⎜⎜    1⎟⎟ ⎟ \n",
      "         ⎜    ⎜⎜─────⎟⎟ ⎟ \n",
      "         ⎝    ⎝⎝  1  ⎠⎠ ⎠ \n",
      "-ρ₀ + ────────────────────\n",
      "                 1        \n",
      "             r⋅1⋅──       \n",
      "                 ρ₀       \n",
      "\n",
      "Best of epoch at R=0.797264\n",
      "-> Raw expression : \n",
      "                       1            \n",
      "-ρ₀ + ρ₀⋅1⋅─────────────────────────\n",
      "           ⎛                    0.5⎞\n",
      "           ⎜  ⎛         1      ⎞   ⎟\n",
      "           ⎜r⋅⎜1⋅1⋅────────────⎟   ⎟\n",
      "           ⎜  ⎜    ⎛    1     ⎞⎟   ⎟\n",
      "           ⎜  ⎜    ⎜──────────⎟⎟   ⎟\n",
      "           ⎜  ⎜    ⎜         2⎟⎟   ⎟\n",
      "           ⎜  ⎜    ⎜⎛     1 ⎞ ⎟⎟   ⎟\n",
      "           ⎜  ⎜    ⎜⎜1⋅ρ₀⋅──⎟ ⎟⎟   ⎟\n",
      "           ⎜  ⎝    ⎝⎝     rs⎠ ⎠⎠   ⎟\n",
      "           ⎜───────────────────────⎟\n",
      "           ⎝           ρ₀          ⎠\n",
      "\n",
      "\n",
      "=========== Epoch 00004 ===========\n",
      "-> Time 7.70 s\n",
      "\n",
      "Overall best  at R=0.806741\n",
      "-> Raw expression : \n",
      "   ⎛         0.5    1  ⎞          \n",
      "ρ₀⋅⎜- (1 + 1)    + ────⎟ - ρ₀ + ρ₀\n",
      "   ⎜               ⎛r ⎞⎟          \n",
      "   ⎜               ⎜──⎟⎟          \n",
      "   ⎝               ⎝rs⎠⎠          \n",
      "\n",
      "Best of epoch at R=0.806741\n",
      "-> Raw expression : \n",
      "   ⎛         0.5    1  ⎞          \n",
      "ρ₀⋅⎜- (1 + 1)    + ────⎟ - ρ₀ + ρ₀\n",
      "   ⎜               ⎛r ⎞⎟          \n",
      "   ⎜               ⎜──⎟⎟          \n",
      "   ⎝               ⎝rs⎠⎠          \n",
      "\n",
      "\n",
      "=========== Epoch 00005 ===========\n",
      "-> Time 9.18 s\n",
      "\n",
      "Overall best  at R=0.806741\n",
      "-> Raw expression : \n",
      "   ⎛         0.5    1  ⎞          \n",
      "ρ₀⋅⎜- (1 + 1)    + ────⎟ - ρ₀ + ρ₀\n",
      "   ⎜               ⎛r ⎞⎟          \n",
      "   ⎜               ⎜──⎟⎟          \n",
      "   ⎝               ⎝rs⎠⎠          \n",
      "\n",
      "Best of epoch at R=0.797264\n",
      "-> Raw expression : \n",
      "             ρ₀      \n",
      "-ρ₀ + ───────────────\n",
      "              1    1 \n",
      "      ρ₀⋅1⋅───────⋅──\n",
      "           ⎛  ρ₀ ⎞ rs\n",
      "           ⎜─────⎟   \n",
      "           ⎝1⋅1⋅r⎠   \n",
      "\n",
      "\n",
      "=========== Epoch 00006 ===========\n",
      "-> Time 7.94 s\n",
      "\n",
      "Overall best  at R=0.806741\n",
      "-> Raw expression : \n",
      "   ⎛         0.5    1  ⎞          \n",
      "ρ₀⋅⎜- (1 + 1)    + ────⎟ - ρ₀ + ρ₀\n",
      "   ⎜               ⎛r ⎞⎟          \n",
      "   ⎜               ⎜──⎟⎟          \n",
      "   ⎝               ⎝rs⎠⎠          \n",
      "\n",
      "Best of epoch at R=0.797264\n",
      "-> Raw expression : \n",
      "            rs      \n",
      "-ρ₀ + ──────────────\n",
      "      ⎛     1      ⎞\n",
      "      ⎜────────────⎟\n",
      "      ⎜ρ₀     1    ⎟\n",
      "      ⎜──⋅─────────⎟\n",
      "      ⎜1         1 ⎟\n",
      "      ⎜   r⋅ρ₀⋅1⋅──⎟\n",
      "      ⎝          ρ₀⎠\n",
      "\n",
      "\n",
      "=========== Epoch 00007 ===========\n",
      "-> Time 8.02 s\n",
      "\n",
      "Overall best  at R=0.806741\n",
      "-> Raw expression : \n",
      "   ⎛         0.5    1  ⎞          \n",
      "ρ₀⋅⎜- (1 + 1)    + ────⎟ - ρ₀ + ρ₀\n",
      "   ⎜               ⎛r ⎞⎟          \n",
      "   ⎜               ⎜──⎟⎟          \n",
      "   ⎝               ⎝rs⎠⎠          \n",
      "\n",
      "Best of epoch at R=0.797264\n",
      "-> Raw expression : \n",
      "               ρ₀         \n",
      "-ρ₀ + ────────────────────\n",
      "                1         \n",
      "      1⋅──────────────────\n",
      "           1           1  \n",
      "        ───────⋅1⋅ρ₀⋅─────\n",
      "        ⎛  ρ₀ ⎞      ⎛ ρ₀⎞\n",
      "        ⎜─────⎟      ⎜───⎟\n",
      "        ⎝ρ₀⋅rs⎠      ⎜⎛1⎞⎟\n",
      "                     ⎜⎜─⎟⎟\n",
      "                     ⎝⎝r⎠⎠\n",
      "\n",
      "\n",
      "=========== Epoch 00008 ===========\n",
      "-> Time 11.57 s\n",
      "\n",
      "Overall best  at R=0.806741\n",
      "-> Raw expression : \n",
      "   ⎛         0.5    1  ⎞          \n",
      "ρ₀⋅⎜- (1 + 1)    + ────⎟ - ρ₀ + ρ₀\n",
      "   ⎜               ⎛r ⎞⎟          \n",
      "   ⎜               ⎜──⎟⎟          \n",
      "   ⎝               ⎝rs⎠⎠          \n",
      "\n",
      "Best of epoch at R=0.797264\n",
      "-> Raw expression : \n",
      "          1     \n",
      "-ρ₀ + ──────────\n",
      "      ⎛   r    ⎞\n",
      "      ⎜────────⎟\n",
      "      ⎜⎛  ρ₀  ⎞⎟\n",
      "      ⎜⎜──────⎟⎟\n",
      "      ⎜⎜   1  ⎟⎟\n",
      "      ⎜⎜1⋅────⎟⎟\n",
      "      ⎝⎝  1⋅rs⎠⎠\n",
      "\n",
      "\n",
      "=========== Epoch 00009 ===========\n",
      "-> Time 6.95 s\n",
      "\n",
      "Overall best  at R=0.806741\n",
      "-> Raw expression : \n",
      "   ⎛         0.5    1  ⎞          \n",
      "ρ₀⋅⎜- (1 + 1)    + ────⎟ - ρ₀ + ρ₀\n",
      "   ⎜               ⎛r ⎞⎟          \n",
      "   ⎜               ⎜──⎟⎟          \n",
      "   ⎝               ⎝rs⎠⎠          \n",
      "\n",
      "Best of epoch at R=0.797264\n",
      "-> Raw expression : \n",
      "             rs       \n",
      "-ρ₀ + ────────────────\n",
      "      ⎛      1       ⎞\n",
      "      ⎜──────────────⎟\n",
      "      ⎜        1  1  ⎟\n",
      "      ⎜ρ₀⋅ρ₀⋅1⋅─⋅────⎟\n",
      "      ⎝        1 r⋅ρ₀⎠\n",
      "\n",
      "\n"
     ]
    },
    {
     "name": "stderr",
     "output_type": "stream",
     "text": [
      "/Users/wtenachi/Documents/ASTRO_research/projects/AI_physicist/my_AI_physicist/PhySO/PhySO/physo/learn/monitoring.py:519: UserWarning: Creating legend with loc=\"best\" can be slow with large amounts of data.\n",
      "  self.fig.savefig(self.save_path)\n"
     ]
    },
    {
     "name": "stdout",
     "output_type": "stream",
     "text": [
      "=========== Epoch 00010 ===========\n",
      "-> Time 15.14 s\n",
      "\n",
      "Overall best  at R=0.806741\n",
      "-> Raw expression : \n",
      "   ⎛         0.5    1  ⎞          \n",
      "ρ₀⋅⎜- (1 + 1)    + ────⎟ - ρ₀ + ρ₀\n",
      "   ⎜               ⎛r ⎞⎟          \n",
      "   ⎜               ⎜──⎟⎟          \n",
      "   ⎝               ⎝rs⎠⎠          \n",
      "\n",
      "Best of epoch at R=0.797264\n",
      "-> Raw expression : \n",
      "            ρ₀      \n",
      "-ρ₀ + ──────────────\n",
      "            r⋅ρ₀    \n",
      "      r⋅────────────\n",
      "        ⎛    r     ⎞\n",
      "        ⎜──────────⎟\n",
      "        ⎜     1    ⎟\n",
      "        ⎜1⋅────────⎟\n",
      "        ⎜  ⎛  rs  ⎞⎟\n",
      "        ⎜  ⎜──────⎟⎟\n",
      "        ⎜  ⎜    1 ⎟⎟\n",
      "        ⎜  ⎜1⋅1⋅──⎟⎟\n",
      "        ⎝  ⎝    ρ₀⎠⎠\n",
      "\n",
      "\n",
      "=========== Epoch 00011 ===========\n",
      "-> Time 8.43 s\n",
      "\n",
      "Overall best  at R=0.806741\n",
      "-> Raw expression : \n",
      "   ⎛         0.5    1  ⎞          \n",
      "ρ₀⋅⎜- (1 + 1)    + ────⎟ - ρ₀ + ρ₀\n",
      "   ⎜               ⎛r ⎞⎟          \n",
      "   ⎜               ⎜──⎟⎟          \n",
      "   ⎝               ⎝rs⎠⎠          \n",
      "\n",
      "Best of epoch at R=0.797264\n",
      "-> Raw expression : \n",
      "        ρ₀        \n",
      "──────────────────\n",
      "  1      ρ₀     1 \n",
      "1⋅──⋅──────────⋅──\n",
      "  ρ₀   rs    1  ρ₀\n",
      "     ───── - ──   \n",
      "     ⎛ ρ₀⎞   ρ₀   \n",
      "     ⎜───⎟        \n",
      "     ⎜⎛1⎞⎟        \n",
      "     ⎜⎜─⎟⎟        \n",
      "     ⎝⎝r⎠⎠        \n",
      "\n",
      "\n",
      "=========== Epoch 00012 ===========\n",
      "-> Time 7.26 s\n",
      "\n",
      "Overall best  at R=0.806741\n",
      "-> Raw expression : \n",
      "   ⎛         0.5    1  ⎞          \n",
      "ρ₀⋅⎜- (1 + 1)    + ────⎟ - ρ₀ + ρ₀\n",
      "   ⎜               ⎛r ⎞⎟          \n",
      "   ⎜               ⎜──⎟⎟          \n",
      "   ⎝               ⎝rs⎠⎠          \n",
      "\n",
      "Best of epoch at R=0.797264\n",
      "-> Raw expression : \n",
      "                ρ₀         \n",
      "-ρ₀ + ─────────────────────\n",
      "          1        1    1  \n",
      "      1⋅──────⋅1⋅1⋅──⋅r⋅─⋅1\n",
      "        ⎛ 1  ⎞     ρ₀   1  \n",
      "        ⎜────⎟             \n",
      "        ⎜⎛ρ₀⎞⎟             \n",
      "        ⎜⎜──⎟⎟             \n",
      "        ⎝⎝rs⎠⎠             \n",
      "\n",
      "\n",
      "=========== Epoch 00013 ===========\n",
      "-> Time 8.65 s\n",
      "\n",
      "Overall best  at R=0.806741\n",
      "-> Raw expression : \n",
      "   ⎛         0.5    1  ⎞          \n",
      "ρ₀⋅⎜- (1 + 1)    + ────⎟ - ρ₀ + ρ₀\n",
      "   ⎜               ⎛r ⎞⎟          \n",
      "   ⎜               ⎜──⎟⎟          \n",
      "   ⎝               ⎝rs⎠⎠          \n",
      "\n",
      "Best of epoch at R=0.797264\n",
      "-> Raw expression : \n",
      "            1        \n",
      "-ρ₀ + 1⋅──────────⋅rs\n",
      "        ⎛   1    ⎞   \n",
      "        ⎜────────⎟   \n",
      "        ⎜    1   ⎟   \n",
      "        ⎜1⋅──────⎟   \n",
      "        ⎜      1 ⎟   \n",
      "        ⎜  1⋅r⋅──⎟   \n",
      "        ⎝      ρ₀⎠   \n",
      "\n",
      "\n",
      "=========== Epoch 00014 ===========\n",
      "-> Time 8.34 s\n",
      "\n",
      "Overall best  at R=0.806741\n",
      "-> Raw expression : \n",
      "   ⎛         0.5    1  ⎞          \n",
      "ρ₀⋅⎜- (1 + 1)    + ────⎟ - ρ₀ + ρ₀\n",
      "   ⎜               ⎛r ⎞⎟          \n",
      "   ⎜               ⎜──⎟⎟          \n",
      "   ⎝               ⎝rs⎠⎠          \n",
      "\n",
      "Best of epoch at R=0.797264\n",
      "-> Raw expression : \n",
      "            ρ₀     \n",
      "-ρ₀ + ─────────────\n",
      "      ⎛     r     ⎞\n",
      "      ⎜───────────⎟\n",
      "      ⎜⎛    1    ⎞⎟\n",
      "      ⎜⎜─────────⎟⎟\n",
      "      ⎜⎜⎛   1   ⎞⎟⎟\n",
      "      ⎜⎜⎜───────⎟⎟⎟\n",
      "      ⎜⎜⎜     rs⎟⎟⎟\n",
      "      ⎜⎜⎜1⋅ρ₀⋅──⎟⎟⎟\n",
      "      ⎝⎝⎝     ρ₀⎠⎠⎠\n",
      "\n",
      "\n",
      "=========== Epoch 00015 ===========\n",
      "-> Time 7.75 s\n",
      "\n",
      "Overall best  at R=0.806741\n",
      "-> Raw expression : \n",
      "   ⎛         0.5    1  ⎞          \n",
      "ρ₀⋅⎜- (1 + 1)    + ────⎟ - ρ₀ + ρ₀\n",
      "   ⎜               ⎛r ⎞⎟          \n",
      "   ⎜               ⎜──⎟⎟          \n",
      "   ⎝               ⎝rs⎠⎠          \n",
      "\n",
      "Best of epoch at R=0.797264\n",
      "-> Raw expression : \n",
      "             rs       \n",
      "-ρ₀ + ────────────────\n",
      "      ⎛      1       ⎞\n",
      "      ⎜──────────────⎟\n",
      "      ⎜   1     1    ⎟\n",
      "      ⎜ρ₀⋅──⋅────────⎟\n",
      "      ⎜   rs ⎛  r   ⎞⎟\n",
      "      ⎜      ⎜──────⎟⎟\n",
      "      ⎝      ⎝1⋅1⋅rs⎠⎠\n",
      "\n",
      "\n",
      "=========== Epoch 00016 ===========\n",
      "-> Time 8.87 s\n",
      "\n",
      "Overall best  at R=0.854094\n",
      "-> Raw expression : \n",
      "    -r + rs    \n",
      "───────────────\n",
      "  r            \n",
      "──────⋅(r + rs)\n",
      "⎛ ρ₀ ⎞         \n",
      "⎜────⎟         \n",
      "⎜  1 ⎟         \n",
      "⎜1⋅──⎟         \n",
      "⎝  rs⎠         \n",
      "\n",
      "Best of epoch at R=0.854094\n",
      "-> Raw expression : \n",
      "    -r + rs    \n",
      "───────────────\n",
      "  r            \n",
      "──────⋅(r + rs)\n",
      "⎛ ρ₀ ⎞         \n",
      "⎜────⎟         \n",
      "⎜  1 ⎟         \n",
      "⎜1⋅──⎟         \n",
      "⎝  rs⎠         \n",
      "\n",
      "\n",
      "=========== Epoch 00017 ===========\n",
      "-> Time 8.49 s\n",
      "\n",
      "Overall best  at R=0.854094\n",
      "-> Raw expression : \n",
      "    -r + rs    \n",
      "───────────────\n",
      "  r            \n",
      "──────⋅(r + rs)\n",
      "⎛ ρ₀ ⎞         \n",
      "⎜────⎟         \n",
      "⎜  1 ⎟         \n",
      "⎜1⋅──⎟         \n",
      "⎝  rs⎠         \n",
      "\n",
      "Best of epoch at R=0.797264\n",
      "-> Raw expression : \n",
      "-r + rs \n",
      "────────\n",
      "⎛  r   ⎞\n",
      "⎜──────⎟\n",
      "⎝1⋅1⋅ρ₀⎠\n",
      "\n",
      "\n",
      "=========== Epoch 00018 ===========\n",
      "-> Time 7.35 s\n",
      "\n",
      "Overall best  at R=0.854094\n",
      "-> Raw expression : \n",
      "    -r + rs    \n",
      "───────────────\n",
      "  r            \n",
      "──────⋅(r + rs)\n",
      "⎛ ρ₀ ⎞         \n",
      "⎜────⎟         \n",
      "⎜  1 ⎟         \n",
      "⎜1⋅──⎟         \n",
      "⎝  rs⎠         \n",
      "\n",
      "Best of epoch at R=0.797264\n",
      "-> Raw expression : \n",
      "   ⎛   1          rs    ⎞\n",
      "rs⋅⎜- ──── + ───────────⎟\n",
      "   ⎜  ⎛rs⎞            1 ⎟\n",
      "   ⎜  ⎜──⎟   r⋅rs⋅1⋅1⋅──⎟\n",
      "   ⎝  ⎝ρ₀⎠            ρ₀⎠\n",
      "\n",
      "\n",
      "=========== Epoch 00019 ===========\n",
      "-> Time 7.20 s\n",
      "\n",
      "Overall best  at R=0.854094\n",
      "-> Raw expression : \n",
      "    -r + rs    \n",
      "───────────────\n",
      "  r            \n",
      "──────⋅(r + rs)\n",
      "⎛ ρ₀ ⎞         \n",
      "⎜────⎟         \n",
      "⎜  1 ⎟         \n",
      "⎜1⋅──⎟         \n",
      "⎝  rs⎠         \n",
      "\n",
      "Best of epoch at R=0.797264\n",
      "-> Raw expression : \n",
      "          ρ₀    \n",
      "-ρ₀ + ──────────\n",
      "      ⎛   1    ⎞\n",
      "      ⎜────────⎟\n",
      "      ⎜⎛rs⋅rs ⎞⎟\n",
      "      ⎜⎜──────⎟⎟\n",
      "      ⎝⎝1⋅r⋅rs⎠⎠\n",
      "\n",
      "\n"
     ]
    },
    {
     "name": "stderr",
     "output_type": "stream",
     "text": [
      "/Users/wtenachi/Documents/ASTRO_research/projects/AI_physicist/my_AI_physicist/PhySO/PhySO/physo/learn/monitoring.py:519: UserWarning: Creating legend with loc=\"best\" can be slow with large amounts of data.\n",
      "  self.fig.savefig(self.save_path)\n"
     ]
    },
    {
     "name": "stdout",
     "output_type": "stream",
     "text": [
      "=========== Epoch 00020 ===========\n",
      "-> Time 14.94 s\n",
      "\n",
      "Overall best  at R=0.854094\n",
      "-> Raw expression : \n",
      "    -r + rs    \n",
      "───────────────\n",
      "  r            \n",
      "──────⋅(r + rs)\n",
      "⎛ ρ₀ ⎞         \n",
      "⎜────⎟         \n",
      "⎜  1 ⎟         \n",
      "⎜1⋅──⎟         \n",
      "⎝  rs⎠         \n",
      "\n",
      "Best of epoch at R=0.797264\n",
      "-> Raw expression : \n",
      "     1           1         \n",
      "r⋅rs⋅──⋅1⋅rs⋅───────── - ρ₀\n",
      "     rs      ⎛   1   ⎞     \n",
      "             ⎜───────⎟     \n",
      "             ⎜⎛  ρ₀ ⎞⎟     \n",
      "             ⎜⎜─────⎟⎟     \n",
      "             ⎜⎜⎛ r ⎞⎟⎟     \n",
      "             ⎜⎜⎜───⎟⎟⎟     \n",
      "             ⎜⎜⎜⎛1⎞⎟⎟⎟     \n",
      "             ⎜⎜⎜⎜─⎟⎟⎟⎟     \n",
      "             ⎝⎝⎝⎝r⎠⎠⎠⎠     \n",
      "\n",
      "\n",
      "=========== Epoch 00021 ===========\n",
      "-> Time 7.31 s\n",
      "\n",
      "Overall best  at R=0.854094\n",
      "-> Raw expression : \n",
      "    -r + rs    \n",
      "───────────────\n",
      "  r            \n",
      "──────⋅(r + rs)\n",
      "⎛ ρ₀ ⎞         \n",
      "⎜────⎟         \n",
      "⎜  1 ⎟         \n",
      "⎜1⋅──⎟         \n",
      "⎝  rs⎠         \n",
      "\n",
      "Best of epoch at R=0.797264\n",
      "-> Raw expression : \n",
      "      ρ₀⋅rs⋅rs\n",
      "-ρ₀ + ────────\n",
      "       r⋅1⋅rs \n",
      "\n",
      "\n",
      "=========== Epoch 00022 ===========\n",
      "-> Time 7.49 s\n",
      "\n",
      "Overall best  at R=0.854094\n",
      "-> Raw expression : \n",
      "    -r + rs    \n",
      "───────────────\n",
      "  r            \n",
      "──────⋅(r + rs)\n",
      "⎛ ρ₀ ⎞         \n",
      "⎜────⎟         \n",
      "⎜  1 ⎟         \n",
      "⎜1⋅──⎟         \n",
      "⎝  rs⎠         \n",
      "\n",
      "Best of epoch at R=0.797264\n",
      "-> Raw expression : \n",
      "           ρ₀⋅rs      \n",
      "-ρ₀ + ────────────────\n",
      "        1       r     \n",
      "      1⋅──⋅───────────\n",
      "        ρ₀        1   \n",
      "           rs⋅1⋅──────\n",
      "                ⎛ ρ₀ ⎞\n",
      "                ⎜────⎟\n",
      "                ⎜⎛1 ⎞⎟\n",
      "                ⎜⎜──⎟⎟\n",
      "                ⎝⎝rs⎠⎠\n",
      "\n",
      "\n",
      "=========== Epoch 00023 ===========\n",
      "-> Time 6.85 s\n",
      "\n",
      "Overall best  at R=0.854094\n",
      "-> Raw expression : \n",
      "    -r + rs    \n",
      "───────────────\n",
      "  r            \n",
      "──────⋅(r + rs)\n",
      "⎛ ρ₀ ⎞         \n",
      "⎜────⎟         \n",
      "⎜  1 ⎟         \n",
      "⎜1⋅──⎟         \n",
      "⎝  rs⎠         \n",
      "\n",
      "Best of epoch at R=0.797264\n",
      "-> Raw expression : \n",
      "         rs   \n",
      "-ρ₀ + ────────\n",
      "            1 \n",
      "      1⋅r⋅1⋅──\n",
      "            ρ₀\n",
      "\n",
      "\n",
      "=========== Epoch 00024 ===========\n",
      "-> Time 7.51 s\n",
      "\n",
      "Overall best  at R=0.854094\n",
      "-> Raw expression : \n",
      "    -r + rs    \n",
      "───────────────\n",
      "  r            \n",
      "──────⋅(r + rs)\n",
      "⎛ ρ₀ ⎞         \n",
      "⎜────⎟         \n",
      "⎜  1 ⎟         \n",
      "⎜1⋅──⎟         \n",
      "⎝  rs⎠         \n",
      "\n",
      "Best of epoch at R=0.803539\n",
      "-> Raw expression : \n",
      "    ρ₀    ρ₀⋅rs\n",
      "- ───── + ─────\n",
      "  1 - 1    1⋅r \n",
      "\n",
      "\n",
      "=========== Epoch 00025 ===========\n",
      "-> Time 8.00 s\n",
      "\n",
      "Overall best  at R=0.854094\n",
      "-> Raw expression : \n",
      "    -r + rs    \n",
      "───────────────\n",
      "  r            \n",
      "──────⋅(r + rs)\n",
      "⎛ ρ₀ ⎞         \n",
      "⎜────⎟         \n",
      "⎜  1 ⎟         \n",
      "⎜1⋅──⎟         \n",
      "⎝  rs⎠         \n",
      "\n",
      "Best of epoch at R=0.797264\n",
      "-> Raw expression : \n",
      "      ρ₀⋅rs⋅rs\n",
      "-ρ₀ + ────────\n",
      "        r⋅rs  \n",
      "\n",
      "\n",
      "=========== Epoch 00026 ===========\n",
      "-> Time 7.15 s\n",
      "\n",
      "Overall best  at R=0.854094\n",
      "-> Raw expression : \n",
      "    -r + rs    \n",
      "───────────────\n",
      "  r            \n",
      "──────⋅(r + rs)\n",
      "⎛ ρ₀ ⎞         \n",
      "⎜────⎟         \n",
      "⎜  1 ⎟         \n",
      "⎜1⋅──⎟         \n",
      "⎝  rs⎠         \n",
      "\n",
      "Best of epoch at R=0.797264\n",
      "-> Raw expression : \n",
      "           rs    \n",
      "-ρ₀ + ───────────\n",
      "      ⎛    r    ⎞\n",
      "      ⎜─────────⎟\n",
      "      ⎜⎛   rs  ⎞⎟\n",
      "      ⎜⎜───────⎟⎟\n",
      "      ⎜⎜     1 ⎟⎟\n",
      "      ⎜⎜1⋅rs⋅──⎟⎟\n",
      "      ⎝⎝     ρ₀⎠⎠\n",
      "\n",
      "\n",
      "=========== Epoch 00027 ===========\n",
      "-> Time 8.34 s\n",
      "\n",
      "Overall best  at R=0.854094\n",
      "-> Raw expression : \n",
      "    -r + rs    \n",
      "───────────────\n",
      "  r            \n",
      "──────⋅(r + rs)\n",
      "⎛ ρ₀ ⎞         \n",
      "⎜────⎟         \n",
      "⎜  1 ⎟         \n",
      "⎜1⋅──⎟         \n",
      "⎝  rs⎠         \n",
      "\n",
      "Best of epoch at R=0.797264\n",
      "-> Raw expression : \n",
      "             1        \n",
      "-ρ₀ + ────────────────\n",
      "      ⎛      1       ⎞\n",
      "      ⎜──────────────⎟\n",
      "      ⎜        ρ₀    ⎟\n",
      "      ⎜rs⋅───────────⎟\n",
      "      ⎜          ρ₀  ⎟\n",
      "      ⎜   r⋅rs⋅──────⎟\n",
      "      ⎜        ⎛ rs ⎞⎟\n",
      "      ⎜        ⎜────⎟⎟\n",
      "      ⎜        ⎜⎛1 ⎞⎟⎟\n",
      "      ⎜        ⎜⎜──⎟⎟⎟\n",
      "      ⎝        ⎝⎝ρ₀⎠⎠⎠\n",
      "\n",
      "\n",
      "=========== Epoch 00028 ===========\n",
      "-> Time 7.83 s\n",
      "\n",
      "Overall best  at R=0.854094\n",
      "-> Raw expression : \n",
      "    -r + rs    \n",
      "───────────────\n",
      "  r            \n",
      "──────⋅(r + rs)\n",
      "⎛ ρ₀ ⎞         \n",
      "⎜────⎟         \n",
      "⎜  1 ⎟         \n",
      "⎜1⋅──⎟         \n",
      "⎝  rs⎠         \n",
      "\n",
      "Best of epoch at R=0.797264\n",
      "-> Raw expression : \n",
      "                 1       \n",
      "-ρ₀ + rs⋅1⋅──────────────\n",
      "           ⎛     ρ₀     ⎞\n",
      "           ⎜────────────⎟\n",
      "           ⎜   ρ₀   1   ⎟\n",
      "           ⎜r⋅───⋅──────⎟\n",
      "           ⎜  r⋅r   1   ⎟\n",
      "           ⎜      1⋅──⋅1⎟\n",
      "           ⎝        ρ₀  ⎠\n",
      "\n",
      "\n",
      "=========== Epoch 00029 ===========\n",
      "-> Time 8.98 s\n",
      "\n",
      "Overall best  at R=0.854094\n",
      "-> Raw expression : \n",
      "    -r + rs    \n",
      "───────────────\n",
      "  r            \n",
      "──────⋅(r + rs)\n",
      "⎛ ρ₀ ⎞         \n",
      "⎜────⎟         \n",
      "⎜  1 ⎟         \n",
      "⎜1⋅──⎟         \n",
      "⎝  rs⎠         \n",
      "\n",
      "Best of epoch at R=0.797264\n",
      "-> Raw expression : \n",
      "        rs⋅rs  \n",
      "-ρ₀ + ─────────\n",
      "             1 \n",
      "      rs⋅r⋅1⋅──\n",
      "             ρ₀\n",
      "\n",
      "\n"
     ]
    },
    {
     "name": "stderr",
     "output_type": "stream",
     "text": [
      "/Users/wtenachi/Documents/ASTRO_research/projects/AI_physicist/my_AI_physicist/PhySO/PhySO/physo/learn/monitoring.py:519: UserWarning: Creating legend with loc=\"best\" can be slow with large amounts of data.\n",
      "  self.fig.savefig(self.save_path)\n"
     ]
    },
    {
     "name": "stdout",
     "output_type": "stream",
     "text": [
      "=========== Epoch 00030 ===========\n",
      "-> Time 16.00 s\n",
      "\n",
      "Overall best  at R=0.854094\n",
      "-> Raw expression : \n",
      "    -r + rs    \n",
      "───────────────\n",
      "  r            \n",
      "──────⋅(r + rs)\n",
      "⎛ ρ₀ ⎞         \n",
      "⎜────⎟         \n",
      "⎜  1 ⎟         \n",
      "⎜1⋅──⎟         \n",
      "⎝  rs⎠         \n",
      "\n",
      "Best of epoch at R=0.797264\n",
      "-> Raw expression : \n",
      "             1      \n",
      "-ρ₀ + 1⋅────────────\n",
      "        ⎛    r     ⎞\n",
      "        ⎜──────────⎟\n",
      "        ⎜⎛  r⋅rs  ⎞⎟\n",
      "        ⎜⎜────────⎟⎟\n",
      "        ⎜⎜⎛  r   ⎞⎟⎟\n",
      "        ⎜⎜⎜──────⎟⎟⎟\n",
      "        ⎜⎜⎜⎛ 1  ⎞⎟⎟⎟\n",
      "        ⎜⎜⎜⎜────⎟⎟⎟⎟\n",
      "        ⎜⎜⎜⎜  1 ⎟⎟⎟⎟\n",
      "        ⎜⎜⎜⎜1⋅──⎟⎟⎟⎟\n",
      "        ⎝⎝⎝⎝  ρ₀⎠⎠⎠⎠\n",
      "\n",
      "\n",
      "=========== Epoch 00031 ===========\n",
      "-> Time 8.86 s\n",
      "\n",
      "Overall best  at R=0.854094\n",
      "-> Raw expression : \n",
      "    -r + rs    \n",
      "───────────────\n",
      "  r            \n",
      "──────⋅(r + rs)\n",
      "⎛ ρ₀ ⎞         \n",
      "⎜────⎟         \n",
      "⎜  1 ⎟         \n",
      "⎜1⋅──⎟         \n",
      "⎝  rs⎠         \n",
      "\n",
      "Best of epoch at R=0.797264\n",
      "-> Raw expression : \n",
      "           1      \n",
      "-ρ₀ + ────────────\n",
      "      ⎛    r     ⎞\n",
      "      ⎜──────────⎟\n",
      "      ⎜⎛   ρ₀   ⎞⎟\n",
      "      ⎜⎜────────⎟⎟\n",
      "      ⎜⎜⎛  ρ₀  ⎞⎟⎟\n",
      "      ⎜⎜⎜──────⎟⎟⎟\n",
      "      ⎜⎜⎜⎛ rs ⎞⎟⎟⎟\n",
      "      ⎜⎜⎜⎜────⎟⎟⎟⎟\n",
      "      ⎜⎜⎜⎜⎛1 ⎞⎟⎟⎟⎟\n",
      "      ⎜⎜⎜⎜⎜──⎟⎟⎟⎟⎟\n",
      "      ⎝⎝⎝⎝⎝ρ₀⎠⎠⎠⎠⎠\n",
      "\n",
      "\n",
      "=========== Epoch 00032 ===========\n",
      "-> Time 8.14 s\n",
      "\n",
      "Overall best  at R=0.854094\n",
      "-> Raw expression : \n",
      "    -r + rs    \n",
      "───────────────\n",
      "  r            \n",
      "──────⋅(r + rs)\n",
      "⎛ ρ₀ ⎞         \n",
      "⎜────⎟         \n",
      "⎜  1 ⎟         \n",
      "⎜1⋅──⎟         \n",
      "⎝  rs⎠         \n",
      "\n",
      "Best of epoch at R=0.797264\n",
      "-> Raw expression : \n",
      "      1        1      \n",
      "-ρ₀ + ─⋅1⋅────────────\n",
      "      r   ⎛    1     ⎞\n",
      "          ⎜──────────⎟\n",
      "          ⎜⎛ρ₀⋅rs⋅rs⎞⎟\n",
      "          ⎜⎜────────⎟⎟\n",
      "          ⎝⎝   rs   ⎠⎠\n",
      "\n",
      "\n",
      "=========== Epoch 00033 ===========\n",
      "-> Time 8.18 s\n",
      "\n",
      "Overall best  at R=0.854094\n",
      "-> Raw expression : \n",
      "    -r + rs    \n",
      "───────────────\n",
      "  r            \n",
      "──────⋅(r + rs)\n",
      "⎛ ρ₀ ⎞         \n",
      "⎜────⎟         \n",
      "⎜  1 ⎟         \n",
      "⎜1⋅──⎟         \n",
      "⎝  rs⎠         \n",
      "\n",
      "Best of epoch at R=0.797264\n",
      "-> Raw expression : \n",
      "            ρ₀⋅rs      \n",
      "-ρ₀ + ─────────────────\n",
      "          1      r     \n",
      "      1⋅1⋅──⋅──────────\n",
      "          ρ₀      1  1 \n",
      "             1⋅rs⋅──⋅──\n",
      "                  ρ₀ rs\n",
      "\n",
      "\n",
      "=========== Epoch 00034 ===========\n",
      "-> Time 7.73 s\n",
      "\n",
      "Overall best  at R=0.854094\n",
      "-> Raw expression : \n",
      "    -r + rs    \n",
      "───────────────\n",
      "  r            \n",
      "──────⋅(r + rs)\n",
      "⎛ ρ₀ ⎞         \n",
      "⎜────⎟         \n",
      "⎜  1 ⎟         \n",
      "⎜1⋅──⎟         \n",
      "⎝  rs⎠         \n",
      "\n",
      "Best of epoch at R=0.797264\n",
      "-> Raw expression : \n",
      "          ρ₀   \n",
      "-ρ₀ + ─────────\n",
      "        r    ρ₀\n",
      "      ──────⋅──\n",
      "      ⎛ 1  ⎞ rs\n",
      "      ⎜────⎟   \n",
      "      ⎜  1 ⎟   \n",
      "      ⎜1⋅──⎟   \n",
      "      ⎝  ρ₀⎠   \n",
      "\n",
      "\n",
      "=========== Epoch 00035 ===========\n",
      "-> Time 8.27 s\n",
      "\n",
      "Overall best  at R=0.854094\n",
      "-> Raw expression : \n",
      "    -r + rs    \n",
      "───────────────\n",
      "  r            \n",
      "──────⋅(r + rs)\n",
      "⎛ ρ₀ ⎞         \n",
      "⎜────⎟         \n",
      "⎜  1 ⎟         \n",
      "⎜1⋅──⎟         \n",
      "⎝  rs⎠         \n",
      "\n",
      "Best of epoch at R=0.797264\n",
      "-> Raw expression : \n",
      "           rs    \n",
      "-ρ₀ + ───────────\n",
      "      ⎛    1    ⎞\n",
      "      ⎜─────────⎟\n",
      "      ⎜ rs   1  ⎟\n",
      "      ⎜────⋅────⎟\n",
      "      ⎜1⋅rs ⎛r ⎞⎟\n",
      "      ⎜     ⎜──⎟⎟\n",
      "      ⎝     ⎝ρ₀⎠⎠\n",
      "\n",
      "\n",
      "=========== Epoch 00036 ===========\n",
      "-> Time 8.50 s\n",
      "\n",
      "Overall best  at R=0.854094\n",
      "-> Raw expression : \n",
      "    -r + rs    \n",
      "───────────────\n",
      "  r            \n",
      "──────⋅(r + rs)\n",
      "⎛ ρ₀ ⎞         \n",
      "⎜────⎟         \n",
      "⎜  1 ⎟         \n",
      "⎜1⋅──⎟         \n",
      "⎝  rs⎠         \n",
      "\n",
      "Best of epoch at R=0.797264\n",
      "-> Raw expression : \n",
      "        1      1      \n",
      "-ρ₀ + 1⋅─⋅────────────\n",
      "        r       1     \n",
      "          1⋅──────────\n",
      "            ⎛   ρ₀   ⎞\n",
      "            ⎜────────⎟\n",
      "            ⎜⎛  ρ₀  ⎞⎟\n",
      "            ⎜⎜──────⎟⎟\n",
      "            ⎜⎜⎛ rs ⎞⎟⎟\n",
      "            ⎜⎜⎜────⎟⎟⎟\n",
      "            ⎜⎜⎜⎛1 ⎞⎟⎟⎟\n",
      "            ⎜⎜⎜⎜──⎟⎟⎟⎟\n",
      "            ⎝⎝⎝⎝ρ₀⎠⎠⎠⎠\n",
      "\n",
      "\n",
      "=========== Epoch 00037 ===========\n",
      "-> Time 10.13 s\n",
      "\n",
      "Overall best  at R=0.854094\n",
      "-> Raw expression : \n",
      "    -r + rs    \n",
      "───────────────\n",
      "  r            \n",
      "──────⋅(r + rs)\n",
      "⎛ ρ₀ ⎞         \n",
      "⎜────⎟         \n",
      "⎜  1 ⎟         \n",
      "⎜1⋅──⎟         \n",
      "⎝  rs⎠         \n",
      "\n",
      "Best of epoch at R=0.797264\n",
      "-> Raw expression : \n",
      "           ρ₀     \n",
      "-ρ₀ + ────────────\n",
      "              ρ₀  \n",
      "      1⋅1⋅r⋅──────\n",
      "            ⎛ rs ⎞\n",
      "            ⎜────⎟\n",
      "            ⎜⎛1 ⎞⎟\n",
      "            ⎜⎜──⎟⎟\n",
      "            ⎝⎝ρ₀⎠⎠\n",
      "\n",
      "\n",
      "=========== Epoch 00038 ===========\n",
      "-> Time 8.10 s\n",
      "\n",
      "Overall best  at R=0.854094\n",
      "-> Raw expression : \n",
      "    -r + rs    \n",
      "───────────────\n",
      "  r            \n",
      "──────⋅(r + rs)\n",
      "⎛ ρ₀ ⎞         \n",
      "⎜────⎟         \n",
      "⎜  1 ⎟         \n",
      "⎜1⋅──⎟         \n",
      "⎝  rs⎠         \n",
      "\n",
      "Best of epoch at R=0.797264\n",
      "-> Raw expression : \n",
      "           rs     \n",
      "-ρ₀ + ────────────\n",
      "           1    1 \n",
      "      ρ₀⋅1⋅──⋅r⋅──\n",
      "           ρ₀   ρ₀\n",
      "\n",
      "\n",
      "=========== Epoch 00039 ===========\n",
      "-> Time 8.13 s\n",
      "\n",
      "Overall best  at R=0.854094\n",
      "-> Raw expression : \n",
      "    -r + rs    \n",
      "───────────────\n",
      "  r            \n",
      "──────⋅(r + rs)\n",
      "⎛ ρ₀ ⎞         \n",
      "⎜────⎟         \n",
      "⎜  1 ⎟         \n",
      "⎜1⋅──⎟         \n",
      "⎝  rs⎠         \n",
      "\n",
      "Best of epoch at R=0.797264\n",
      "-> Raw expression : \n",
      "            rs     \n",
      "-ρ₀ + ─────────────\n",
      "      ⎛     ρ₀    ⎞\n",
      "      ⎜───────────⎟\n",
      "      ⎜ 1     1   ⎟\n",
      "      ⎜────⋅──────⎟\n",
      "      ⎜  1     1  ⎟\n",
      "      ⎜1⋅── 1⋅────⎟\n",
      "      ⎜  ρ₀   ⎛ρ₀⎞⎟\n",
      "      ⎜       ⎜──⎟⎟\n",
      "      ⎝       ⎝r ⎠⎠\n",
      "\n",
      "\n"
     ]
    },
    {
     "name": "stderr",
     "output_type": "stream",
     "text": [
      "/Users/wtenachi/Documents/ASTRO_research/projects/AI_physicist/my_AI_physicist/PhySO/PhySO/physo/learn/monitoring.py:519: UserWarning: Creating legend with loc=\"best\" can be slow with large amounts of data.\n",
      "  self.fig.savefig(self.save_path)\n"
     ]
    },
    {
     "name": "stdout",
     "output_type": "stream",
     "text": [
      "=========== Epoch 00040 ===========\n",
      "-> Time 16.59 s\n",
      "\n",
      "Overall best  at R=0.854094\n",
      "-> Raw expression : \n",
      "    -r + rs    \n",
      "───────────────\n",
      "  r            \n",
      "──────⋅(r + rs)\n",
      "⎛ ρ₀ ⎞         \n",
      "⎜────⎟         \n",
      "⎜  1 ⎟         \n",
      "⎜1⋅──⎟         \n",
      "⎝  rs⎠         \n",
      "\n",
      "Best of epoch at R=0.797264\n",
      "-> Raw expression : \n",
      "        1   1    1    1   \n",
      "-ρ₀ + 1⋅─⋅──────⋅─⋅───────\n",
      "        1 ⎛ 1  ⎞ r ⎛  ρ₀ ⎞\n",
      "          ⎜────⎟   ⎜─────⎟\n",
      "          ⎝1⋅ρ₀⎠   ⎝ρ₀⋅rs⎠\n",
      "\n",
      "\n",
      "=========== Epoch 00041 ===========\n",
      "-> Time 9.19 s\n",
      "\n",
      "Overall best  at R=0.854094\n",
      "-> Raw expression : \n",
      "    -r + rs    \n",
      "───────────────\n",
      "  r            \n",
      "──────⋅(r + rs)\n",
      "⎛ ρ₀ ⎞         \n",
      "⎜────⎟         \n",
      "⎜  1 ⎟         \n",
      "⎜1⋅──⎟         \n",
      "⎝  rs⎠         \n",
      "\n",
      "Best of epoch at R=0.797264\n",
      "-> Raw expression : \n",
      "           1     1  1  \n",
      "-ρ₀ + rs⋅1⋅──⋅rs⋅─⋅────\n",
      "           rs    r   1 \n",
      "                   1⋅──\n",
      "                     ρ₀\n",
      "\n",
      "\n",
      "=========== Epoch 00042 ===========\n",
      "-> Time 8.46 s\n",
      "\n",
      "Overall best  at R=0.854094\n",
      "-> Raw expression : \n",
      "    -r + rs    \n",
      "───────────────\n",
      "  r            \n",
      "──────⋅(r + rs)\n",
      "⎛ ρ₀ ⎞         \n",
      "⎜────⎟         \n",
      "⎜  1 ⎟         \n",
      "⎜1⋅──⎟         \n",
      "⎝  rs⎠         \n",
      "\n",
      "Best of epoch at R=0.797264\n",
      "-> Raw expression : \n",
      "           rs    \n",
      "-ρ₀ + ───────────\n",
      "      ⎛   r⋅ρ₀  ⎞\n",
      "      ⎜─────────⎟\n",
      "      ⎜     1   ⎟\n",
      "      ⎜ρ₀⋅──────⎟\n",
      "      ⎜      1  ⎟\n",
      "      ⎜   1⋅────⎟\n",
      "      ⎜     ⎛ρ₀⎞⎟\n",
      "      ⎜     ⎜──⎟⎟\n",
      "      ⎝     ⎝1 ⎠⎠\n",
      "\n",
      "\n",
      "=========== Epoch 00043 ===========\n",
      "-> Time 7.35 s\n",
      "\n",
      "Overall best  at R=0.854094\n",
      "-> Raw expression : \n",
      "    -r + rs    \n",
      "───────────────\n",
      "  r            \n",
      "──────⋅(r + rs)\n",
      "⎛ ρ₀ ⎞         \n",
      "⎜────⎟         \n",
      "⎜  1 ⎟         \n",
      "⎜1⋅──⎟         \n",
      "⎝  rs⎠         \n",
      "\n",
      "Best of epoch at R=0.797264\n",
      "-> Raw expression : \n",
      "            1      \n",
      "-ρ₀ + ─────────────\n",
      "             r     \n",
      "      r⋅───────────\n",
      "             1     \n",
      "        r⋅1⋅────⋅rs\n",
      "            ⎛1 ⎞   \n",
      "            ⎜──⎟   \n",
      "            ⎝ρ₀⎠   \n",
      "\n",
      "\n",
      "=========== Epoch 00044 ===========\n",
      "-> Time 7.75 s\n",
      "\n",
      "Overall best  at R=0.854094\n",
      "-> Raw expression : \n",
      "    -r + rs    \n",
      "───────────────\n",
      "  r            \n",
      "──────⋅(r + rs)\n",
      "⎛ ρ₀ ⎞         \n",
      "⎜────⎟         \n",
      "⎜  1 ⎟         \n",
      "⎜1⋅──⎟         \n",
      "⎝  rs⎠         \n",
      "\n",
      "Best of epoch at R=0.797264\n",
      "-> Raw expression : \n",
      "             1        \n",
      "-ρ₀ + ────────────────\n",
      "              1       \n",
      "      r⋅──────────────\n",
      "                1     \n",
      "        ρ₀⋅───────────\n",
      "             1    1   \n",
      "           1⋅──⋅──────\n",
      "             ρ₀ ⎛ 1  ⎞\n",
      "                ⎜────⎟\n",
      "                ⎜⎛ρ₀⎞⎟\n",
      "                ⎜⎜──⎟⎟\n",
      "                ⎝⎝rs⎠⎠\n",
      "\n",
      "\n",
      "=========== Epoch 00045 ===========\n",
      "-> Time 7.83 s\n",
      "\n",
      "Overall best  at R=0.854094\n",
      "-> Raw expression : \n",
      "    -r + rs    \n",
      "───────────────\n",
      "  r            \n",
      "──────⋅(r + rs)\n",
      "⎛ ρ₀ ⎞         \n",
      "⎜────⎟         \n",
      "⎜  1 ⎟         \n",
      "⎜1⋅──⎟         \n",
      "⎝  rs⎠         \n",
      "\n",
      "Best of epoch at R=0.797264\n",
      "-> Raw expression : \n",
      "               rs        \n",
      "-ρ₀ + ───────────────────\n",
      "      ⎛        ρ₀       ⎞\n",
      "      ⎜─────────────────⎟\n",
      "      ⎜     1       1   ⎟\n",
      "      ⎜1⋅────────⋅──────⎟\n",
      "      ⎜      1        1 ⎟\n",
      "      ⎜  1⋅────── 1⋅1⋅──⎟\n",
      "      ⎜    ⎛ 1  ⎞     ρ₀⎟\n",
      "      ⎜    ⎜────⎟       ⎟\n",
      "      ⎜    ⎜⎛r ⎞⎟       ⎟\n",
      "      ⎜    ⎜⎜──⎟⎟       ⎟\n",
      "      ⎝    ⎝⎝ρ₀⎠⎠       ⎠\n",
      "\n",
      "\n",
      "=========== Epoch 00046 ===========\n",
      "-> Time 9.19 s\n",
      "\n",
      "Overall best  at R=0.854094\n",
      "-> Raw expression : \n",
      "    -r + rs    \n",
      "───────────────\n",
      "  r            \n",
      "──────⋅(r + rs)\n",
      "⎛ ρ₀ ⎞         \n",
      "⎜────⎟         \n",
      "⎜  1 ⎟         \n",
      "⎜1⋅──⎟         \n",
      "⎝  rs⎠         \n",
      "\n",
      "Best of epoch at R=0.797264\n",
      "-> Raw expression : \n",
      "     1       rs  \n",
      "- 1⋅──── + ──────\n",
      "    ⎛1 ⎞     1   \n",
      "    ⎜──⎟   r⋅──⋅1\n",
      "    ⎝ρ₀⎠     ρ₀  \n",
      "\n",
      "\n",
      "=========== Epoch 00047 ===========\n",
      "-> Time 9.20 s\n",
      "\n",
      "Overall best  at R=0.854094\n",
      "-> Raw expression : \n",
      "    -r + rs    \n",
      "───────────────\n",
      "  r            \n",
      "──────⋅(r + rs)\n",
      "⎛ ρ₀ ⎞         \n",
      "⎜────⎟         \n",
      "⎜  1 ⎟         \n",
      "⎜1⋅──⎟         \n",
      "⎝  rs⎠         \n",
      "\n",
      "Best of epoch at R=0.797264\n",
      "-> Raw expression : \n",
      "              1         \n",
      "-ρ₀ + ──────────────────\n",
      "      ⎛       r        ⎞\n",
      "      ⎜────────────────⎟\n",
      "      ⎜       1     1  ⎟\n",
      "      ⎜1⋅ρ₀⋅──────⋅────⎟\n",
      "      ⎜     ⎛ 1  ⎞ ⎛ρ₀⎞⎟\n",
      "      ⎜     ⎜────⎟ ⎜──⎟⎟\n",
      "      ⎝     ⎝ρ₀⋅1⎠ ⎝rs⎠⎠\n",
      "\n",
      "\n",
      "=========== Epoch 00048 ===========\n",
      "-> Time 7.28 s\n",
      "\n",
      "Overall best  at R=0.854094\n",
      "-> Raw expression : \n",
      "    -r + rs    \n",
      "───────────────\n",
      "  r            \n",
      "──────⋅(r + rs)\n",
      "⎛ ρ₀ ⎞         \n",
      "⎜────⎟         \n",
      "⎜  1 ⎟         \n",
      "⎜1⋅──⎟         \n",
      "⎝  rs⎠         \n",
      "\n",
      "Best of epoch at R=0.797264\n",
      "-> Raw expression : \n",
      "              rs        \n",
      "-ρ₀ + ──────────────────\n",
      "      ⎛       1        ⎞\n",
      "      ⎜────────────────⎟\n",
      "      ⎜  1  1   1   1  ⎟\n",
      "      ⎜1⋅─⋅────⋅──⋅────⎟\n",
      "      ⎜  1 ⎛1 ⎞ ρ₀ ⎛r ⎞⎟\n",
      "      ⎜    ⎜──⎟    ⎜──⎟⎟\n",
      "      ⎝    ⎝ρ₀⎠    ⎝ρ₀⎠⎠\n",
      "\n",
      "\n",
      "=========== Epoch 00049 ===========\n",
      "-> Time 8.85 s\n",
      "\n",
      "Overall best  at R=0.854094\n",
      "-> Raw expression : \n",
      "    -r + rs    \n",
      "───────────────\n",
      "  r            \n",
      "──────⋅(r + rs)\n",
      "⎛ ρ₀ ⎞         \n",
      "⎜────⎟         \n",
      "⎜  1 ⎟         \n",
      "⎜1⋅──⎟         \n",
      "⎝  rs⎠         \n",
      "\n",
      "Best of epoch at R=0.823240\n",
      "-> Raw expression : \n",
      "             rs      \n",
      "-ρ₀ + ───────────────\n",
      "      ⎛      r      ⎞\n",
      "      ⎜─────────────⎟\n",
      "      ⎜⎛   ρ₀⋅ρ₀   ⎞⎟\n",
      "      ⎜⎜───────────⎟⎟\n",
      "      ⎜⎜      1    ⎟⎟\n",
      "      ⎜⎜1⋅─────────⎟⎟\n",
      "      ⎜⎜    1    1 ⎟⎟\n",
      "      ⎜⎜  - ── + ──⎟⎟\n",
      "      ⎝⎝    ρ₀   ρ₀⎠⎠\n",
      "\n",
      "\n"
     ]
    },
    {
     "name": "stderr",
     "output_type": "stream",
     "text": [
      "/Users/wtenachi/Documents/ASTRO_research/projects/AI_physicist/my_AI_physicist/PhySO/PhySO/physo/learn/monitoring.py:519: UserWarning: Creating legend with loc=\"best\" can be slow with large amounts of data.\n",
      "  self.fig.savefig(self.save_path)\n"
     ]
    },
    {
     "name": "stdout",
     "output_type": "stream",
     "text": [
      "=========== Epoch 00050 ===========\n",
      "-> Time 16.48 s\n",
      "\n",
      "Overall best  at R=0.854094\n",
      "-> Raw expression : \n",
      "    -r + rs    \n",
      "───────────────\n",
      "  r            \n",
      "──────⋅(r + rs)\n",
      "⎛ ρ₀ ⎞         \n",
      "⎜────⎟         \n",
      "⎜  1 ⎟         \n",
      "⎜1⋅──⎟         \n",
      "⎝  rs⎠         \n",
      "\n",
      "Best of epoch at R=0.797264\n",
      "-> Raw expression : \n",
      "         1          1        \n",
      "-ρ₀ + 1⋅────⋅────────────────\n",
      "        ⎛1 ⎞ ⎛      1       ⎞\n",
      "        ⎜──⎟ ⎜──────────────⎟\n",
      "        ⎝ρ₀⎠ ⎜       1      ⎟\n",
      "             ⎜1⋅────────────⎟\n",
      "             ⎜  ⎛    r     ⎞⎟\n",
      "             ⎜  ⎜──────────⎟⎟\n",
      "             ⎜  ⎜⎛   1    ⎞⎟⎟\n",
      "             ⎜  ⎜⎜────────⎟⎟⎟\n",
      "             ⎜  ⎜⎜⎛  ρ₀  ⎞⎟⎟⎟\n",
      "             ⎜  ⎜⎜⎜──────⎟⎟⎟⎟\n",
      "             ⎜  ⎜⎜⎜⎛ rs ⎞⎟⎟⎟⎟\n",
      "             ⎜  ⎜⎜⎜⎜────⎟⎟⎟⎟⎟\n",
      "             ⎜  ⎜⎜⎜⎜⎛1 ⎞⎟⎟⎟⎟⎟\n",
      "             ⎜  ⎜⎜⎜⎜⎜──⎟⎟⎟⎟⎟⎟\n",
      "             ⎝  ⎝⎝⎝⎝⎝ρ₀⎠⎠⎠⎠⎠⎠\n",
      "\n",
      "\n",
      "=========== Epoch 00051 ===========\n",
      "-> Time 9.65 s\n",
      "\n",
      "Overall best  at R=0.854094\n",
      "-> Raw expression : \n",
      "    -r + rs    \n",
      "───────────────\n",
      "  r            \n",
      "──────⋅(r + rs)\n",
      "⎛ ρ₀ ⎞         \n",
      "⎜────⎟         \n",
      "⎜  1 ⎟         \n",
      "⎜1⋅──⎟         \n",
      "⎝  rs⎠         \n",
      "\n",
      "Best of epoch at R=0.797264\n",
      "-> Raw expression : \n",
      "                   1        \n",
      "-ρ₀ + 1⋅rs⋅─────────────────\n",
      "           ⎛       ρ₀      ⎞\n",
      "           ⎜───────────────⎟\n",
      "           ⎜     1      1  ⎟\n",
      "           ⎜1⋅────────⋅────⎟\n",
      "           ⎜      1      1 ⎟\n",
      "           ⎜  1⋅────── 1⋅──⎟\n",
      "           ⎜    ⎛ 1  ⎞   ρ₀⎟\n",
      "           ⎜    ⎜────⎟     ⎟\n",
      "           ⎜    ⎜⎛r ⎞⎟     ⎟\n",
      "           ⎜    ⎜⎜──⎟⎟     ⎟\n",
      "           ⎝    ⎝⎝ρ₀⎠⎠     ⎠\n",
      "\n",
      "\n",
      "=========== Epoch 00052 ===========\n",
      "-> Time 8.60 s\n",
      "\n",
      "Overall best  at R=0.854094\n",
      "-> Raw expression : \n",
      "    -r + rs    \n",
      "───────────────\n",
      "  r            \n",
      "──────⋅(r + rs)\n",
      "⎛ ρ₀ ⎞         \n",
      "⎜────⎟         \n",
      "⎜  1 ⎟         \n",
      "⎜1⋅──⎟         \n",
      "⎝  rs⎠         \n",
      "\n",
      "Best of epoch at R=0.797264\n",
      "-> Raw expression : \n",
      "              rs        \n",
      "-ρ₀ + ──────────────────\n",
      "      ⎛       r        ⎞\n",
      "      ⎜────────────────⎟\n",
      "      ⎜⎛      1       ⎞⎟\n",
      "      ⎜⎜──────────────⎟⎟\n",
      "      ⎜⎜          1   ⎟⎟\n",
      "      ⎜⎜1⋅ρ₀⋅1⋅───────⎟⎟\n",
      "      ⎜⎜       ⎛  1  ⎞⎟⎟\n",
      "      ⎜⎜       ⎜─────⎟⎟⎟\n",
      "      ⎜⎜       ⎜    2⎟⎟⎟\n",
      "      ⎜⎜       ⎜⎛1 ⎞ ⎟⎟⎟\n",
      "      ⎜⎜       ⎜⎜──⎟ ⎟⎟⎟\n",
      "      ⎝⎝       ⎝⎝ρ₀⎠ ⎠⎠⎠\n",
      "\n",
      "\n",
      "=========== Epoch 00053 ===========\n",
      "-> Time 9.57 s\n",
      "\n",
      "Overall best  at R=0.854094\n",
      "-> Raw expression : \n",
      "    -r + rs    \n",
      "───────────────\n",
      "  r            \n",
      "──────⋅(r + rs)\n",
      "⎛ ρ₀ ⎞         \n",
      "⎜────⎟         \n",
      "⎜  1 ⎟         \n",
      "⎜1⋅──⎟         \n",
      "⎝  rs⎠         \n",
      "\n",
      "Best of epoch at R=0.797264\n",
      "-> Raw expression : \n",
      "            1       \n",
      "-ρ₀ + ──────────────\n",
      "        1      r    \n",
      "      1⋅──⋅─────────\n",
      "        ρ₀ ⎛   1   ⎞\n",
      "           ⎜───────⎟\n",
      "           ⎜⎛  ρ₀ ⎞⎟\n",
      "           ⎜⎜─────⎟⎟\n",
      "           ⎝⎝ρ₀⋅rs⎠⎠\n",
      "\n",
      "\n",
      "=========== Epoch 00054 ===========\n",
      "-> Time 9.66 s\n",
      "\n",
      "Overall best  at R=0.854094\n",
      "-> Raw expression : \n",
      "    -r + rs    \n",
      "───────────────\n",
      "  r            \n",
      "──────⋅(r + rs)\n",
      "⎛ ρ₀ ⎞         \n",
      "⎜────⎟         \n",
      "⎜  1 ⎟         \n",
      "⎜1⋅──⎟         \n",
      "⎝  rs⎠         \n",
      "\n",
      "Best of epoch at R=0.797264\n",
      "-> Raw expression : \n",
      "          1         1     \n",
      "-ρ₀ + 1⋅──────⋅───────────\n",
      "        ⎛ 1  ⎞       1    \n",
      "        ⎜────⎟ 1⋅─────────\n",
      "        ⎜   1⎟   ⎛   1   ⎞\n",
      "        ⎜ρ₀⋅─⎟   ⎜───────⎟\n",
      "        ⎝   r⎠   ⎜⎛  ρ₀ ⎞⎟\n",
      "                 ⎜⎜─────⎟⎟\n",
      "                 ⎝⎝ρ₀⋅rs⎠⎠\n",
      "\n",
      "\n",
      "=========== Epoch 00055 ===========\n",
      "-> Time 9.12 s\n",
      "\n",
      "Overall best  at R=0.854094\n",
      "-> Raw expression : \n",
      "    -r + rs    \n",
      "───────────────\n",
      "  r            \n",
      "──────⋅(r + rs)\n",
      "⎛ ρ₀ ⎞         \n",
      "⎜────⎟         \n",
      "⎜  1 ⎟         \n",
      "⎜1⋅──⎟         \n",
      "⎝  rs⎠         \n",
      "\n",
      "Best of epoch at R=0.797264\n",
      "-> Raw expression : \n",
      "            rs      \n",
      "-ρ₀ + ──────────────\n",
      "      ⎛     1      ⎞\n",
      "      ⎜────────────⎟\n",
      "      ⎜   1     1  ⎟\n",
      "      ⎜───────⋅────⎟\n",
      "      ⎜    1   ⎛r ⎞⎟\n",
      "      ⎜ρ₀⋅──── ⎜──⎟⎟\n",
      "      ⎝   1⋅ρ₀ ⎝ρ₀⎠⎠\n",
      "\n",
      "\n",
      "=========== Epoch 00056 ===========\n",
      "-> Time 9.47 s\n",
      "\n",
      "Overall best  at R=0.854094\n",
      "-> Raw expression : \n",
      "    -r + rs    \n",
      "───────────────\n",
      "  r            \n",
      "──────⋅(r + rs)\n",
      "⎛ ρ₀ ⎞         \n",
      "⎜────⎟         \n",
      "⎜  1 ⎟         \n",
      "⎜1⋅──⎟         \n",
      "⎝  rs⎠         \n",
      "\n",
      "Best of epoch at R=0.797264\n",
      "-> Raw expression : \n",
      "             1        \n",
      "-ρ₀ + ────────────────\n",
      "            1      1  \n",
      "      r⋅1⋅──────⋅─────\n",
      "          ⎛ 1  ⎞ ρ₀⋅ρ₀\n",
      "          ⎜────⎟      \n",
      "          ⎜⎛ρ₀⎞⎟      \n",
      "          ⎜⎜──⎟⎟      \n",
      "          ⎝⎝rs⎠⎠      \n",
      "\n",
      "\n",
      "=========== Epoch 00057 ===========\n",
      "-> Time 8.39 s\n",
      "\n",
      "Overall best  at R=0.854094\n",
      "-> Raw expression : \n",
      "    -r + rs    \n",
      "───────────────\n",
      "  r            \n",
      "──────⋅(r + rs)\n",
      "⎛ ρ₀ ⎞         \n",
      "⎜────⎟         \n",
      "⎜  1 ⎟         \n",
      "⎜1⋅──⎟         \n",
      "⎝  rs⎠         \n",
      "\n",
      "Best of epoch at R=0.797264\n",
      "-> Raw expression : \n",
      "           1          1     \n",
      "-ρ₀ + 1⋅────────⋅───────────\n",
      "        ⎛  ρ₀  ⎞ ⎛    1    ⎞\n",
      "        ⎜──────⎟ ⎜─────────⎟\n",
      "        ⎜⎛ 1  ⎞⎟ ⎜     rs  ⎟\n",
      "        ⎜⎜────⎟⎟ ⎜r⋅───────⎟\n",
      "        ⎜⎜  1 ⎟⎟ ⎜  ⎛  1  ⎞⎟\n",
      "        ⎜⎜1⋅──⎟⎟ ⎜  ⎜─────⎟⎟\n",
      "        ⎝⎝  ρ₀⎠⎠ ⎜  ⎜⎛ ρ₀⎞⎟⎟\n",
      "                 ⎜  ⎜⎜───⎟⎟⎟\n",
      "                 ⎝  ⎝⎝r⋅r⎠⎠⎠\n",
      "\n",
      "\n",
      "=========== Epoch 00058 ===========\n",
      "-> Time 11.24 s\n",
      "\n",
      "Overall best  at R=0.854094\n",
      "-> Raw expression : \n",
      "    -r + rs    \n",
      "───────────────\n",
      "  r            \n",
      "──────⋅(r + rs)\n",
      "⎛ ρ₀ ⎞         \n",
      "⎜────⎟         \n",
      "⎜  1 ⎟         \n",
      "⎜1⋅──⎟         \n",
      "⎝  rs⎠         \n",
      "\n",
      "Best of epoch at R=0.797264\n",
      "-> Raw expression : \n",
      "          1     \n",
      "-ρ₀ + ──────────\n",
      "          1   ρ₀\n",
      "      r⋅─────⋅──\n",
      "        ρ₀⋅ρ₀ rs\n",
      "\n",
      "\n",
      "=========== Epoch 00059 ===========\n",
      "-> Time 9.13 s\n",
      "\n",
      "Overall best  at R=0.854094\n",
      "-> Raw expression : \n",
      "    -r + rs    \n",
      "───────────────\n",
      "  r            \n",
      "──────⋅(r + rs)\n",
      "⎛ ρ₀ ⎞         \n",
      "⎜────⎟         \n",
      "⎜  1 ⎟         \n",
      "⎜1⋅──⎟         \n",
      "⎝  rs⎠         \n",
      "\n",
      "Best of epoch at R=0.797264\n",
      "-> Raw expression : \n",
      "                  1        \n",
      "-ρ₀ + rs⋅1⋅────────────────\n",
      "                   1       \n",
      "           1⋅──────────────\n",
      "             ⎛     1      ⎞\n",
      "             ⎜────────────⎟\n",
      "             ⎜⎛    r     ⎞⎟\n",
      "             ⎜⎜──────────⎟⎟\n",
      "             ⎜⎜⎛ρ₀⋅ρ₀⋅rs⎞⎟⎟\n",
      "             ⎜⎜⎜────────⎟⎟⎟\n",
      "             ⎜⎜⎜ ⎛ ρ₀ ⎞ ⎟⎟⎟\n",
      "             ⎜⎜⎜ ⎜────⎟ ⎟⎟⎟\n",
      "             ⎜⎜⎜ ⎜  1 ⎟ ⎟⎟⎟\n",
      "             ⎜⎜⎜ ⎜1⋅──⎟ ⎟⎟⎟\n",
      "             ⎝⎝⎝ ⎝  rs⎠ ⎠⎠⎠\n",
      "\n",
      "\n"
     ]
    },
    {
     "name": "stderr",
     "output_type": "stream",
     "text": [
      "/Users/wtenachi/Documents/ASTRO_research/projects/AI_physicist/my_AI_physicist/PhySO/PhySO/physo/learn/monitoring.py:519: UserWarning: Creating legend with loc=\"best\" can be slow with large amounts of data.\n",
      "  self.fig.savefig(self.save_path)\n"
     ]
    },
    {
     "name": "stdout",
     "output_type": "stream",
     "text": [
      "=========== Epoch 00060 ===========\n",
      "-> Time 17.15 s\n",
      "\n",
      "Overall best  at R=0.854094\n",
      "-> Raw expression : \n",
      "    -r + rs    \n",
      "───────────────\n",
      "  r            \n",
      "──────⋅(r + rs)\n",
      "⎛ ρ₀ ⎞         \n",
      "⎜────⎟         \n",
      "⎜  1 ⎟         \n",
      "⎜1⋅──⎟         \n",
      "⎝  rs⎠         \n",
      "\n",
      "Best of epoch at R=0.797264\n",
      "-> Raw expression : \n",
      "           rs     \n",
      "-ρ₀ + ────────────\n",
      "      ⎛    r     ⎞\n",
      "      ⎜──────────⎟\n",
      "      ⎜⎛   ρ₀   ⎞⎟\n",
      "      ⎜⎜────────⎟⎟\n",
      "      ⎜⎜⎛  ρ₀  ⎞⎟⎟\n",
      "      ⎜⎜⎜──────⎟⎟⎟\n",
      "      ⎜⎜⎜   1  ⎟⎟⎟\n",
      "      ⎜⎜⎜1⋅────⎟⎟⎟\n",
      "      ⎜⎜⎜    1 ⎟⎟⎟\n",
      "      ⎜⎜⎜  1⋅──⎟⎟⎟\n",
      "      ⎝⎝⎝    ρ₀⎠⎠⎠\n",
      "\n",
      "\n",
      "=========== Epoch 00061 ===========\n",
      "-> Time 7.84 s\n",
      "\n",
      "Overall best  at R=0.854094\n",
      "-> Raw expression : \n",
      "    -r + rs    \n",
      "───────────────\n",
      "  r            \n",
      "──────⋅(r + rs)\n",
      "⎛ ρ₀ ⎞         \n",
      "⎜────⎟         \n",
      "⎜  1 ⎟         \n",
      "⎜1⋅──⎟         \n",
      "⎝  rs⎠         \n",
      "\n",
      "Best of epoch at R=0.797264\n",
      "-> Raw expression : \n",
      "                rs         \n",
      "-ρ₀ + ─────────────────────\n",
      "      ⎛         ρ₀        ⎞\n",
      "      ⎜───────────────────⎟\n",
      "      ⎜⎛        1        ⎞⎟\n",
      "      ⎜⎜─────────────────⎟⎟\n",
      "      ⎜⎜           1     ⎟⎟\n",
      "      ⎜⎜r⋅ρ₀⋅1⋅──────────⎟⎟\n",
      "      ⎜⎜       ⎛   ρ₀   ⎞⎟⎟\n",
      "      ⎜⎜       ⎜────────⎟⎟⎟\n",
      "      ⎜⎜       ⎜    1   ⎟⎟⎟\n",
      "      ⎜⎜       ⎜1⋅──────⎟⎟⎟\n",
      "      ⎜⎜       ⎜  ⎛ ρ₀ ⎞⎟⎟⎟\n",
      "      ⎜⎜       ⎜  ⎜────⎟⎟⎟⎟\n",
      "      ⎜⎜       ⎜  ⎜  1 ⎟⎟⎟⎟\n",
      "      ⎜⎜       ⎜  ⎜1⋅──⎟⎟⎟⎟\n",
      "      ⎝⎝       ⎝  ⎝  ρ₀⎠⎠⎠⎠\n",
      "\n",
      "\n",
      "=========== Epoch 00062 ===========\n",
      "-> Time 9.00 s\n",
      "\n",
      "Overall best  at R=0.854094\n",
      "-> Raw expression : \n",
      "    -r + rs    \n",
      "───────────────\n",
      "  r            \n",
      "──────⋅(r + rs)\n",
      "⎛ ρ₀ ⎞         \n",
      "⎜────⎟         \n",
      "⎜  1 ⎟         \n",
      "⎜1⋅──⎟         \n",
      "⎝  rs⎠         \n",
      "\n",
      "Best of epoch at R=0.797264\n",
      "-> Raw expression : \n",
      "  ρ₀⋅rs       \n",
      "───────── - ρ₀\n",
      "     r        \n",
      "ρ₀⋅──────     \n",
      "      1       \n",
      "   1⋅────     \n",
      "       1      \n",
      "     1⋅──     \n",
      "       ρ₀     \n",
      "\n",
      "\n"
     ]
    },
    {
     "ename": "KeyboardInterrupt",
     "evalue": "",
     "output_type": "error",
     "traceback": [
      "\u001b[0;31m---------------------------------------------------------------------------\u001b[0m",
      "\u001b[0;31mKeyboardInterrupt\u001b[0m                         Traceback (most recent call last)",
      "Cell \u001b[0;32mIn[21], line 1\u001b[0m\n\u001b[0;32m----> 1\u001b[0m rewards, candidates \u001b[38;5;241m=\u001b[39m \u001b[43mphyso\u001b[49m\u001b[38;5;241;43m.\u001b[39;49m\u001b[43mfit\u001b[49m\u001b[43m \u001b[49m\u001b[43m(\u001b[49m\u001b[43mX\u001b[49m\u001b[43m,\u001b[49m\u001b[43m \u001b[49m\u001b[43my\u001b[49m\u001b[43m,\u001b[49m\u001b[43m \u001b[49m\u001b[43mrun_config\u001b[49m\u001b[43m,\u001b[49m\n\u001b[1;32m      2\u001b[0m \u001b[43m                                \u001b[49m\u001b[43mstop_reward\u001b[49m\u001b[43m \u001b[49m\u001b[38;5;241;43m=\u001b[39;49m\u001b[43m \u001b[49m\u001b[38;5;241;43m1.\u001b[39;49m\u001b[43m,\u001b[49m\u001b[43m \u001b[49m\n\u001b[1;32m      3\u001b[0m \u001b[43m                                \u001b[49m\u001b[43mstop_after_n_epochs\u001b[49m\u001b[43m \u001b[49m\u001b[38;5;241;43m=\u001b[39;49m\u001b[43m \u001b[49m\u001b[38;5;241;43m30\u001b[39;49m\u001b[43m)\u001b[49m\n",
      "File \u001b[0;32m~/Documents/ASTRO_research/projects/AI_physicist/my_AI_physicist/PhySO/PhySO/physo/task/fit.py:69\u001b[0m, in \u001b[0;36mfit\u001b[0;34m(X, y, run_config, candidate_wrapper, stop_reward, stop_after_n_epochs)\u001b[0m\n\u001b[1;32m     65\u001b[0m cell      \u001b[38;5;241m=\u001b[39m cell_reseter ()\n\u001b[1;32m     66\u001b[0m optimizer \u001b[38;5;241m=\u001b[39m run_config[\u001b[38;5;124m\"\u001b[39m\u001b[38;5;124mlearning_config\u001b[39m\u001b[38;5;124m\"\u001b[39m][\u001b[38;5;124m\"\u001b[39m\u001b[38;5;124mget_optimizer\u001b[39m\u001b[38;5;124m\"\u001b[39m](cell)\n\u001b[0;32m---> 69\u001b[0m hall_of_fame_R, hall_of_fame \u001b[38;5;241m=\u001b[39m \u001b[43mlearn\u001b[49m\u001b[38;5;241;43m.\u001b[39;49m\u001b[43mlearner\u001b[49m\u001b[43m \u001b[49m\u001b[43m(\u001b[49m\n\u001b[1;32m     70\u001b[0m \u001b[43m                                                \u001b[49m\u001b[43mmodel\u001b[49m\u001b[43m               \u001b[49m\u001b[38;5;241;43m=\u001b[39;49m\u001b[43m \u001b[49m\u001b[43mcell\u001b[49m\u001b[43m,\u001b[49m\n\u001b[1;32m     71\u001b[0m \u001b[43m                                                \u001b[49m\u001b[43moptimizer\u001b[49m\u001b[43m           \u001b[49m\u001b[38;5;241;43m=\u001b[39;49m\u001b[43m \u001b[49m\u001b[43moptimizer\u001b[49m\u001b[43m,\u001b[49m\n\u001b[1;32m     72\u001b[0m \u001b[43m                                                \u001b[49m\u001b[43mn_epochs\u001b[49m\u001b[43m            \u001b[49m\u001b[38;5;241;43m=\u001b[39;49m\u001b[43m \u001b[49m\u001b[43mrun_config\u001b[49m\u001b[43m[\u001b[49m\u001b[38;5;124;43m\"\u001b[39;49m\u001b[38;5;124;43mlearning_config\u001b[39;49m\u001b[38;5;124;43m\"\u001b[39;49m\u001b[43m]\u001b[49m\u001b[43m[\u001b[49m\u001b[38;5;124;43m\"\u001b[39;49m\u001b[38;5;124;43mn_epochs\u001b[39;49m\u001b[38;5;124;43m\"\u001b[39;49m\u001b[43m]\u001b[49m\u001b[43m,\u001b[49m\n\u001b[1;32m     73\u001b[0m \u001b[43m                                                \u001b[49m\u001b[43mbatch_reseter\u001b[49m\u001b[43m       \u001b[49m\u001b[38;5;241;43m=\u001b[39;49m\u001b[43m \u001b[49m\u001b[43mbatch_reseter\u001b[49m\u001b[43m,\u001b[49m\n\u001b[1;32m     74\u001b[0m \u001b[43m                                                \u001b[49m\u001b[43mrisk_factor\u001b[49m\u001b[43m         \u001b[49m\u001b[38;5;241;43m=\u001b[39;49m\u001b[43m \u001b[49m\u001b[43mrun_config\u001b[49m\u001b[43m[\u001b[49m\u001b[38;5;124;43m\"\u001b[39;49m\u001b[38;5;124;43mlearning_config\u001b[39;49m\u001b[38;5;124;43m\"\u001b[39;49m\u001b[43m]\u001b[49m\u001b[43m[\u001b[49m\u001b[38;5;124;43m\"\u001b[39;49m\u001b[38;5;124;43mrisk_factor\u001b[39;49m\u001b[38;5;124;43m\"\u001b[39;49m\u001b[43m]\u001b[49m\u001b[43m,\u001b[49m\n\u001b[1;32m     75\u001b[0m \u001b[43m                                                \u001b[49m\u001b[43mgamma_decay\u001b[49m\u001b[43m         \u001b[49m\u001b[38;5;241;43m=\u001b[39;49m\u001b[43m \u001b[49m\u001b[43mrun_config\u001b[49m\u001b[43m[\u001b[49m\u001b[38;5;124;43m\"\u001b[39;49m\u001b[38;5;124;43mlearning_config\u001b[39;49m\u001b[38;5;124;43m\"\u001b[39;49m\u001b[43m]\u001b[49m\u001b[43m[\u001b[49m\u001b[38;5;124;43m\"\u001b[39;49m\u001b[38;5;124;43mgamma_decay\u001b[39;49m\u001b[38;5;124;43m\"\u001b[39;49m\u001b[43m]\u001b[49m\u001b[43m,\u001b[49m\n\u001b[1;32m     76\u001b[0m \u001b[43m                                                \u001b[49m\u001b[43mentropy_weight\u001b[49m\u001b[43m      \u001b[49m\u001b[38;5;241;43m=\u001b[39;49m\u001b[43m \u001b[49m\u001b[43mrun_config\u001b[49m\u001b[43m[\u001b[49m\u001b[38;5;124;43m\"\u001b[39;49m\u001b[38;5;124;43mlearning_config\u001b[39;49m\u001b[38;5;124;43m\"\u001b[39;49m\u001b[43m]\u001b[49m\u001b[43m[\u001b[49m\u001b[38;5;124;43m\"\u001b[39;49m\u001b[38;5;124;43mentropy_weight\u001b[39;49m\u001b[38;5;124;43m\"\u001b[39;49m\u001b[43m]\u001b[49m\u001b[43m,\u001b[49m\n\u001b[1;32m     77\u001b[0m \u001b[43m                                                \u001b[49m\u001b[43mverbose\u001b[49m\u001b[43m             \u001b[49m\u001b[38;5;241;43m=\u001b[39;49m\u001b[43m \u001b[49m\u001b[38;5;28;43;01mFalse\u001b[39;49;00m\u001b[43m,\u001b[49m\n\u001b[1;32m     78\u001b[0m \u001b[43m                                                \u001b[49m\u001b[43mstop_reward\u001b[49m\u001b[43m         \u001b[49m\u001b[38;5;241;43m=\u001b[39;49m\u001b[43m \u001b[49m\u001b[43mstop_reward\u001b[49m\u001b[43m,\u001b[49m\n\u001b[1;32m     79\u001b[0m \u001b[43m                                                \u001b[49m\u001b[43mstop_after_n_epochs\u001b[49m\u001b[43m \u001b[49m\u001b[38;5;241;43m=\u001b[39;49m\u001b[43m \u001b[49m\u001b[43mstop_after_n_epochs\u001b[49m\u001b[43m,\u001b[49m\n\u001b[1;32m     80\u001b[0m \u001b[43m                                                \u001b[49m\u001b[43mrun_logger\u001b[49m\u001b[43m          \u001b[49m\u001b[38;5;241;43m=\u001b[39;49m\u001b[43m \u001b[49m\u001b[43mrun_config\u001b[49m\u001b[43m[\u001b[49m\u001b[38;5;124;43m\"\u001b[39;49m\u001b[38;5;124;43mrun_logger\u001b[39;49m\u001b[38;5;124;43m\"\u001b[39;49m\u001b[43m]\u001b[49m\u001b[43m,\u001b[49m\n\u001b[1;32m     81\u001b[0m \u001b[43m                                                \u001b[49m\u001b[43mrun_visualiser\u001b[49m\u001b[43m      \u001b[49m\u001b[38;5;241;43m=\u001b[39;49m\u001b[43m \u001b[49m\u001b[43mrun_config\u001b[49m\u001b[43m[\u001b[49m\u001b[38;5;124;43m\"\u001b[39;49m\u001b[38;5;124;43mrun_visualiser\u001b[39;49m\u001b[38;5;124;43m\"\u001b[39;49m\u001b[43m]\u001b[49m\u001b[43m,\u001b[49m\n\u001b[1;32m     82\u001b[0m \u001b[43m                                               \u001b[49m\u001b[43m)\u001b[49m\n\u001b[1;32m     84\u001b[0m \u001b[38;5;28;01mreturn\u001b[39;00m hall_of_fame_R, hall_of_fame\n",
      "File \u001b[0;32m~/Documents/ASTRO_research/projects/AI_physicist/my_AI_physicist/PhySO/PhySO/physo/learn/learn.py:146\u001b[0m, in \u001b[0;36mlearner\u001b[0;34m(model, optimizer, n_epochs, batch_reseter, risk_factor, gamma_decay, entropy_weight, verbose, stop_reward, stop_after_n_epochs, run_logger, run_visualiser)\u001b[0m\n\u001b[1;32m    139\u001b[0m     batch\u001b[38;5;241m.\u001b[39mprograms\u001b[38;5;241m.\u001b[39mappend(action\u001b[38;5;241m.\u001b[39mcpu()\u001b[38;5;241m.\u001b[39mdetach()\u001b[38;5;241m.\u001b[39mnumpy())\n\u001b[1;32m    141\u001b[0m \u001b[38;5;66;03m# -------------------------------------------------\u001b[39;00m\n\u001b[1;32m    142\u001b[0m \u001b[38;5;66;03m# ------------------ CANDIDATES  ------------------\u001b[39;00m\n\u001b[1;32m    143\u001b[0m \u001b[38;5;66;03m# -------------------------------------------------\u001b[39;00m\n\u001b[1;32m    144\u001b[0m \n\u001b[1;32m    145\u001b[0m \u001b[38;5;66;03m# Keeping prob distribution history for backpropagation\u001b[39;00m\n\u001b[0;32m--> 146\u001b[0m logits         \u001b[38;5;241m=\u001b[39m \u001b[43mtorch\u001b[49m\u001b[38;5;241;43m.\u001b[39;49m\u001b[43mstack\u001b[49m\u001b[43m(\u001b[49m\u001b[43mlogits\u001b[49m\u001b[43m        \u001b[49m\u001b[43m,\u001b[49m\u001b[43m \u001b[49m\u001b[43mdim\u001b[49m\u001b[38;5;241;43m=\u001b[39;49m\u001b[38;5;241;43m0\u001b[39;49m\u001b[43m)\u001b[49m         \u001b[38;5;66;03m# (max_time_step, batch_size, n_choices, )\u001b[39;00m\n\u001b[1;32m    147\u001b[0m actions        \u001b[38;5;241m=\u001b[39m torch\u001b[38;5;241m.\u001b[39mstack(actions       , dim\u001b[38;5;241m=\u001b[39m\u001b[38;5;241m0\u001b[39m)         \u001b[38;5;66;03m# (max_time_step, batch_size,)\u001b[39;00m\n\u001b[1;32m    149\u001b[0m \u001b[38;5;66;03m# Programs as numpy array for black box reward computation\u001b[39;00m\n",
      "\u001b[0;31mKeyboardInterrupt\u001b[0m: "
     ]
    },
    {
     "name": "stdout",
     "output_type": "stream",
     "text": [
      "Error in callback <function install_repl_displayhook.<locals>.post_execute at 0x126ae09d0> (for post_execute):\n"
     ]
    },
    {
     "ename": "KeyboardInterrupt",
     "evalue": "",
     "output_type": "error",
     "traceback": [
      "\u001b[0;31m---------------------------------------------------------------------------\u001b[0m",
      "\u001b[0;31mKeyboardInterrupt\u001b[0m                         Traceback (most recent call last)",
      "File \u001b[0;32m/opt/homebrew/Caskroom/miniforge/base/envs/PhySO/lib/python3.8/site-packages/matplotlib/pyplot.py:138\u001b[0m, in \u001b[0;36minstall_repl_displayhook.<locals>.post_execute\u001b[0;34m()\u001b[0m\n\u001b[1;32m    136\u001b[0m \u001b[38;5;28;01mdef\u001b[39;00m \u001b[38;5;21mpost_execute\u001b[39m():\n\u001b[1;32m    137\u001b[0m     \u001b[38;5;28;01mif\u001b[39;00m matplotlib\u001b[38;5;241m.\u001b[39mis_interactive():\n\u001b[0;32m--> 138\u001b[0m         \u001b[43mdraw_all\u001b[49m\u001b[43m(\u001b[49m\u001b[43m)\u001b[49m\n",
      "File \u001b[0;32m/opt/homebrew/Caskroom/miniforge/base/envs/PhySO/lib/python3.8/site-packages/matplotlib/_pylab_helpers.py:137\u001b[0m, in \u001b[0;36mGcf.draw_all\u001b[0;34m(cls, force)\u001b[0m\n\u001b[1;32m    135\u001b[0m \u001b[38;5;28;01mfor\u001b[39;00m manager \u001b[38;5;129;01min\u001b[39;00m \u001b[38;5;28mcls\u001b[39m\u001b[38;5;241m.\u001b[39mget_all_fig_managers():\n\u001b[1;32m    136\u001b[0m     \u001b[38;5;28;01mif\u001b[39;00m force \u001b[38;5;129;01mor\u001b[39;00m manager\u001b[38;5;241m.\u001b[39mcanvas\u001b[38;5;241m.\u001b[39mfigure\u001b[38;5;241m.\u001b[39mstale:\n\u001b[0;32m--> 137\u001b[0m         \u001b[43mmanager\u001b[49m\u001b[38;5;241;43m.\u001b[39;49m\u001b[43mcanvas\u001b[49m\u001b[38;5;241;43m.\u001b[39;49m\u001b[43mdraw_idle\u001b[49m\u001b[43m(\u001b[49m\u001b[43m)\u001b[49m\n",
      "File \u001b[0;32m/opt/homebrew/Caskroom/miniforge/base/envs/PhySO/lib/python3.8/site-packages/matplotlib/backend_bases.py:2060\u001b[0m, in \u001b[0;36mFigureCanvasBase.draw_idle\u001b[0;34m(self, *args, **kwargs)\u001b[0m\n\u001b[1;32m   2058\u001b[0m \u001b[38;5;28;01mif\u001b[39;00m \u001b[38;5;129;01mnot\u001b[39;00m \u001b[38;5;28mself\u001b[39m\u001b[38;5;241m.\u001b[39m_is_idle_drawing:\n\u001b[1;32m   2059\u001b[0m     \u001b[38;5;28;01mwith\u001b[39;00m \u001b[38;5;28mself\u001b[39m\u001b[38;5;241m.\u001b[39m_idle_draw_cntx():\n\u001b[0;32m-> 2060\u001b[0m         \u001b[38;5;28;43mself\u001b[39;49m\u001b[38;5;241;43m.\u001b[39;49m\u001b[43mdraw\u001b[49m\u001b[43m(\u001b[49m\u001b[38;5;241;43m*\u001b[39;49m\u001b[43margs\u001b[49m\u001b[43m,\u001b[49m\u001b[43m \u001b[49m\u001b[38;5;241;43m*\u001b[39;49m\u001b[38;5;241;43m*\u001b[39;49m\u001b[43mkwargs\u001b[49m\u001b[43m)\u001b[49m\n",
      "File \u001b[0;32m/opt/homebrew/Caskroom/miniforge/base/envs/PhySO/lib/python3.8/site-packages/matplotlib/backends/backend_agg.py:436\u001b[0m, in \u001b[0;36mFigureCanvasAgg.draw\u001b[0;34m(self)\u001b[0m\n\u001b[1;32m    432\u001b[0m \u001b[38;5;66;03m# Acquire a lock on the shared font cache.\u001b[39;00m\n\u001b[1;32m    433\u001b[0m \u001b[38;5;28;01mwith\u001b[39;00m RendererAgg\u001b[38;5;241m.\u001b[39mlock, \\\n\u001b[1;32m    434\u001b[0m      (\u001b[38;5;28mself\u001b[39m\u001b[38;5;241m.\u001b[39mtoolbar\u001b[38;5;241m.\u001b[39m_wait_cursor_for_draw_cm() \u001b[38;5;28;01mif\u001b[39;00m \u001b[38;5;28mself\u001b[39m\u001b[38;5;241m.\u001b[39mtoolbar\n\u001b[1;32m    435\u001b[0m       \u001b[38;5;28;01melse\u001b[39;00m nullcontext()):\n\u001b[0;32m--> 436\u001b[0m     \u001b[38;5;28;43mself\u001b[39;49m\u001b[38;5;241;43m.\u001b[39;49m\u001b[43mfigure\u001b[49m\u001b[38;5;241;43m.\u001b[39;49m\u001b[43mdraw\u001b[49m\u001b[43m(\u001b[49m\u001b[38;5;28;43mself\u001b[39;49m\u001b[38;5;241;43m.\u001b[39;49m\u001b[43mrenderer\u001b[49m\u001b[43m)\u001b[49m\n\u001b[1;32m    437\u001b[0m     \u001b[38;5;66;03m# A GUI class may be need to update a window using this draw, so\u001b[39;00m\n\u001b[1;32m    438\u001b[0m     \u001b[38;5;66;03m# don't forget to call the superclass.\u001b[39;00m\n\u001b[1;32m    439\u001b[0m     \u001b[38;5;28msuper\u001b[39m()\u001b[38;5;241m.\u001b[39mdraw()\n",
      "File \u001b[0;32m/opt/homebrew/Caskroom/miniforge/base/envs/PhySO/lib/python3.8/site-packages/matplotlib/artist.py:73\u001b[0m, in \u001b[0;36m_finalize_rasterization.<locals>.draw_wrapper\u001b[0;34m(artist, renderer, *args, **kwargs)\u001b[0m\n\u001b[1;32m     71\u001b[0m \u001b[38;5;129m@wraps\u001b[39m(draw)\n\u001b[1;32m     72\u001b[0m \u001b[38;5;28;01mdef\u001b[39;00m \u001b[38;5;21mdraw_wrapper\u001b[39m(artist, renderer, \u001b[38;5;241m*\u001b[39margs, \u001b[38;5;241m*\u001b[39m\u001b[38;5;241m*\u001b[39mkwargs):\n\u001b[0;32m---> 73\u001b[0m     result \u001b[38;5;241m=\u001b[39m \u001b[43mdraw\u001b[49m\u001b[43m(\u001b[49m\u001b[43martist\u001b[49m\u001b[43m,\u001b[49m\u001b[43m \u001b[49m\u001b[43mrenderer\u001b[49m\u001b[43m,\u001b[49m\u001b[43m \u001b[49m\u001b[38;5;241;43m*\u001b[39;49m\u001b[43margs\u001b[49m\u001b[43m,\u001b[49m\u001b[43m \u001b[49m\u001b[38;5;241;43m*\u001b[39;49m\u001b[38;5;241;43m*\u001b[39;49m\u001b[43mkwargs\u001b[49m\u001b[43m)\u001b[49m\n\u001b[1;32m     74\u001b[0m     \u001b[38;5;28;01mif\u001b[39;00m renderer\u001b[38;5;241m.\u001b[39m_rasterizing:\n\u001b[1;32m     75\u001b[0m         renderer\u001b[38;5;241m.\u001b[39mstop_rasterizing()\n",
      "File \u001b[0;32m/opt/homebrew/Caskroom/miniforge/base/envs/PhySO/lib/python3.8/site-packages/matplotlib/artist.py:50\u001b[0m, in \u001b[0;36mallow_rasterization.<locals>.draw_wrapper\u001b[0;34m(artist, renderer)\u001b[0m\n\u001b[1;32m     47\u001b[0m     \u001b[38;5;28;01mif\u001b[39;00m artist\u001b[38;5;241m.\u001b[39mget_agg_filter() \u001b[38;5;129;01mis\u001b[39;00m \u001b[38;5;129;01mnot\u001b[39;00m \u001b[38;5;28;01mNone\u001b[39;00m:\n\u001b[1;32m     48\u001b[0m         renderer\u001b[38;5;241m.\u001b[39mstart_filter()\n\u001b[0;32m---> 50\u001b[0m     \u001b[38;5;28;01mreturn\u001b[39;00m \u001b[43mdraw\u001b[49m\u001b[43m(\u001b[49m\u001b[43martist\u001b[49m\u001b[43m,\u001b[49m\u001b[43m \u001b[49m\u001b[43mrenderer\u001b[49m\u001b[43m)\u001b[49m\n\u001b[1;32m     51\u001b[0m \u001b[38;5;28;01mfinally\u001b[39;00m:\n\u001b[1;32m     52\u001b[0m     \u001b[38;5;28;01mif\u001b[39;00m artist\u001b[38;5;241m.\u001b[39mget_agg_filter() \u001b[38;5;129;01mis\u001b[39;00m \u001b[38;5;129;01mnot\u001b[39;00m \u001b[38;5;28;01mNone\u001b[39;00m:\n",
      "File \u001b[0;32m/opt/homebrew/Caskroom/miniforge/base/envs/PhySO/lib/python3.8/site-packages/matplotlib/figure.py:2796\u001b[0m, in \u001b[0;36mFigure.draw\u001b[0;34m(self, renderer)\u001b[0m\n\u001b[1;32m   2793\u001b[0m \u001b[38;5;28;01mif\u001b[39;00m \u001b[38;5;129;01mnot\u001b[39;00m \u001b[38;5;28mself\u001b[39m\u001b[38;5;241m.\u001b[39mget_visible():\n\u001b[1;32m   2794\u001b[0m     \u001b[38;5;28;01mreturn\u001b[39;00m\n\u001b[0;32m-> 2796\u001b[0m artists \u001b[38;5;241m=\u001b[39m \u001b[38;5;28;43mself\u001b[39;49m\u001b[38;5;241;43m.\u001b[39;49m\u001b[43m_get_draw_artists\u001b[49m\u001b[43m(\u001b[49m\u001b[43mrenderer\u001b[49m\u001b[43m)\u001b[49m\n\u001b[1;32m   2798\u001b[0m \u001b[38;5;28;01mtry\u001b[39;00m:\n\u001b[1;32m   2799\u001b[0m     renderer\u001b[38;5;241m.\u001b[39mopen_group(\u001b[38;5;124m'\u001b[39m\u001b[38;5;124mfigure\u001b[39m\u001b[38;5;124m'\u001b[39m, gid\u001b[38;5;241m=\u001b[39m\u001b[38;5;28mself\u001b[39m\u001b[38;5;241m.\u001b[39mget_gid())\n",
      "File \u001b[0;32m/opt/homebrew/Caskroom/miniforge/base/envs/PhySO/lib/python3.8/site-packages/matplotlib/figure.py:241\u001b[0m, in \u001b[0;36mFigureBase._get_draw_artists\u001b[0;34m(self, renderer)\u001b[0m\n\u001b[1;32m    238\u001b[0m     ax\u001b[38;5;241m.\u001b[39mapply_aspect()\n\u001b[1;32m    240\u001b[0m \u001b[38;5;28;01mfor\u001b[39;00m child \u001b[38;5;129;01min\u001b[39;00m ax\u001b[38;5;241m.\u001b[39mget_children():\n\u001b[0;32m--> 241\u001b[0m     \u001b[38;5;28;01mif\u001b[39;00m \u001b[38;5;28;43mhasattr\u001b[39;49m\u001b[43m(\u001b[49m\u001b[43mchild\u001b[49m\u001b[43m,\u001b[49m\u001b[43m \u001b[49m\u001b[38;5;124;43m'\u001b[39;49m\u001b[38;5;124;43mapply_aspect\u001b[39;49m\u001b[38;5;124;43m'\u001b[39;49m\u001b[43m)\u001b[49m:\n\u001b[1;32m    242\u001b[0m         locator \u001b[38;5;241m=\u001b[39m child\u001b[38;5;241m.\u001b[39mget_axes_locator()\n\u001b[1;32m    243\u001b[0m         \u001b[38;5;28;01mif\u001b[39;00m locator:\n",
      "\u001b[0;31mKeyboardInterrupt\u001b[0m: "
     ]
    },
    {
     "name": "stderr",
     "output_type": "stream",
     "text": [
      "/opt/homebrew/Caskroom/miniforge/base/envs/PhySO/lib/python3.8/site-packages/IPython/core/pylabtools.py:152: UserWarning: Creating legend with loc=\"best\" can be slow with large amounts of data.\n",
      "  fig.canvas.print_figure(bytes_io, **kw)\n"
     ]
    }
   ],
   "source": [
    "rewards, candidates = physo.fit (X, y, run_config,\n",
    "                                stop_reward = 1., \n",
    "                                stop_after_n_epochs = 30)"
   ]
  },
  {
   "cell_type": "code",
   "execution_count": null,
   "id": "32aaa717-8fea-4ec2-a3a7-5f0ddec37d2c",
   "metadata": {
    "tags": []
   },
   "outputs": [],
   "source": []
  },
  {
   "cell_type": "markdown",
   "id": "134053b0-093c-4da3-b9ad-bea874c5c447",
   "metadata": {
    "pycharm": {
     "name": "#%% md\n"
    }
   },
   "source": [
    "## Results"
   ]
  },
  {
   "cell_type": "markdown",
   "id": "33e55ee3-7655-4c22-bf06-e742b1a780a8",
   "metadata": {
    "pycharm": {
     "name": "#%% md\n"
    }
   },
   "source": [
    "### Run plot"
   ]
  },
  {
   "cell_type": "code",
   "execution_count": null,
   "id": "1ebacee6-677e-455f-8dea-b6b3e0931e06",
   "metadata": {
    "pycharm": {
     "name": "#%%\n"
    }
   },
   "outputs": [],
   "source": [
    "run_visualiser.make_visualisation()\n",
    "run_visualiser.save_visualisation()\n",
    "run_visualiser.save_data()"
   ]
  },
  {
   "cell_type": "markdown",
   "id": "1084b1c8-8e73-444c-b8d2-f2dd3345c76e",
   "metadata": {
    "pycharm": {
     "name": "#%% md\n"
    }
   },
   "source": [
    "### Pareto Front"
   ]
  },
  {
   "cell_type": "code",
   "execution_count": null,
   "id": "a51a5d79-5bcf-450a-87b4-108dc391e1e5",
   "metadata": {
    "pycharm": {
     "name": "#%%\n"
    }
   },
   "outputs": [],
   "source": [
    "def plot_pareto_front(run_logger,\n",
    "                      do_simplify                   = True,\n",
    "                      show_superparent_at_beginning = True,\n",
    "                      eq_text_size                  = 12,\n",
    "                      delta_xlim                    = [0, 5 ],\n",
    "                      delta_ylim                    = [0, 15],\n",
    "                      frac_delta_equ                = [0.03, 0.03],\n",
    "                      figsize                       = (20, 10),\n",
    "                     ):\n",
    "\n",
    "    pareto_front_complexities, pareto_front_programs, pareto_front_r, pareto_front_rmse = run_logger.get_pareto_front()\n",
    "\n",
    "    pareto_front_rmse = np.log(pareto_front_rmse)\n",
    "    # Fig params\n",
    "    plt.rc('text', usetex=True)\n",
    "    plt.rc('font', family='serif')\n",
    "    # enables new_dummy_symbol = \"\\square\"\n",
    "    plt.rc('text.latex', preamble=r'\\usepackage{amssymb} \\usepackage{xcolor}')\n",
    "    plt.rc('font', size=32)\n",
    "\n",
    "    # Fig\n",
    "    fig, ax = plt.subplots(1, 1, figsize=figsize)\n",
    "    ax.plot(pareto_front_complexities, pareto_front_rmse, 'r-')\n",
    "    ax.plot(pareto_front_complexities, pareto_front_rmse, 'ro')\n",
    "\n",
    "    # Limits\n",
    "    xmin = pareto_front_complexities.min() + delta_xlim[0]\n",
    "    xmax = pareto_front_complexities.max() + delta_xlim[1]\n",
    "    ymin = pareto_front_rmse.min() + delta_ylim[0]\n",
    "    ymax = pareto_front_rmse.max() + delta_ylim[1]\n",
    "    ax.set_xlim(xmin, xmax)\n",
    "    ax.set_ylim(ymin, ymax)\n",
    "\n",
    "    # Axes labels\n",
    "    ax.set_xlabel(\"Expression complexity\")\n",
    "    ax.set_ylabel(\"log(RMSE)\")\n",
    "\n",
    "\n",
    "    for i_prog in range (len(pareto_front_programs)):\n",
    "        prog = pareto_front_programs[i_prog]\n",
    "\n",
    "        text_pos  = [pareto_front_complexities[i_prog] + frac_delta_equ[0]*(xmax-xmin), \n",
    "                     pareto_front_rmse[i_prog]         + frac_delta_equ[1]*(ymax-ymin)]\n",
    "        # Getting latex expr\n",
    "        latex_str = prog.get_infix_latex(do_simplify = do_simplify)\n",
    "        # Adding \"superparent =\" before program to make it pretty\n",
    "        if show_superparent_at_beginning:\n",
    "            latex_str = prog.library.superparent.name + ' =' + latex_str\n",
    "\n",
    "\n",
    "        ax.text(text_pos[0], text_pos[1], f'${latex_str}$', size = eq_text_size)"
   ]
  },
  {
   "cell_type": "code",
   "execution_count": null,
   "id": "04fab56f-9699-4a81-8d7c-c721623c7bc3",
   "metadata": {
    "pycharm": {
     "name": "#%%\n"
    }
   },
   "outputs": [],
   "source": [
    "plot_pareto_front(run_logger)\n"
   ]
  },
  {
   "cell_type": "code",
   "execution_count": null,
   "id": "12d8a853-59a0-46a4-afe3-5160f2d63753",
   "metadata": {
    "pycharm": {
     "name": "#%%\n"
    }
   },
   "outputs": [],
   "source": [
    "pareto_front_complexities, pareto_front_programs, pareto_front_r, pareto_front_rmse = run_logger.get_pareto_front()\n"
   ]
  },
  {
   "cell_type": "code",
   "execution_count": null,
   "id": "fc996840-28c0-4f84-a31a-f7c0ab3e5f92",
   "metadata": {
    "pycharm": {
     "name": "#%%\n"
    }
   },
   "outputs": [],
   "source": [
    "for prog in pareto_front_programs:\n",
    "    prog.show_infix(do_simplify=True)"
   ]
  },
  {
   "cell_type": "markdown",
   "id": "4334e022-869b-4ecf-b648-a35b2529d3bc",
   "metadata": {
    "pycharm": {
     "name": "#%% md\n"
    }
   },
   "source": [
    "### Symbolic equivalence"
   ]
  },
  {
   "cell_type": "code",
   "execution_count": null,
   "id": "7d0b695a-c48f-41b4-87b1-88343a633dab",
   "metadata": {
    "pycharm": {
     "name": "#%%\n"
    }
   },
   "outputs": [],
   "source": [
    "best_prog_sympy   = candidates[-1] .get_infix_sympy(do_simplify=True)\n",
    "target_prog_sympy = target_program .get_infix_sympy(do_simplify=True)"
   ]
  },
  {
   "cell_type": "code",
   "execution_count": null,
   "id": "b687d719-2e0e-40d3-96ef-e6587d746f85",
   "metadata": {
    "pycharm": {
     "name": "#%%\n"
    }
   },
   "outputs": [],
   "source": [
    "target_prog_sympy"
   ]
  },
  {
   "cell_type": "code",
   "execution_count": null,
   "id": "89ca621f-7ff1-443d-9977-cc29d3f4e3fb",
   "metadata": {
    "pycharm": {
     "name": "#%%\n"
    }
   },
   "outputs": [],
   "source": [
    "best_prog_sympy"
   ]
  },
  {
   "cell_type": "code",
   "execution_count": null,
   "id": "6fa18e5c-46b0-4519-a0d7-f998f9590bfe",
   "metadata": {
    "pycharm": {
     "name": "#%%\n"
    }
   },
   "outputs": [],
   "source": [
    "target_prog_sympy == best_prog_sympy"
   ]
  },
  {
   "cell_type": "code",
   "execution_count": null,
   "id": "3a10a858-ddf9-4f0a-965a-d8a90748388d",
   "metadata": {
    "pycharm": {
     "name": "#%%\n"
    }
   },
   "outputs": [],
   "source": [
    "\n",
    "\n",
    "\n"
   ]
  },
  {
   "cell_type": "code",
   "execution_count": null,
   "id": "c6bcefde-9e25-4b3d-9cb6-a8d4724f1f6a",
   "metadata": {
    "pycharm": {
     "name": "#%%\n"
    }
   },
   "outputs": [],
   "source": [
    "hall_of_fame = run_logger.hall_of_fame"
   ]
  },
  {
   "cell_type": "code",
   "execution_count": null,
   "id": "e651f71f-9056-45d9-a49b-c8eeae210e66",
   "metadata": {
    "pycharm": {
     "name": "#%%\n"
    }
   },
   "outputs": [],
   "source": [
    "for i in range(len(hall_of_fame)):\n",
    "    print(hall_of_fame[i].get_infix_sympy(do_simplify=False))"
   ]
  },
  {
   "cell_type": "code",
   "execution_count": null,
   "id": "5de9225d-91d8-4b45-87c9-3845d76ff0b2",
   "metadata": {
    "pycharm": {
     "name": "#%%\n"
    }
   },
   "outputs": [],
   "source": [
    "eq = hall_of_fame[i].get_infix_sympy(do_simplify=True)"
   ]
  },
  {
   "cell_type": "code",
   "execution_count": null,
   "id": "19d48941-4c1e-4522-a532-8244e16059ca",
   "metadata": {
    "pycharm": {
     "name": "#%%\n"
    }
   },
   "outputs": [],
   "source": [
    "for prog in pareto_front_programs:\n",
    "    prog.show_infix(do_simplify=True)\n",
    "    print(\"g\", prog.free_const_values[0])\n",
    "    print(\"m\", prog.free_const_values[1])"
   ]
  },
  {
   "cell_type": "code",
   "execution_count": null,
   "id": "743c3a54-0fa2-4a30-b719-e0c975ea70e4",
   "metadata": {
    "pycharm": {
     "name": "#%%\n"
    }
   },
   "outputs": [],
   "source": []
  },
  {
   "cell_type": "code",
   "execution_count": null,
   "id": "2b53664e-0ff0-4077-a461-3fcd4b501fb9",
   "metadata": {
    "pycharm": {
     "name": "#%%\n"
    }
   },
   "outputs": [],
   "source": []
  },
  {
   "cell_type": "code",
   "execution_count": null,
   "id": "bf703f2d-e425-41bd-8dbc-822a635b6ac4",
   "metadata": {
    "pycharm": {
     "name": "#%%\n"
    }
   },
   "outputs": [],
   "source": []
  },
  {
   "cell_type": "code",
   "execution_count": null,
   "id": "fef3f136-0b71-468b-9e81-cebaace0da48",
   "metadata": {
    "pycharm": {
     "name": "#%%\n"
    }
   },
   "outputs": [],
   "source": []
  }
 ],
 "metadata": {
  "kernelspec": {
   "display_name": "Python 3 (ipykernel)",
   "language": "python",
   "name": "python3"
  },
  "language_info": {
   "codemirror_mode": {
    "name": "ipython",
    "version": 3
   },
   "file_extension": ".py",
   "mimetype": "text/x-python",
   "name": "python",
   "nbconvert_exporter": "python",
   "pygments_lexer": "ipython3",
   "version": "3.8.16"
  }
 },
 "nbformat": 4,
 "nbformat_minor": 5
}
