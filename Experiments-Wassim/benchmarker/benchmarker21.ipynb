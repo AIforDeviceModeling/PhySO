{
 "cells": [
  {
   "cell_type": "markdown",
   "id": "88fb2bba-b8f7-42e6-bc29-7411fc179a94",
   "metadata": {
    "tags": []
   },
   "source": [
    "# AI Kepler - demo"
   ]
  },
  {
   "cell_type": "markdown",
   "id": "b6fb6e79-0d58-468c-818a-149ef8058fbf",
   "metadata": {},
   "source": [
    "## Packages import"
   ]
  },
  {
   "cell_type": "code",
   "execution_count": 1,
   "id": "c9eedd89-f8b3-4769-9238-6a8b40fc6524",
   "metadata": {},
   "outputs": [
    {
     "name": "stdout",
     "output_type": "stream",
     "text": [
      "/opt/homebrew/Caskroom/miniforge/base/envs/PhySO\n"
     ]
    }
   ],
   "source": [
    "# conda env\n",
    "try:\n",
    "    get_ipython().system('echo $CONDA_PREFIX')\n",
    "except:\n",
    "    pass"
   ]
  },
  {
   "cell_type": "code",
   "execution_count": 2,
   "id": "35f071fc-ad5d-4d5b-8562-e218456af338",
   "metadata": {},
   "outputs": [],
   "source": [
    "# External packages\n",
    "import torch\n",
    "import numpy as np\n",
    "import pandas as pd\n",
    "import time\n",
    "import os\n",
    "# Pyplot\n",
    "import matplotlib.pyplot as plt\n",
    "\n",
    "# Internal code import\n",
    "import physo\n",
    "from physo.learn import monitoring\n",
    "from physo.task  import benchmark"
   ]
  },
  {
   "cell_type": "code",
   "execution_count": 3,
   "id": "57d7631f-d571-4692-b59e-474509aedde0",
   "metadata": {},
   "outputs": [
    {
     "name": "stdout",
     "output_type": "stream",
     "text": [
      "cpu\n"
     ]
    }
   ],
   "source": [
    "# Device\n",
    "DEVICE = 'cpu'\n",
    "if torch.cuda.is_available():\n",
    "    DEVICE = 'cuda'\n",
    "print(DEVICE)"
   ]
  },
  {
   "cell_type": "code",
   "execution_count": 4,
   "id": "6f9e7d23-a381-41a3-849b-9221ff1c2b42",
   "metadata": {},
   "outputs": [
    {
     "data": {
      "text/plain": [
       "False"
      ]
     },
     "execution_count": 4,
     "metadata": {},
     "output_type": "execute_result"
    }
   ],
   "source": [
    "torch.cuda.is_available()"
   ]
  },
  {
   "cell_type": "markdown",
   "id": "4af47e2a-f010-4cb1-bf80-27d5ea1ac44c",
   "metadata": {},
   "source": [
    "### Pareto front"
   ]
  },
  {
   "cell_type": "code",
   "execution_count": 5,
   "id": "b3929623-afab-43df-9996-a40136a7e528",
   "metadata": {},
   "outputs": [],
   "source": [
    "def plot_pareto_front(run_logger,\n",
    "                      do_simplify                   = True,\n",
    "                      show_superparent_at_beginning = True,\n",
    "                      eq_text_size                  = 32,\n",
    "                      delta_xlim                    = [0, 5 ],\n",
    "                      delta_ylim                    = [0, 15],\n",
    "                      frac_delta_equ                = [0.03, 0.03],\n",
    "                      figsize                       = (20, 10),\n",
    "                     ):\n",
    "\n",
    "    pareto_front_complexities, pareto_front_programs, pareto_front_r, pareto_front_rmse = run_logger.get_pareto_front()\n",
    "\n",
    "    # Fig params\n",
    "    plt.rc('text', usetex=True)\n",
    "    # enables new_dummy_symbol = \"\\square\"\n",
    "    plt.rc('text.latex', preamble=r'\\usepackage{amssymb} \\usepackage{xcolor}')\n",
    "\n",
    "    # Fig\n",
    "    fig, ax = plt.subplots(1, 1, figsize=figsize)\n",
    "    ax.plot(pareto_front_complexities, pareto_front_rmse, 'r-')\n",
    "    ax.plot(pareto_front_complexities, pareto_front_rmse, 'ro')\n",
    "\n",
    "    # Limits\n",
    "    xmin = pareto_front_complexities.min() + delta_xlim[0]\n",
    "    xmax = pareto_front_complexities.max() + delta_xlim[1]\n",
    "    ymin = pareto_front_rmse.min() + delta_ylim[0]\n",
    "    ymax = pareto_front_rmse.max() + delta_ylim[1]\n",
    "    ax.set_xlim(xmin, xmax)\n",
    "    ax.set_ylim(ymin, ymax)\n",
    "\n",
    "    # Axes labels\n",
    "    ax.set_xlabel(\"Expression complexity\")\n",
    "    ax.set_ylabel(\"RMSE\")\n",
    "\n",
    "\n",
    "    for i_prog in range (len(pareto_front_programs)):\n",
    "        prog = pareto_front_programs[i_prog]\n",
    "\n",
    "        text_pos  = [pareto_front_complexities[i_prog] + frac_delta_equ[0]*(xmax-xmin), \n",
    "                     pareto_front_rmse[i_prog]         + frac_delta_equ[1]*(ymax-ymin)]\n",
    "        # Getting latex expr\n",
    "        latex_str = prog.get_infix_latex(do_simplify = do_simplify)\n",
    "        # Adding \"superparent =\" before program to make it pretty\n",
    "        if show_superparent_at_beginning:\n",
    "            latex_str = prog.library.superparent.name + ' =' + latex_str\n",
    "\n",
    "\n",
    "        ax.text(text_pos[0], text_pos[1], f'${latex_str}$', size = eq_text_size)\n",
    "        \n",
    "    return fig"
   ]
  },
  {
   "cell_type": "markdown",
   "id": "a7c63330-5a85-4af1-9b73-8abfc2e2c829",
   "metadata": {},
   "source": [
    "## Benchmark config"
   ]
  },
  {
   "cell_type": "markdown",
   "id": "eae96134-4100-4dd2-a6b6-0a8d53f7e746",
   "metadata": {},
   "source": [
    "### Benchmark config"
   ]
  },
  {
   "cell_type": "code",
   "execution_count": 6,
   "id": "701d9cc4-e68e-472e-9898-cd97d2f99b90",
   "metadata": {},
   "outputs": [],
   "source": [
    "benchmark_name = \"benchmark-mechanical_energy\""
   ]
  },
  {
   "cell_type": "markdown",
   "id": "267a0d3e-ace8-4013-9df2-4eeb46afee58",
   "metadata": {},
   "source": [
    "Test cases loading"
   ]
  },
  {
   "cell_type": "code",
   "execution_count": 7,
   "id": "22fe6438-2f1c-4f49-b8c0-f96207a028f9",
   "metadata": {
    "tags": []
   },
   "outputs": [],
   "source": [
    "import benchmark_cases_relativistic_energy as bench_cases"
   ]
  },
  {
   "cell_type": "markdown",
   "id": "6b6d441f-3046-4a7c-bc94-1bda983ccb81",
   "metadata": {},
   "source": [
    "Results path"
   ]
  },
  {
   "cell_type": "code",
   "execution_count": 8,
   "id": "1d6cb924-eb92-43b3-8fd0-890acee99250",
   "metadata": {
    "tags": []
   },
   "outputs": [
    {
     "name": "stdout",
     "output_type": "stream",
     "text": [
      "Folder already exists\n"
     ]
    }
   ],
   "source": [
    "try:\n",
    "    os.mkdir(benchmark_name)\n",
    "except:\n",
    "    print(\"Folder already exists\")\n",
    "os.chdir(\"./%s/\"%(benchmark_name))"
   ]
  },
  {
   "cell_type": "markdown",
   "id": "b898679b-c115-4f8b-a2f5-c0ed10767c1b",
   "metadata": {},
   "source": [
    "Config"
   ]
  },
  {
   "cell_type": "code",
   "execution_count": 9,
   "id": "d013e8e3-4a22-483a-af3b-f7e43d6300fb",
   "metadata": {},
   "outputs": [],
   "source": [
    "EPOCH_REFRESH_RATE = 100\n",
    "N_ATTEMPTS = 5"
   ]
  },
  {
   "cell_type": "markdown",
   "id": "36bb9020-a54d-4016-847c-447d727c61fd",
   "metadata": {
    "tags": []
   },
   "source": [
    "### Loading hyperparams"
   ]
  },
  {
   "cell_type": "code",
   "execution_count": 10,
   "id": "73deefba-1172-465a-bf00-8dcb165dba08",
   "metadata": {},
   "outputs": [],
   "source": [
    "from my_run_config_physics import *"
   ]
  },
  {
   "cell_type": "markdown",
   "id": "ae2b91c3-ae08-47e2-aa75-35fd77ec1f2e",
   "metadata": {},
   "source": [
    "## Sanity checks and setup"
   ]
  },
  {
   "cell_type": "code",
   "execution_count": 11,
   "id": "e0603d89-f7b5-4fd9-9470-e8903a43b8ae",
   "metadata": {},
   "outputs": [],
   "source": [
    "TEST_CASES_SYMBOLIC_TARGETS = {}"
   ]
  },
  {
   "cell_type": "code",
   "execution_count": 12,
   "id": "d051ed26-2fec-4c90-aa96-3b500ee0afb8",
   "metadata": {
    "scrolled": true,
    "tags": []
   },
   "outputs": [
    {
     "name": "stdout",
     "output_type": "stream",
     "text": [
      "---------------------------------------------------------------------------------\n",
      "-------------------------------------- mechanical_energy ---------------------------------------\n",
      "---------------------------------------------------------------------------------\n",
      "Data\n"
     ]
    },
    {
     "data": {
      "image/png": "[encoded data removed]",
      "text/plain": [
       "<Figure size 1000x500 with 2 Axes>"
      ]
     },
     "metadata": {},
     "output_type": "display_data"
    },
    {
     "name": "stdout",
     "output_type": "stream",
     "text": [
      "{'mul': 0, 'add': 1, 'sub': 2, 'div': 3, 'inv': 4, 'n2': 5, 'sqrt': 6, 'exp': 7, 'log': 8, 'sin': 9, 'cos': 10, '1': 11, 'g': 12, 'm': 13, 'z': 14, 'v': 15}\n",
      "-------------------------- Library -------------------------\n",
      "[mul add sub div inv n2 sqrt exp log sin cos 1 g m z v E dummy -]\n",
      "--------------------------- Prior --------------------------\n",
      "PriorCollection:\n",
      "- HardLengthPrior (min_length = 4, max_length = 35)\n",
      "- SoftLengthPrior (length_loc = 6, scale = 5)\n",
      "- NoUselessInversePrior (['inv', 'log', 'exp', 'n2', 'sqrt'] can not be child of ['inv', 'exp', 'log', 'sqrt', 'n2'])\n",
      "- PhysicalUnitsPrior\n",
      "- NestedTrigonometryPrior (tokens = ['sin' 'cos'], nesting forbidden)\n",
      "- OccurrencesPrior (tokens ['1'] can be used [3] times max)\n",
      "-------------------------- Dataset -------------------------\n",
      "X        : torch.Size([2, 50]) \n",
      "y_target : torch.Size([50])\n",
      "-------------------------- Programs ------------------------\n",
      "[['dummy' '-' '-' ... '-' '-' '-']\n",
      " ['dummy' '-' '-' ... '-' '-' '-']\n",
      " ['dummy' '-' '-' ... '-' '-' '-']\n",
      " ...\n",
      " ['dummy' '-' '-' ... '-' '-' '-']\n",
      " ['dummy' '-' '-' ... '-' '-' '-']\n",
      " ['dummy' '-' '-' ... '-' '-' '-']]\n",
      "\n",
      "-------------------------- Cell ------------------------\n",
      "Cell(\n",
      "  (input_dense): Linear(in_features=81, out_features=128, bias=True)\n",
      "  (stacked_cells): ModuleList(\n",
      "    (0): LSTMCell(128, 128)\n",
      "  )\n",
      "  (output_dense): Linear(in_features=128, out_features=16, bias=True)\n",
      ")\n",
      "n_params= 144657\n",
      "-------------------------- Ideal reward ------------------------\n",
      "---- Target ----\n",
      "Tokens in prefix notation:\n",
      "[add, mul, mul, m, g, z, mul, m, n2, v]\n",
      "Raw expression ascii:\n",
      "           2\n",
      "g⋅m⋅z + m⋅v \n",
      "Raw expression:\n"
     ]
    },
    {
     "data": {
      "image/png": "[encoded data removed]",
      "text/plain": [
       "<Figure size 1000x100 with 1 Axes>"
      ]
     },
     "metadata": {},
     "output_type": "display_data"
    },
    {
     "name": "stdout",
     "output_type": "stream",
     "text": [
      "Simplified expression:\n"
     ]
    },
    {
     "data": {
      "image/png": "[encoded data removed]",
      "text/plain": [
       "<Figure size 1000x100 with 1 Axes>"
      ]
     },
     "metadata": {},
     "output_type": "display_data"
    },
    {
     "name": "stdout",
     "output_type": "stream",
     "text": [
      "free const opti time = 3.688334 ms\n"
     ]
    },
    {
     "data": {
      "image/png": "[encoded data removed]",
      "text/plain": [
       "<Figure size 640x480 with 1 Axes>"
      ]
     },
     "metadata": {},
     "output_type": "display_data"
    },
    {
     "name": "stdout",
     "output_type": "stream",
     "text": [
      "Ideal reward : 0.9999999800311574\n"
     ]
    }
   ],
   "source": [
    "for test_case in bench_cases.TEST_CASES:\n",
    "    \n",
    "    # Loading test case\n",
    "    test_case_dict = test_case(DEVICE)\n",
    "    X    = test_case_dict[\"X\"]\n",
    "    y    = test_case_dict[\"y\"]\n",
    "    name = test_case_dict[\"name\"]\n",
    "    library_config        = test_case_dict[\"library_config\"]\n",
    "    target_program_str    = test_case_dict[\"target_program_str\"]\n",
    "    expected_ideal_reward = test_case_dict[\"expected_ideal_reward\"]\n",
    "    candidate_wrapper     = test_case_dict[\"candidate_wrapper\"]\n",
    "    \n",
    "    print(\"---------------------------------------------------------------------------------\")\n",
    "    print(\"-------------------------------------- %s ---------------------------------------\"%(name))\n",
    "    print(\"---------------------------------------------------------------------------------\")\n",
    "\n",
    "    # Making run config\n",
    "    run_logger     = monitoring.RunLogger()\n",
    "    run_visualiser = monitoring.RunVisualiser(epoch_refresh_rate=EPOCH_REFRESH_RATE)\n",
    "    run_config = {\n",
    "        \"learning_config\"      : learning_config,\n",
    "        \"reward_config\"        : reward_config,\n",
    "        \"free_const_opti_args\" : free_const_opti_args,\n",
    "        \"library_config\"       : library_config,\n",
    "        \"priors_config\"        : priors_config,\n",
    "        \"cell_config\"          : cell_config,\n",
    "        \"run_logger\"           : run_logger,\n",
    "        \"run_visualiser\"       : run_visualiser,\n",
    "    }\n",
    "    \n",
    "    # Sanity check \n",
    "    target_program = physo.task.benchmark.sanity_check (X, y, run_config, \n",
    "                                                       target_program_str    = target_program_str, \n",
    "                                                       expected_ideal_reward = expected_ideal_reward, \n",
    "                                                       candidate_wrapper     = candidate_wrapper)\n",
    "    \n",
    "    # Target symbolic\n",
    "    TEST_CASES_SYMBOLIC_TARGETS.update({name:target_program})\n",
    "    "
   ]
  },
  {
   "cell_type": "markdown",
   "id": "f65ee2ba-69d7-443c-b3df-c085176b10c3",
   "metadata": {
    "tags": []
   },
   "source": [
    "## Runs"
   ]
  },
  {
   "cell_type": "code",
   "execution_count": 13,
   "id": "c4fc6732-e4bd-44e5-8a53-fea9753c3494",
   "metadata": {},
   "outputs": [
    {
     "name": "stdout",
     "output_type": "stream",
     "text": [
      "\n",
      "----- Test Case : mechanical_energy -----\n",
      "\n",
      " -> Recovery attempt 1/5\n",
      "Sympy failed to simplify\n",
      "    -> Overall best  at R=1.000000\n",
      "    -> Raw expression        : \n",
      "                 ⎛   ⎛        0.5⎞       ⎞\n",
      "  ⎛        2⎞    ⎜   ⎜     ⎛1⎞   ⎟    0.5⎟\n",
      "m⋅⎝-g⋅z + v ⎠⋅sin⎜log⎜-1 + ⎜─⎟   ⎟ + 1   ⎟\n",
      "                 ⎝   ⎝     ⎝1⎠   ⎠       ⎠\n",
      "    -> Symbolic recovery = False\n",
      "    -> Reward recovery   = True\n",
      "  -> Time = 13.202198 s\n",
      "Pareto front plot failed.\n",
      "\n",
      " -> Recovery attempt 2/5\n",
      "Sympy failed to simplify\n",
      "    -> Overall best  at R=1.000000\n",
      "    -> Raw expression        : \n",
      "                          2  \n",
      "-g⋅m⋅z + 1⋅1⋅log(cos(1))⋅v ⋅m\n",
      "    -> Symbolic recovery = False\n",
      "    -> Reward recovery   = True\n",
      "  -> Time = 20.053897 s\n",
      "\n",
      " -> Recovery attempt 3/5\n",
      "Sympy failed to simplify\n",
      "    -> Overall best  at R=1.000000\n",
      "    -> Raw expression        : \n",
      "  ⎛             2⎞\n",
      "  ⎜      m⋅(v⋅1) ⎟\n",
      "g⋅⎜m⋅z + ────────⎟\n",
      "  ⎝         g    ⎠\n",
      "    -> Symbolic recovery = False\n",
      "    -> Reward recovery   = True\n",
      "  -> Time = 13.587206 s\n",
      "\n",
      " -> Recovery attempt 4/5\n",
      "Sympy failed to simplify\n",
      "    -> Overall best  at R=1.000000\n",
      "    -> Raw expression        : \n",
      "      m       \n",
      "──────────────\n",
      "⎛     1      ⎞\n",
      "⎜────────────⎟\n",
      "⎜  ⎛       2⎞⎟\n",
      "⎜  ⎜      v ⎟⎟\n",
      "⎜g⋅⎜-z + ───⎟⎟\n",
      "⎝  ⎝     1⋅g⎠⎠\n",
      "    -> Symbolic recovery = False\n",
      "    -> Reward recovery   = True\n",
      "  -> Time = 10.474030 s\n",
      "\n",
      " -> Recovery attempt 5/5\n",
      "Sympy failed to simplify\n",
      "    -> Overall best  at R=1.000000\n",
      "    -> Raw expression        : \n",
      "            m            \n",
      "─────────────────────────\n",
      "⎛           1           ⎞\n",
      "⎜───────────────────────⎟\n",
      "⎜         ⎛   ⎛   ⎛1 ⎞⎞⎞⎟\n",
      "⎜         ⎜cos⎜log⎜──⎟⎟⎟⎟\n",
      "⎜         ⎜   ⎜   ⎜ 1⎟⎟⎟⎟\n",
      "⎜         ⎜   ⎝   ⎝ℯ ⎠⎠⎟⎟\n",
      "⎜      log⎜────────────⎟⎟\n",
      "⎜         ⎝     1      ⎠⎟\n",
      "⎜g⋅z + ─────────────────⎟\n",
      "⎜             ⎛1 ⎞      ⎟\n",
      "⎜             ⎜──⎟      ⎟\n",
      "⎜             ⎜ 2⎟      ⎟\n",
      "⎝             ⎝v ⎠      ⎠\n",
      "    -> Symbolic recovery = False\n",
      "    -> Reward recovery   = True\n",
      "  -> Time = 17.687650 s\n"
     ]
    }
   ],
   "source": [
    "# Initialize all cases results\n",
    "cases_names = [*TEST_CASES_SYMBOLIC_TARGETS.keys()]\n",
    "results_all_cases = pd.DataFrame(\n",
    "    index   = cases_names,\n",
    "    columns = [\"name\", \"mean_reward\", \"symbolic_recovery_rate\", \"reward_recovery_rate\", \"mean_epochs\", \"mean_time\"],\n",
    "    )\n",
    "results_all_cases[\"name\"] = cases_names\n",
    "\n",
    "# Test case loop\n",
    "for test_case in bench_cases.TEST_CASES:\n",
    "    \n",
    "    test_case_dict = test_case(DEVICE)\n",
    "    name = test_case_dict[\"name\"]\n",
    "    print(\"\\n----- Test Case : %s -----\"%(name))\n",
    "    \n",
    "    # Making a result log for this test case\n",
    "    results = pd.DataFrame(\n",
    "        index   = np.arange(0, N_ATTEMPTS),\n",
    "        columns = [\"name\", \"i_attempt\", \"reward\", \"symbolic_recovery\", \"reward_recovery\", \"epochs\", \"time\"],\n",
    "        )\n",
    "    \n",
    "    for i_attempt in range(N_ATTEMPTS):\n",
    "        print(\"\\n -> Recovery attempt %i/%i\"%(i_attempt+1, N_ATTEMPTS))\n",
    "\n",
    "        # Loading test case\n",
    "        test_case_dict = test_case(DEVICE)\n",
    "        X    = test_case_dict[\"X\"]\n",
    "        y    = test_case_dict[\"y\"]\n",
    "        name = test_case_dict[\"name\"]\n",
    "        library_config        = test_case_dict[\"library_config\"]\n",
    "        target_program_str    = test_case_dict[\"target_program_str\"]\n",
    "        expected_ideal_reward = test_case_dict[\"expected_ideal_reward\"]\n",
    "        candidate_wrapper     = test_case_dict[\"candidate_wrapper\"]\n",
    "\n",
    "        # Results of all attempts\n",
    "        save_path_results         = \"%s.csv\"           %(name)\n",
    "        # Results per attempt\n",
    "        save_path_log             = \"%s_%s.log\"        %(name, i_attempt)\n",
    "        save_path_training_curves = \"%s_%s_curves.png\" %(name, i_attempt)\n",
    "        save_path_pareto          = \"%s_%s_pareto.png\" %(name, i_attempt)\n",
    "        \n",
    "        # Making run config\n",
    "        run_logger     = monitoring.RunLogger(save_path = save_path_log, \n",
    "                                              do_save = True)\n",
    "        \n",
    "        run_visualiser = monitoring.RunVisualiser (epoch_refresh_rate = EPOCH_REFRESH_RATE,\n",
    "                                                   save_path = save_path_training_curves,\n",
    "                                                   do_show   = False,\n",
    "                                                   do_prints = False,\n",
    "                                                   do_save   = True, )\n",
    "\n",
    "        run_config = {\n",
    "            \"learning_config\"      : learning_config,\n",
    "            \"reward_config\"        : reward_config,\n",
    "            \"free_const_opti_args\" : free_const_opti_args,\n",
    "            \"library_config\"       : library_config,\n",
    "            \"priors_config\"        : priors_config,\n",
    "            \"cell_config\"          : cell_config,\n",
    "            \"run_logger\"           : run_logger,\n",
    "            \"run_visualiser\"       : run_visualiser,\n",
    "        }\n",
    "\n",
    "        # Run\n",
    "        t000 = time.perf_counter()\n",
    "        rewards, candidates = physo.fit(X, y, run_config, stop_reward = expected_ideal_reward, candidate_wrapper = candidate_wrapper)\n",
    "        t111 = time.perf_counter()\n",
    "        run_time = t111-t000\n",
    "\n",
    "        # Recovery status\n",
    "        try:\n",
    "            symbolic_recovery = sympy.simplify(candidates[-1].get_infix_sympy(do_simplify=True) - TEST_CASES_SYMBOLIC_TARGETS[name].get_infix_sympy(do_simplify=True)) == 0\n",
    "        except:\n",
    "            symbolic_recovery = False\n",
    "            print(\"Sympy failed to simplify\")\n",
    "        eps = 1e-5\n",
    "        reward_recovery   = (expected_ideal_reward - rewards[-1]) <= 2*eps\n",
    "\n",
    "        # Save final curves\n",
    "        run_visualiser.save_visualisation()\n",
    "        run_visualiser.save_data()\n",
    "        \n",
    "        # Prints\n",
    "        print(\"    -> Overall best  at R=%f\"%(run_logger.overall_max_R_history[-1]))\n",
    "        print(\"    -> Raw expression        : \\n%s\"%(run_logger.best_prog.get_infix_pretty(do_simplify=False, )))\n",
    "        print(\"    -> Symbolic recovery = %s\"%(symbolic_recovery))\n",
    "        print(\"    -> Reward recovery   = %s\"%(reward_recovery))\n",
    "        print(\"  -> Time = %f s\"%(run_time))\n",
    "        \n",
    "        # Logging results\n",
    "        results[\"name\"              ].iloc[i_attempt] = name\n",
    "        results[\"i_attempt\"         ].iloc[i_attempt] = i_attempt\n",
    "        results[\"reward\"            ].iloc[i_attempt] = rewards[-1]\n",
    "        results[\"symbolic_recovery\" ].iloc[i_attempt] = symbolic_recovery\n",
    "        results[\"reward_recovery\"   ].iloc[i_attempt] = reward_recovery\n",
    "        results[\"epochs\"            ].iloc[i_attempt] = run_logger.epoch\n",
    "        results[\"time\"              ].iloc[i_attempt] = run_time\n",
    "        # Saving updated csv\n",
    "        results.to_csv(save_path_results)\n",
    "\n",
    "        # Save Pareto front\n",
    "        try:\n",
    "            fig = plot_pareto_front(run_logger, eq_text_size=20)\n",
    "            fig.savefig(save_path_pareto)\n",
    "        except:\n",
    "            print(\"Pareto front plot failed.\") # can fail because of sympy\n",
    "        \n",
    "        # Closing figs\n",
    "        plt.close('all')\n",
    "    \n",
    "    # Logging overall test case results\n",
    "    results_all_cases [\"mean_reward\"            ].loc[name] = results     [\"reward\"           ].to_numpy().mean()\n",
    "    results_all_cases [\"symbolic_recovery_rate\" ].loc[name] = 100*results [\"symbolic_recovery\"].to_numpy().astype(int).sum()/N_ATTEMPTS\n",
    "    results_all_cases [\"reward_recovery_rate\"   ].loc[name] = 100*results [\"reward_recovery\"  ].to_numpy().astype(int).sum()/N_ATTEMPTS\n",
    "    results_all_cases [\"mean_epochs\"            ].loc[name] = results     [\"epochs\"           ].to_numpy().mean()\n",
    "    results_all_cases [\"mean_time\"              ].loc[name] = results     [\"time\"             ].to_numpy().mean()\n",
    "    # Save\n",
    "    results_all_cases.to_csv(\"_results.csv\")\n",
    "    "
   ]
  },
  {
   "cell_type": "markdown",
   "id": "e654bdf9-0810-4cd8-b1e3-2990ff2052f9",
   "metadata": {},
   "source": [
    "## Results summary"
   ]
  },
  {
   "cell_type": "code",
   "execution_count": 14,
   "id": "d5fb4ccd-ac77-4073-8dd6-aa866abb5ed0",
   "metadata": {},
   "outputs": [
    {
     "data": {
      "text/html": [
       "<div>\n",
       "<style scoped>\n",
       "    .dataframe tbody tr th:only-of-type {\n",
       "        vertical-align: middle;\n",
       "    }\n",
       "\n",
       "    .dataframe tbody tr th {\n",
       "        vertical-align: top;\n",
       "    }\n",
       "\n",
       "    .dataframe thead th {\n",
       "        text-align: right;\n",
       "    }\n",
       "</style>\n",
       "<table border=\"1\" class=\"dataframe\">\n",
       "  <thead>\n",
       "    <tr style=\"text-align: right;\">\n",
       "      <th></th>\n",
       "      <th>name</th>\n",
       "      <th>mean_reward</th>\n",
       "      <th>symbolic_recovery_rate</th>\n",
       "      <th>reward_recovery_rate</th>\n",
       "      <th>mean_epochs</th>\n",
       "      <th>mean_time</th>\n",
       "    </tr>\n",
       "  </thead>\n",
       "  <tbody>\n",
       "    <tr>\n",
       "      <th>mechanical_energy</th>\n",
       "      <td>mechanical_energy</td>\n",
       "      <td>1.0</td>\n",
       "      <td>0.0</td>\n",
       "      <td>100.0</td>\n",
       "      <td>6.6</td>\n",
       "      <td>15.000996</td>\n",
       "    </tr>\n",
       "  </tbody>\n",
       "</table>\n",
       "</div>"
      ],
      "text/plain": [
       "                                name mean_reward symbolic_recovery_rate  \\\n",
       "mechanical_energy  mechanical_energy         1.0                    0.0   \n",
       "\n",
       "                  reward_recovery_rate mean_epochs  mean_time  \n",
       "mechanical_energy                100.0         6.6  15.000996  "
      ]
     },
     "execution_count": 14,
     "metadata": {},
     "output_type": "execute_result"
    }
   ],
   "source": [
    "# Show\n",
    "results_all_cases"
   ]
  },
  {
   "cell_type": "code",
   "execution_count": null,
   "id": "897b2392-3447-4524-8afb-ef1f15d4d556",
   "metadata": {},
   "outputs": [],
   "source": []
  },
  {
   "cell_type": "code",
   "execution_count": null,
   "id": "104a769a-0efb-4b3a-b704-e4944c039dcd",
   "metadata": {},
   "outputs": [],
   "source": []
  },
  {
   "cell_type": "code",
   "execution_count": null,
   "id": "1c24aa19-528f-404d-975c-ec8efc11358a",
   "metadata": {},
   "outputs": [],
   "source": []
  }
 ],
 "metadata": {
  "kernelspec": {
   "display_name": "Python 3 (ipykernel)",
   "language": "python",
   "name": "python3"
  },
  "language_info": {
   "codemirror_mode": {
    "name": "ipython",
    "version": 3
   },
   "file_extension": ".py",
   "mimetype": "text/x-python",
   "name": "python",
   "nbconvert_exporter": "python",
   "pygments_lexer": "ipython3",
   "version": "3.8.16"
  }
 },
 "nbformat": 4,
 "nbformat_minor": 5
}
