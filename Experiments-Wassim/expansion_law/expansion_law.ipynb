{
 "cells": [
  {
   "cell_type": "markdown",
   "id": "1c819057-4781-4cfc-8d55-e3dcbc33687d",
   "metadata": {
    "pycharm": {
     "name": "#%% md\n"
    },
    "tags": []
   },
   "source": [
    "# $\\Phi$-SO demo"
   ]
  },
  {
   "cell_type": "markdown",
   "id": "e2390f38-ea65-4652-bfb7-0b29ed26a546",
   "metadata": {
    "pycharm": {
     "name": "#%% md\n"
    }
   },
   "source": [
    "## Packages import"
   ]
  },
  {
   "cell_type": "code",
   "execution_count": 1,
   "id": "75f93de4-0542-483d-aeea-f43f2d77f6ba",
   "metadata": {
    "pycharm": {
     "name": "#%%\n"
    }
   },
   "outputs": [
    {
     "name": "stdout",
     "output_type": "stream",
     "text": [
      "/opt/homebrew/Caskroom/miniforge/base/envs/PhySO\n"
     ]
    }
   ],
   "source": [
    "# conda env\n",
    "try:\n",
    "    get_ipython().system('echo $CONDA_PREFIX')\n",
    "except:\n",
    "    pass"
   ]
  },
  {
   "cell_type": "code",
   "execution_count": 2,
   "id": "eb33edce-7eff-4f6f-bc31-7df18053f45a",
   "metadata": {},
   "outputs": [],
   "source": [
    "try:\n",
    "    %matplotlib inline\n",
    "    #get_ipython().run_line_magic('matplotlib', 'inline')\n",
    "except:\n",
    "    pass"
   ]
  },
  {
   "cell_type": "code",
   "execution_count": 3,
   "id": "7e3ee9d9-c786-4583-aa32-2fbc65584009",
   "metadata": {
    "pycharm": {
     "name": "#%%\n"
    }
   },
   "outputs": [],
   "source": [
    "# External packages\n",
    "import torch\n",
    "import numpy as np\n",
    "import pandas as pd\n",
    "import time\n",
    "# Pyplot\n",
    "import matplotlib.pyplot as plt\n",
    "\n",
    "# Internal code import\n",
    "import physo\n",
    "from physo.learn import monitoring\n",
    "from physo.task  import benchmark"
   ]
  },
  {
   "cell_type": "code",
   "execution_count": 4,
   "id": "6b52eaea-6ca2-4d3e-a846-2eedcd932e56",
   "metadata": {
    "pycharm": {
     "name": "#%%\n"
    }
   },
   "outputs": [
    {
     "name": "stdout",
     "output_type": "stream",
     "text": [
      "cpu\n"
     ]
    }
   ],
   "source": [
    "# Device\n",
    "DEVICE = 'cpu'\n",
    "if torch.cuda.is_available():\n",
    "    DEVICE = 'cuda'\n",
    "print(DEVICE)"
   ]
  },
  {
   "cell_type": "code",
   "execution_count": 5,
   "id": "8c8890ee-a992-4bb6-a0ff-8847e82c99ab",
   "metadata": {
    "pycharm": {
     "name": "#%%\n"
    }
   },
   "outputs": [
    {
     "data": {
      "text/plain": [
       "False"
      ]
     },
     "execution_count": 5,
     "metadata": {},
     "output_type": "execute_result"
    }
   ],
   "source": [
    "torch.cuda.is_available()"
   ]
  },
  {
   "cell_type": "markdown",
   "id": "91946a7e-e7dd-446b-9de9-101c930e82ce",
   "metadata": {
    "pycharm": {
     "name": "#%% md\n"
    }
   },
   "source": [
    "## Test case"
   ]
  },
  {
   "cell_type": "markdown",
   "id": "9277c474-cd4b-4217-9ab0-61de99650170",
   "metadata": {},
   "source": [
    "#### Target function and wrapper"
   ]
  },
  {
   "cell_type": "code",
   "execution_count": 6,
   "id": "d1ad73c3-fe99-4fd2-8ad3-ad930e2089f2",
   "metadata": {
    "tags": []
   },
   "outputs": [
    {
     "name": "stdout",
     "output_type": "stream",
     "text": [
      "13\n"
     ]
    }
   ],
   "source": [
    "H0    = 1.0723 #73.3 #km/s/Mpc\n",
    "Omega = 1.315 # 10.315\n",
    "c = 1.13 # 3e5 # km/s\n",
    "\n",
    "H0 = torch.tensor(np.array(H0)).to(DEVICE)\n",
    "Omega = torch.tensor(np.array(Omega)).to(DEVICE)\n",
    "c = torch.tensor(np.array(c)).to(DEVICE)\n",
    "\n",
    "\n",
    "f_LCDM = lambda X: (H0**2)*(Omega*(X[0])**3 + 1 - Omega) # (H0**2)*Omega*x**3 + (H0**2)*(1 - Omega) # = c0*x**3 + c1\n",
    "\n",
    "target_program_str = [\"mul\", \"n2\", \"H0\", \"sub\", \"add\", \"mul\", \"Omega\", \"mul\", \"x\", \"n2\", \"x\", \"1\", \"Omega\"]\n",
    "print(len(target_program_str))"
   ]
  },
  {
   "cell_type": "code",
   "execution_count": 7,
   "id": "e9155e4b-c79b-47b5-bc3d-cfe6c6a568bb",
   "metadata": {},
   "outputs": [],
   "source": [
    "def my_torch_1D_integrate(f, a, b, N=100):\n",
    "    #space        = torch.linspace(a, b, N)\n",
    "    space = torch.tensor(np.linspace(a, b, N)).to(DEVICE)\n",
    "    int_on_space = f(space)\n",
    "    res = torch.trapezoid(y=int_on_space, x=space,)\n",
    "    return res"
   ]
  },
  {
   "cell_type": "code",
   "execution_count": 8,
   "id": "4a3037a1-4238-4638-985b-8bc479fe9de7",
   "metadata": {
    "tags": []
   },
   "outputs": [],
   "source": [
    "def wrapper_func (func, X):\n",
    "    z = X[0]\n",
    "    def H_func (z):\n",
    "        X_modif = torch.stack((z+1.,), dim=0)\n",
    "        res = torch.sqrt(func(X_modif))\n",
    "        return res  # in Mpc\n",
    "    integrand = lambda zp: 1/H_func(zp)\n",
    "    integral  = torch.stack([my_torch_1D_integrate(integrand, 0, z_i, N=100) for z_i in z])\n",
    "    dL = (1+z)*c*integral # in Mpc\n",
    "    mu_z = 5*torch.log10(dL/1e-5) # 10 pc = 1e-5 Mpc\n",
    "    return mu_z"
   ]
  },
  {
   "cell_type": "markdown",
   "id": "725b0a10-78bb-47b1-9152-00fa2e6f1719",
   "metadata": {},
   "source": [
    "#### Observational data"
   ]
  },
  {
   "cell_type": "code",
   "execution_count": 9,
   "id": "1912cf7c-3440-4b20-bc39-0ee7ca57385c",
   "metadata": {
    "tags": []
   },
   "outputs": [],
   "source": [
    "df = pd.read_csv(\"Scolnic_2018.txt\", sep=\" \", index_col=False)\n",
    "df = df.sort_values(by=\"zcmb\")"
   ]
  },
  {
   "cell_type": "code",
   "execution_count": 10,
   "id": "00d6a519-9248-443e-819a-022c8947a14b",
   "metadata": {
    "tags": []
   },
   "outputs": [],
   "source": [
    "z_array  = df[\"zcmb\"].to_numpy()\n",
    "mu_array = df[\"mb\"] + 19.253 # https://iopscience.iop.org/article/10.3847/2041-8213/ac5c5b\n",
    "\n",
    "X_array = np.stack((z_array,), axis=0)\n",
    "y_array = mu_array"
   ]
  },
  {
   "cell_type": "code",
   "execution_count": 11,
   "id": "edd60e6a-32f1-4a70-9374-a960b0dd2070",
   "metadata": {
    "tags": []
   },
   "outputs": [
    {
     "data": {
      "image/png": "[encoded data removed]",
      "text/plain": [
       "<Figure size 1000x500 with 1 Axes>"
      ]
     },
     "metadata": {},
     "output_type": "display_data"
    }
   ],
   "source": [
    "n_dim = X_array.shape[0]\n",
    "fig, ax = plt.subplots(n_dim, 1, figsize=(10,5))\n",
    "for i in range (n_dim):\n",
    "    curr_ax = ax if n_dim==1 else ax[i]\n",
    "    curr_ax.plot(X_array[i], y_array, 'k.',)\n",
    "    curr_ax.set_xlabel(\"X[%i]\"%(i))\n",
    "    curr_ax.set_ylabel(\"y\")\n",
    "plt.show()"
   ]
  },
  {
   "cell_type": "code",
   "execution_count": 12,
   "id": "c5e4e5cc-249a-41bd-bd74-3f0d47e30b04",
   "metadata": {
    "tags": []
   },
   "outputs": [],
   "source": [
    "# ------ Vectors ------\n",
    "# Stack of all input variables\n",
    "X = torch.tensor(X_array).to(DEVICE)\n",
    "# Output of symbolic function to guess\n",
    "y = torch.tensor(y_array).to(DEVICE)"
   ]
  },
  {
   "cell_type": "code",
   "execution_count": 13,
   "id": "0197558b-73e8-48f6-99bd-3806ab0b4962",
   "metadata": {},
   "outputs": [
    {
     "data": {
      "text/plain": [
       "[<matplotlib.lines.Line2D at 0x1578834f0>]"
      ]
     },
     "execution_count": 13,
     "metadata": {},
     "output_type": "execute_result"
    },
    {
     "data": {
      "image/png": "[encoded data removed]",
      "text/plain": [
       "<Figure size 640x480 with 1 Axes>"
      ]
     },
     "metadata": {},
     "output_type": "display_data"
    }
   ],
   "source": [
    "plt.plot(X[0], y, \"k.\", label=\"Scolnic_2018\")\n",
    "plt.plot(X[0], wrapper_func(f_LCDM, X), \"r-\", label=\"LCDM\")"
   ]
  },
  {
   "cell_type": "markdown",
   "id": "a35f1e71-af13-4df9-9f91-fd607bd590fa",
   "metadata": {},
   "source": [
    "#### Synthetic data"
   ]
  },
  {
   "cell_type": "code",
   "execution_count": 14,
   "id": "3980df16-566f-4f80-b71a-b7f0d71f14b8",
   "metadata": {
    "tags": []
   },
   "outputs": [],
   "source": [
    "z_array  = np.linspace(0.01, 2.5, 1000)\n",
    "X_array = np.stack((z_array,), axis=0)"
   ]
  },
  {
   "cell_type": "code",
   "execution_count": 15,
   "id": "ae3c2073-4d7e-4649-aff8-4bb107fc7219",
   "metadata": {},
   "outputs": [],
   "source": [
    "# ------ Vectors ------\n",
    "# Stack of all input variables\n",
    "X = torch.tensor(X_array).to(DEVICE)\n",
    "# Output of symbolic function to guess\n",
    "y = wrapper_func(f_LCDM, X).to(DEVICE)"
   ]
  },
  {
   "cell_type": "code",
   "execution_count": 16,
   "id": "5f392f91-fb72-4a9c-bd68-66dba95a4b22",
   "metadata": {
    "tags": []
   },
   "outputs": [
    {
     "data": {
      "text/plain": [
       "[<matplotlib.lines.Line2D at 0x1578f4910>]"
      ]
     },
     "execution_count": 16,
     "metadata": {},
     "output_type": "execute_result"
    },
    {
     "data": {
      "image/png": "[encoded data removed]",
      "text/plain": [
       "<Figure size 640x480 with 1 Axes>"
      ]
     },
     "metadata": {},
     "output_type": "display_data"
    }
   ],
   "source": [
    "plt.plot(X[0], y, \"k.\", label=\"Synthetic LCDM\")\n",
    "plt.plot(X[0], wrapper_func(f_LCDM, X), \"r-\", label=\"LCDM\")"
   ]
  },
  {
   "cell_type": "markdown",
   "id": "19e5e3c7-2e01-4417-a14e-a296eb01de9c",
   "metadata": {},
   "source": [
    "#### Constants"
   ]
  },
  {
   "cell_type": "code",
   "execution_count": 17,
   "id": "7bde0daf-5985-4580-8e34-cc44c40b80de",
   "metadata": {},
   "outputs": [],
   "source": [
    "# ------ Constants ------\n",
    "const1 = torch.tensor(np.array(1.)).to(DEVICE)"
   ]
  },
  {
   "cell_type": "markdown",
   "id": "f99536b4-3c74-4aa6-a11c-268de1c85521",
   "metadata": {
    "pycharm": {
     "name": "#%% md\n"
    }
   },
   "source": [
    "## Run config"
   ]
  },
  {
   "cell_type": "markdown",
   "id": "fcd2dc16-d481-4bba-8d39-87ae889ac1d4",
   "metadata": {
    "pycharm": {
     "name": "#%% md\n"
    }
   },
   "source": [
    "### Library config"
   ]
  },
  {
   "cell_type": "code",
   "execution_count": 18,
   "id": "768abb1c-f1d2-4c85-af3c-2c07bf165a4a",
   "metadata": {
    "pycharm": {
     "name": "#%%\n"
    }
   },
   "outputs": [],
   "source": [
    "args_make_tokens = {\n",
    "                # operations\n",
    "                \"op_names\"             : [\"mul\", \"add\", \"sub\", \"div\", \"inv\", \"n2\", \"sqrt\",], # \"exp\", \"log\", \"sin\", \"cos\"],\n",
    "                \"use_protected_ops\"    : True,\n",
    "                # input variables\n",
    "                \"input_var_ids\"        : {\"x\" : 0         ,},\n",
    "                \"input_var_units\"      : {\"x\" : [0, 0, 0] ,},\n",
    "                \"input_var_complexity\" : {\"x\" : 1.        ,},\n",
    "                # constants\n",
    "                \"constants\"            : {\"1\" : const1    , },\n",
    "                \"constants_units\"      : {\"1\" : [0, 0, 0] , },\n",
    "                \"constants_complexity\" : {\"1\" : 1.        , },\n",
    "                # free constants\n",
    "                \"free_constants\"            : {\"H0\"              , \"Omega\"              ,},\n",
    "                \"free_constants_init_val\"   : {\"H0\" : 1.         , \"Omega\" : 1.         ,},\n",
    "                \"free_constants_units\"      : {\"H0\" : [0, -1, 0] , \"Omega\" : [0, 0, 0]  ,},\n",
    "                \"free_constants_complexity\" : {\"H0\" : 1.         , \"Omega\" : 1.         ,},\n",
    "                    }\n",
    "\n",
    "library_config = {\"args_make_tokens\"  : args_make_tokens,\n",
    "                  \"superparent_units\" : [0, -1, 0],\n",
    "                  \"superparent_name\"  : \"sqrtH\",\n",
    "                }"
   ]
  },
  {
   "cell_type": "markdown",
   "id": "9c0fdbbb-616f-4682-888b-6d4a0b013e5e",
   "metadata": {
    "pycharm": {
     "name": "#%% md\n"
    }
   },
   "source": [
    "### Free constant optimizer config"
   ]
  },
  {
   "cell_type": "code",
   "execution_count": 19,
   "id": "ed9fb0ca-f205-4196-bf6e-1f2b5a295618",
   "metadata": {
    "pycharm": {
     "name": "#%%\n"
    }
   },
   "outputs": [],
   "source": [
    "free_const_opti_args = {\n",
    "            'loss'   : \"MSE\",\n",
    "            'method' : 'LBFGS',\n",
    "            'method_args': {\n",
    "                        'n_steps' : 30,\n",
    "                        'tol'     : 1e-3,\n",
    "                        'lbfgs_func_args' : {\n",
    "                            'max_iter'       : 2,\n",
    "                            'line_search_fn' : \"strong_wolfe\",\n",
    "                                             },\n",
    "                            },\n",
    "        }\n"
   ]
  },
  {
   "cell_type": "markdown",
   "id": "060e9ac0-6d66-4d2b-8323-4104f83ff1ed",
   "metadata": {
    "pycharm": {
     "name": "#%% md\n"
    }
   },
   "source": [
    "### Learning config"
   ]
  },
  {
   "cell_type": "code",
   "execution_count": 20,
   "id": "5ed47488-1f1e-49ba-8fec-f7d75593f311",
   "metadata": {
    "pycharm": {
     "name": "#%%\n"
    }
   },
   "outputs": [],
   "source": [
    "MAX_TRIAL_EXPRESSIONS = 2*1e6\n",
    "BATCH_SIZE = int(1e3)\n",
    "MAX_LENGTH = 35\n",
    "GET_OPTIMIZER = lambda model : torch.optim.Adam(\n",
    "                                    model.parameters(),                \n",
    "                                    lr=0.0025, #0.001, #0.0050, #0.0005, #1,  #lr=0.0025\n",
    "                                                )"
   ]
  },
  {
   "cell_type": "code",
   "execution_count": 21,
   "id": "9138fb9e-718b-45c8-8727-fa128ce477b8",
   "metadata": {
    "pycharm": {
     "name": "#%%\n"
    }
   },
   "outputs": [],
   "source": [
    "reward_config = {\n",
    "                 \"reward_function\"     : physo.physym.reward.SquashedNRMSE, # PHYSICALITY\n",
    "                 \"zero_out_unphysical\" : True,\n",
    "                 \"zero_out_duplicates\" : False,\n",
    "                 \"keep_lowest_complexity_duplicate\" : False,\n",
    "                }"
   ]
  },
  {
   "cell_type": "code",
   "execution_count": 22,
   "id": "8962169d-3120-4936-9336-c32a5ebe6c4a",
   "metadata": {
    "pycharm": {
     "name": "#%%\n"
    }
   },
   "outputs": [],
   "source": [
    "learning_config = {\n",
    "    # Batch related\n",
    "    'batch_size'       : BATCH_SIZE,\n",
    "    'max_time_step'    : MAX_LENGTH,\n",
    "    'n_epochs'         : int(1e9), #int(MAX_TRIAL_EXPRESSIONS/BATCH_SIZE),\n",
    "    # Loss related\n",
    "    'gamma_decay'      : 0.7,\n",
    "    'entropy_weight'   : 0.005,\n",
    "    # Reward related\n",
    "    'risk_factor'      : 0.05,\n",
    "    'rewards_computer' : physo.physym.reward.make_RewardsComputer (**reward_config),\n",
    "    # Optimizer\n",
    "    'get_optimizer'    : GET_OPTIMIZER,\n",
    "}"
   ]
  },
  {
   "cell_type": "markdown",
   "id": "953c65fd-c2f9-4e52-a24b-8e18e55c1175",
   "metadata": {
    "pycharm": {
     "name": "#%% md\n"
    }
   },
   "source": [
    "### Priors config"
   ]
  },
  {
   "cell_type": "code",
   "execution_count": 23,
   "id": "5d9c0a8c-45d1-4690-adbb-05c723a6fb23",
   "metadata": {
    "pycharm": {
     "name": "#%%\n"
    }
   },
   "outputs": [],
   "source": [
    "priors_config  = [\n",
    "                #(\"UniformArityPrior\", None),\n",
    "                # LENGTH RELATED\n",
    "                (\"HardLengthPrior\"  , {\"min_length\": 4, \"max_length\": MAX_LENGTH, }),\n",
    "                (\"SoftLengthPrior\"  , {\"length_loc\": 6, \"scale\": 5, }),\n",
    "                # RELATIONSHIPS RELATED\n",
    "                (\"NoUselessInversePrior\"  , None),\n",
    "                (\"PhysicalUnitsPrior\", {\"prob_eps\": np.finfo(np.float32).eps}), # PHYSICALITY\n",
    "                #(\"NestedFunctions\", {\"functions\":[\"exp\",], \"max_nesting\" : 1}),\n",
    "                #(\"NestedFunctions\", {\"functions\":[\"log\",], \"max_nesting\" : 1}),\n",
    "                #(\"NestedTrigonometryPrior\", {\"max_nesting\" : 1}),\n",
    "                (\"OccurrencesPrior\", {\"targets\" : [\"1\",], \"max\" : [4,] }),\n",
    "                 ]"
   ]
  },
  {
   "cell_type": "markdown",
   "id": "e160af48-8107-4b0b-ab64-0225f778395c",
   "metadata": {
    "pycharm": {
     "name": "#%% md\n"
    }
   },
   "source": [
    "### Cell config"
   ]
  },
  {
   "cell_type": "code",
   "execution_count": 24,
   "id": "800c72cf-d360-4fe1-91ea-06c5d0fad5a5",
   "metadata": {
    "pycharm": {
     "name": "#%%\n"
    }
   },
   "outputs": [],
   "source": [
    "cell_config = {\n",
    "    \"hidden_size\" : 128,\n",
    "    \"n_layers\"    : 1,\n",
    "}"
   ]
  },
  {
   "cell_type": "markdown",
   "id": "c2705332-c4fb-4364-a3e9-7e3a4c3a00ed",
   "metadata": {
    "pycharm": {
     "name": "#%% md\n"
    }
   },
   "source": [
    "### Logger"
   ]
  },
  {
   "cell_type": "code",
   "execution_count": 25,
   "id": "adad8e67-918a-45bf-8a6d-67d1249abd5c",
   "metadata": {
    "pycharm": {
     "name": "#%%\n"
    }
   },
   "outputs": [],
   "source": [
    "save_path_training_curves = 'demo_curves.png'\n",
    "save_path_log             = 'demo.log'\n",
    "\n",
    "run_logger     = monitoring.RunLogger(save_path = save_path_log, \n",
    "                                      do_save = True)\n",
    "\n",
    "run_visualiser = monitoring.RunVisualiser (epoch_refresh_rate = 1,\n",
    "                                           save_path = save_path_training_curves,\n",
    "                                           do_show   = False,\n",
    "                                           do_prints = True,\n",
    "                                           do_save   = True, )"
   ]
  },
  {
   "cell_type": "markdown",
   "id": "fbeb2e7f-1541-42d0-b9d2-770d9de3089a",
   "metadata": {
    "pycharm": {
     "name": "#%% md\n"
    }
   },
   "source": [
    "### Run config"
   ]
  },
  {
   "cell_type": "code",
   "execution_count": 26,
   "id": "64d31a26-f417-4395-a755-3a17c82497fc",
   "metadata": {
    "pycharm": {
     "name": "#%%\n"
    }
   },
   "outputs": [],
   "source": [
    "run_config = {\n",
    "    \"learning_config\"      : learning_config,\n",
    "    \"reward_config\"        : reward_config,\n",
    "    \"free_const_opti_args\" : free_const_opti_args,\n",
    "    \"library_config\"       : library_config,\n",
    "    \"priors_config\"        : priors_config,\n",
    "    \"cell_config\"          : cell_config,\n",
    "    \"run_logger\"           : run_logger,\n",
    "    \"run_visualiser\"       : run_visualiser,\n",
    "}"
   ]
  },
  {
   "cell_type": "markdown",
   "id": "885a2807-0877-4e6d-a5a3-397b132f8f1b",
   "metadata": {
    "pycharm": {
     "name": "#%% md\n"
    }
   },
   "source": [
    "## Dummy epoch for prior tuning"
   ]
  },
  {
   "cell_type": "code",
   "execution_count": 27,
   "id": "aac68b1b-fd46-4d83-aea1-81e2b15ca5a7",
   "metadata": {
    "pycharm": {
     "name": "#%%\n"
    }
   },
   "outputs": [
    {
     "data": {
      "image/png": "[encoded data removed]",
      "text/plain": [
       "<Figure size 1400x700 with 2 Axes>"
      ]
     },
     "metadata": {},
     "output_type": "display_data"
    },
    {
     "data": {
      "image/png": "[encoded data removed]",
      "text/plain": [
       "<Figure size 1400x700 with 2 Axes>"
      ]
     },
     "metadata": {},
     "output_type": "display_data"
    }
   ],
   "source": [
    "benchmark.dummy_epoch(X, y, run_config)"
   ]
  },
  {
   "cell_type": "markdown",
   "id": "2ae6b8bf-4e62-40f1-bc6f-a6007f2dec40",
   "metadata": {
    "pycharm": {
     "name": "#%% md\n"
    }
   },
   "source": [
    "## Sanity checks"
   ]
  },
  {
   "cell_type": "code",
   "execution_count": 28,
   "id": "8cabf154-ea75-4a76-ae26-835e1a66dd75",
   "metadata": {
    "pycharm": {
     "name": "#%%\n"
    }
   },
   "outputs": [
    {
     "name": "stdout",
     "output_type": "stream",
     "text": [
      "Data\n"
     ]
    },
    {
     "data": {
      "image/png": "[encoded data removed]",
      "text/plain": [
       "<Figure size 1000x500 with 1 Axes>"
      ]
     },
     "metadata": {},
     "output_type": "display_data"
    },
    {
     "name": "stdout",
     "output_type": "stream",
     "text": [
      "{'mul': 0, 'add': 1, 'sub': 2, 'div': 3, 'inv': 4, 'n2': 5, 'sqrt': 6, '1': 7, 'H0': 8, 'Omega': 9, 'x': 10}\n",
      "-------------------------- Library -------------------------\n",
      "[mul add sub div inv n2 sqrt 1 H0 Omega x sqrtH dummy -]\n",
      "--------------------------- Prior --------------------------\n",
      "PriorCollection:\n",
      "- HardLengthPrior (min_length = 4, max_length = 35)\n",
      "- SoftLengthPrior (length_loc = 6, scale = 5)\n",
      "- NoUselessInversePrior (['inv', 'n2', 'sqrt'] can not be child of ['inv', 'sqrt', 'n2'])\n",
      "- PhysicalUnitsPrior\n",
      "- OccurrencesPrior (tokens ['1'] can be used [4] times max)\n",
      "-------------------------- Dataset -------------------------\n",
      "X        : torch.Size([1, 1000]) \n",
      "y_target : torch.Size([1000])\n",
      "-------------------------- Programs ------------------------\n",
      "[['dummy' '-' '-' ... '-' '-' '-']\n",
      " ['dummy' '-' '-' ... '-' '-' '-']\n",
      " ['dummy' '-' '-' ... '-' '-' '-']\n",
      " ...\n",
      " ['dummy' '-' '-' ... '-' '-' '-']\n",
      " ['dummy' '-' '-' ... '-' '-' '-']\n",
      " ['dummy' '-' '-' ... '-' '-' '-']]\n",
      "\n",
      "-------------------------- Cell ------------------------\n",
      "Cell(\n",
      "  (input_dense): Linear(in_features=66, out_features=128, bias=True)\n",
      "  (stacked_cells): ModuleList(\n",
      "    (0): LSTMCell(128, 128)\n",
      "  )\n",
      "  (output_dense): Linear(in_features=128, out_features=11, bias=True)\n",
      ")\n",
      "n_params= 142092\n",
      "-------------------------- Ideal reward ------------------------\n",
      "---- Target ----\n",
      "Tokens in prefix notation:\n",
      "[mul, n2, H0, sub, add, mul, Omega, mul, x, n2, x, 1, Omega]\n",
      "Raw expression ascii:\n",
      "  2 ⎛     2        ⎞\n",
      "H₀ ⋅⎝Ω⋅x⋅x  - Ω + 1⎠\n",
      "Raw expression:\n"
     ]
    },
    {
     "data": {
      "image/png": "[encoded data removed]",
      "text/plain": [
       "<Figure size 1000x100 with 1 Axes>"
      ]
     },
     "metadata": {},
     "output_type": "display_data"
    },
    {
     "name": "stdout",
     "output_type": "stream",
     "text": [
      "Simplified expression:\n"
     ]
    },
    {
     "data": {
      "image/png": "[encoded data removed]",
      "text/plain": [
       "<Figure size 1000x100 with 1 Axes>"
      ]
     },
     "metadata": {},
     "output_type": "display_data"
    },
    {
     "name": "stdout",
     "output_type": "stream",
     "text": [
      "Ideal reward : 0.5842251166481252\n"
     ]
    },
    {
     "ename": "AssertionError",
     "evalue": "Ideal reward should be >= 1.000000 +/- 0.000010 ",
     "output_type": "error",
     "traceback": [
      "\u001b[0;31m---------------------------------------------------------------------------\u001b[0m",
      "\u001b[0;31mAssertionError\u001b[0m                            Traceback (most recent call last)",
      "Cell \u001b[0;32mIn[28], line 1\u001b[0m\n\u001b[0;32m----> 1\u001b[0m target_program \u001b[38;5;241m=\u001b[39m \u001b[43mbenchmark\u001b[49m\u001b[38;5;241;43m.\u001b[39;49m\u001b[43msanity_check\u001b[49m\u001b[43m(\u001b[49m\u001b[43mX\u001b[49m\u001b[43m,\u001b[49m\u001b[43m \u001b[49m\u001b[43my\u001b[49m\u001b[43m,\u001b[49m\u001b[43m \u001b[49m\u001b[43mrun_config\u001b[49m\u001b[43m,\u001b[49m\u001b[43m \u001b[49m\u001b[43mcandidate_wrapper\u001b[49m\u001b[43m \u001b[49m\u001b[38;5;241;43m=\u001b[39;49m\u001b[43m \u001b[49m\u001b[43mwrapper_func\u001b[49m\u001b[43m,\u001b[49m\u001b[43m \u001b[49m\u001b[43mtarget_program_str\u001b[49m\u001b[38;5;241;43m=\u001b[39;49m\u001b[43mtarget_program_str\u001b[49m\u001b[43m,\u001b[49m\u001b[43m \u001b[49m\u001b[43mexpected_ideal_reward\u001b[49m\u001b[38;5;241;43m=\u001b[39;49m\u001b[38;5;241;43m1.\u001b[39;49m\u001b[43m)\u001b[49m\n",
      "File \u001b[0;32m~/Documents/ASTRO_research/projects/AI_physicist/my_AI_physicist/PhySO/PhySO/physo/task/benchmark.py:169\u001b[0m, in \u001b[0;36msanity_check\u001b[0;34m(X, y, run_config, candidate_wrapper, target_program_str, expected_ideal_reward)\u001b[0m\n\u001b[1;32m    166\u001b[0m \u001b[38;5;66;03m# todo: assert that it is physical and compute reward through a batch\u001b[39;00m\n\u001b[1;32m    168\u001b[0m eps \u001b[38;5;241m=\u001b[39m \u001b[38;5;241m1e-5\u001b[39m\n\u001b[0;32m--> 169\u001b[0m \u001b[38;5;28;01massert\u001b[39;00m (expected_ideal_reward \u001b[38;5;241m-\u001b[39m ideal_reward) \u001b[38;5;241m<\u001b[39m\u001b[38;5;241m=\u001b[39m \u001b[38;5;241m2\u001b[39m\u001b[38;5;241m*\u001b[39meps, \u001b[38;5;124m'\u001b[39m\u001b[38;5;124mIdeal reward should be >= \u001b[39m\u001b[38;5;132;01m%f\u001b[39;00m\u001b[38;5;124m +/- \u001b[39m\u001b[38;5;132;01m%f\u001b[39;00m\u001b[38;5;124m \u001b[39m\u001b[38;5;124m'\u001b[39m\u001b[38;5;241m%\u001b[39m (expected_ideal_reward, eps)\n\u001b[1;32m    171\u001b[0m \u001b[38;5;28;01mreturn\u001b[39;00m target_program\n",
      "\u001b[0;31mAssertionError\u001b[0m: Ideal reward should be >= 1.000000 +/- 0.000010 "
     ]
    }
   ],
   "source": [
    "target_program = benchmark.sanity_check(X, y, run_config, candidate_wrapper = wrapper_func, target_program_str=target_program_str, expected_ideal_reward=0.99)"
   ]
  },
  {
   "cell_type": "markdown",
   "id": "07efd770-e68b-482c-ad61-a84665a49168",
   "metadata": {
    "pycharm": {
     "name": "#%% md\n"
    },
    "tags": []
   },
   "source": [
    "## Run"
   ]
  },
  {
   "cell_type": "code",
   "execution_count": null,
   "id": "7f8093c2-f8a5-4e5d-845e-f65946a273b1",
   "metadata": {
    "pycharm": {
     "name": "#%%\n"
    },
    "scrolled": true,
    "tags": []
   },
   "outputs": [],
   "source": [
    "rewards, candidates = physo.fit(X, y, run_config, candidate_wrapper = wrapper_func)"
   ]
  },
  {
   "cell_type": "code",
   "execution_count": null,
   "id": "5cbf43d6-0424-4fe1-89d9-6a6208611c56",
   "metadata": {
    "pycharm": {
     "name": "#%%\n"
    }
   },
   "outputs": [],
   "source": []
  },
  {
   "cell_type": "markdown",
   "id": "0f1992b4-2da4-4dab-aed2-549407cbe60f",
   "metadata": {
    "pycharm": {
     "name": "#%% md\n"
    }
   },
   "source": [
    "## Results"
   ]
  },
  {
   "cell_type": "markdown",
   "id": "71ea53c8-5fe7-4b5c-9c4c-08196ea3dac9",
   "metadata": {
    "pycharm": {
     "name": "#%% md\n"
    }
   },
   "source": [
    "### Run plot"
   ]
  },
  {
   "cell_type": "code",
   "execution_count": null,
   "id": "a9ac7f6d-9474-446f-a019-c76a1eaa2759",
   "metadata": {
    "pycharm": {
     "name": "#%%\n"
    }
   },
   "outputs": [],
   "source": [
    "run_visualiser.make_visualisation()"
   ]
  },
  {
   "cell_type": "markdown",
   "id": "6a46b42c-08ad-4ebd-877c-22f4afa14078",
   "metadata": {
    "pycharm": {
     "name": "#%% md\n"
    }
   },
   "source": [
    "### Pareto Front"
   ]
  },
  {
   "cell_type": "code",
   "execution_count": null,
   "id": "d26469f7-aabd-4abe-af30-a9c71705d8e2",
   "metadata": {
    "pycharm": {
     "name": "#%%\n"
    }
   },
   "outputs": [],
   "source": [
    "def plot_pareto_front(run_logger,\n",
    "                      do_simplify                   = True,\n",
    "                      show_superparent_at_beginning = True,\n",
    "                      eq_text_size                  = 12,\n",
    "                      delta_xlim                    = [0, 5 ],\n",
    "                      delta_ylim                    = [0, 15],\n",
    "                      frac_delta_equ                = [0.03, 0.03],\n",
    "                      figsize                       = (20, 10),\n",
    "                     ):\n",
    "\n",
    "    pareto_front_complexities, pareto_front_programs, pareto_front_r, pareto_front_rmse = run_logger.get_pareto_front()\n",
    "\n",
    "    pareto_front_rmse = np.log(pareto_front_rmse)\n",
    "    # Fig params\n",
    "    plt.rc('text', usetex=True)\n",
    "    plt.rc('font', family='serif')\n",
    "    # enables new_dummy_symbol = \"\\square\"\n",
    "    plt.rc('text.latex', preamble=r'\\usepackage{amssymb} \\usepackage{xcolor}')\n",
    "    plt.rc('font', size=32)\n",
    "\n",
    "    # Fig\n",
    "    fig, ax = plt.subplots(1, 1, figsize=figsize)\n",
    "    ax.plot(pareto_front_complexities, pareto_front_rmse, 'r-')\n",
    "    ax.plot(pareto_front_complexities, pareto_front_rmse, 'ro')\n",
    "\n",
    "    # Limits\n",
    "    xmin = pareto_front_complexities.min() + delta_xlim[0]\n",
    "    xmax = pareto_front_complexities.max() + delta_xlim[1]\n",
    "    ymin = pareto_front_rmse.min() + delta_ylim[0]\n",
    "    ymax = pareto_front_rmse.max() + delta_ylim[1]\n",
    "    ax.set_xlim(xmin, xmax)\n",
    "    ax.set_ylim(ymin, ymax)\n",
    "\n",
    "    # Axes labels\n",
    "    ax.set_xlabel(\"Expression complexity\")\n",
    "    ax.set_ylabel(\"log(RMSE)\")\n",
    "\n",
    "\n",
    "    for i_prog in range (len(pareto_front_programs)):\n",
    "        prog = pareto_front_programs[i_prog]\n",
    "\n",
    "        text_pos  = [pareto_front_complexities[i_prog] + frac_delta_equ[0]*(xmax-xmin), \n",
    "                     pareto_front_rmse[i_prog]         + frac_delta_equ[1]*(ymax-ymin)]\n",
    "        # Getting latex expr\n",
    "        latex_str = prog.get_infix_latex(do_simplify = do_simplify)\n",
    "        # Adding \"superparent =\" before program to make it pretty\n",
    "        if show_superparent_at_beginning:\n",
    "            latex_str = prog.library.superparent.name + ' =' + latex_str\n",
    "\n",
    "\n",
    "        ax.text(text_pos[0], text_pos[1], f'${latex_str}$', size = eq_text_size)"
   ]
  },
  {
   "cell_type": "code",
   "execution_count": null,
   "id": "609c444e-97c4-4212-b330-2d7948b1ee42",
   "metadata": {
    "pycharm": {
     "name": "#%%\n"
    }
   },
   "outputs": [],
   "source": [
    "plot_pareto_front(run_logger)\n"
   ]
  },
  {
   "cell_type": "code",
   "execution_count": null,
   "id": "5057d3c2-772d-4194-b701-64dc1fb1c52d",
   "metadata": {
    "pycharm": {
     "name": "#%%\n"
    }
   },
   "outputs": [],
   "source": [
    "pareto_front_complexities, pareto_front_programs, pareto_front_r, pareto_front_rmse = run_logger.get_pareto_front()\n"
   ]
  },
  {
   "cell_type": "code",
   "execution_count": null,
   "id": "c3d44899-6459-4e06-ba2f-3808f1cdbcc5",
   "metadata": {
    "pycharm": {
     "name": "#%%\n"
    }
   },
   "outputs": [],
   "source": [
    "for prog in pareto_front_programs:\n",
    "    prog.show_infix(do_simplify=True)"
   ]
  },
  {
   "cell_type": "markdown",
   "id": "a21f281c-90ef-4105-99a1-f6bdaf2a2540",
   "metadata": {
    "pycharm": {
     "name": "#%% md\n"
    }
   },
   "source": [
    "### Symbolic equivalence"
   ]
  },
  {
   "cell_type": "code",
   "execution_count": null,
   "id": "a9f2aa1f-82cd-44ad-9902-d9e7da9f9777",
   "metadata": {
    "pycharm": {
     "name": "#%%\n"
    }
   },
   "outputs": [],
   "source": [
    "best_prog_sympy   = candidates[-1] .get_infix_sympy(do_simplify=True)\n",
    "target_prog_sympy = target_program .get_infix_sympy(do_simplify=True)"
   ]
  },
  {
   "cell_type": "code",
   "execution_count": null,
   "id": "cc6edab8-80c7-465e-8814-fc7db70146c7",
   "metadata": {
    "pycharm": {
     "name": "#%%\n"
    }
   },
   "outputs": [],
   "source": [
    "target_prog_sympy"
   ]
  },
  {
   "cell_type": "code",
   "execution_count": null,
   "id": "2a5707f8-89e5-428a-bf73-7251ec95f77f",
   "metadata": {
    "pycharm": {
     "name": "#%%\n"
    }
   },
   "outputs": [],
   "source": [
    "best_prog_sympy"
   ]
  },
  {
   "cell_type": "code",
   "execution_count": null,
   "id": "ca6bfd74-9079-492f-9891-000a73ec703e",
   "metadata": {
    "pycharm": {
     "name": "#%%\n"
    }
   },
   "outputs": [],
   "source": [
    "target_prog_sympy == best_prog_sympy"
   ]
  },
  {
   "cell_type": "code",
   "execution_count": null,
   "id": "1678c48a-1296-4fe2-be8c-8f2a48f037ff",
   "metadata": {
    "pycharm": {
     "name": "#%%\n"
    }
   },
   "outputs": [],
   "source": [
    "\n",
    "\n",
    "\n"
   ]
  },
  {
   "cell_type": "code",
   "execution_count": null,
   "id": "90a2ded4-6ced-4f9a-8c29-361ae157161b",
   "metadata": {
    "pycharm": {
     "name": "#%%\n"
    }
   },
   "outputs": [],
   "source": [
    "hall_of_fame = run_logger.hall_of_fame"
   ]
  },
  {
   "cell_type": "code",
   "execution_count": null,
   "id": "d482869a-5da1-4174-8a67-32d936e3c50b",
   "metadata": {
    "pycharm": {
     "name": "#%%\n"
    }
   },
   "outputs": [],
   "source": [
    "for i in range(len(hall_of_fame)):\n",
    "    print(hall_of_fame[i].get_infix_sympy(do_simplify=False))"
   ]
  },
  {
   "cell_type": "code",
   "execution_count": null,
   "id": "b07060d0-0b4c-4bf8-b361-89cd2c8ed54d",
   "metadata": {
    "pycharm": {
     "name": "#%%\n"
    }
   },
   "outputs": [],
   "source": [
    "eq = hall_of_fame[i].get_infix_sympy(do_simplify=True)"
   ]
  },
  {
   "cell_type": "code",
   "execution_count": null,
   "id": "6b9ddc98-46a7-4ec6-8a31-32fe45e7300c",
   "metadata": {
    "pycharm": {
     "name": "#%%\n"
    }
   },
   "outputs": [],
   "source": [
    "for prog in pareto_front_programs:\n",
    "    prog.show_infix(do_simplify=True)\n",
    "    print(\"g\", prog.free_const_values[0])\n",
    "    print(\"m\", prog.free_const_values[1])"
   ]
  },
  {
   "cell_type": "code",
   "execution_count": null,
   "id": "01441cdf-631c-4d69-bd2f-37b6912618f6",
   "metadata": {
    "pycharm": {
     "name": "#%%\n"
    }
   },
   "outputs": [],
   "source": []
  },
  {
   "cell_type": "code",
   "execution_count": null,
   "id": "10bfd4d9-db37-4b26-9809-73d874221070",
   "metadata": {},
   "outputs": [],
   "source": []
  },
  {
   "cell_type": "code",
   "execution_count": null,
   "id": "e4109d1a-5f5d-4b07-aacd-76cfddf2c77c",
   "metadata": {},
   "outputs": [],
   "source": []
  }
 ],
 "metadata": {
  "kernelspec": {
   "display_name": "Python 3 (ipykernel)",
   "language": "python",
   "name": "python3"
  },
  "language_info": {
   "codemirror_mode": {
    "name": "ipython",
    "version": 3
   },
   "file_extension": ".py",
   "mimetype": "text/x-python",
   "name": "python",
   "nbconvert_exporter": "python",
   "pygments_lexer": "ipython3",
   "version": "3.8.16"
  }
 },
 "nbformat": 4,
 "nbformat_minor": 5
}
