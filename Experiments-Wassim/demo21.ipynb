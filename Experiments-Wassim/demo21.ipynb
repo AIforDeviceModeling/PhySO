{
 "cells": [
  {
   "cell_type": "markdown",
   "id": "1c819057-4781-4cfc-8d55-e3dcbc33687d",
   "metadata": {
    "pycharm": {
     "name": "#%% md\n"
    },
    "tags": []
   },
   "source": [
    "# $\\Phi$-SO demo"
   ]
  },
  {
   "cell_type": "markdown",
   "id": "e2390f38-ea65-4652-bfb7-0b29ed26a546",
   "metadata": {
    "pycharm": {
     "name": "#%% md\n"
    }
   },
   "source": [
    "## Packages import"
   ]
  },
  {
   "cell_type": "code",
   "execution_count": 1,
   "id": "75f93de4-0542-483d-aeea-f43f2d77f6ba",
   "metadata": {
    "pycharm": {
     "name": "#%%\n"
    }
   },
   "outputs": [
    {
     "name": "stdout",
     "output_type": "stream",
     "text": [
      "/opt/homebrew/Caskroom/miniforge/base/envs/PhySO\n"
     ]
    }
   ],
   "source": [
    "# conda env\n",
    "!echo $CONDA_PREFIX"
   ]
  },
  {
   "cell_type": "code",
   "execution_count": 2,
   "id": "7e3ee9d9-c786-4583-aa32-2fbc65584009",
   "metadata": {
    "pycharm": {
     "name": "#%%\n"
    }
   },
   "outputs": [],
   "source": [
    "# External packages\n",
    "import torch\n",
    "import numpy as np\n",
    "\n",
    "# Pyplot\n",
    "%matplotlib inline\n",
    "import matplotlib.pyplot as plt\n",
    "\n",
    "# Internal code import\n",
    "import physo\n",
    "from physo.learn import monitoring\n",
    "from physo.task  import benchmark"
   ]
  },
  {
   "cell_type": "code",
   "execution_count": 3,
   "id": "6b52eaea-6ca2-4d3e-a846-2eedcd932e56",
   "metadata": {
    "pycharm": {
     "name": "#%%\n"
    }
   },
   "outputs": [
    {
     "name": "stdout",
     "output_type": "stream",
     "text": [
      "cpu\n"
     ]
    }
   ],
   "source": [
    "# Device\n",
    "DEVICE = 'cpu'\n",
    "if torch.cuda.is_available():\n",
    "    DEVICE = 'cuda'\n",
    "print(DEVICE)"
   ]
  },
  {
   "cell_type": "code",
   "execution_count": 4,
   "id": "8c8890ee-a992-4bb6-a0ff-8847e82c99ab",
   "metadata": {
    "pycharm": {
     "name": "#%%\n"
    }
   },
   "outputs": [
    {
     "data": {
      "text/plain": [
       "False"
      ]
     },
     "execution_count": 4,
     "metadata": {},
     "output_type": "execute_result"
    }
   ],
   "source": [
    "torch.cuda.is_available()"
   ]
  },
  {
   "cell_type": "markdown",
   "id": "91946a7e-e7dd-446b-9de9-101c930e82ce",
   "metadata": {
    "pycharm": {
     "name": "#%% md\n"
    }
   },
   "source": [
    "## Test case"
   ]
  },
  {
   "cell_type": "code",
   "execution_count": 5,
   "id": "23fcc22c-753b-4885-b305-0d277396d39a",
   "metadata": {
    "pycharm": {
     "name": "#%%\n"
    }
   },
   "outputs": [],
   "source": [
    "data_size = 50"
   ]
  },
  {
   "cell_type": "code",
   "execution_count": 6,
   "id": "06b4f66f-1699-4c7a-a22c-90304c8e7ae2",
   "metadata": {
    "pycharm": {
     "name": "#%%\n"
    }
   },
   "outputs": [
    {
     "name": "stdout",
     "output_type": "stream",
     "text": [
      "10\n"
     ]
    }
   ],
   "source": [
    "# Data points\n",
    "data_lowbound, data_upbound = -10, 10\n",
    "z  = np.random.uniform(data_lowbound, data_upbound, data_size)\n",
    "vz = np.random.uniform(data_lowbound, data_upbound, data_size)\n",
    "x0_array = z\n",
    "x1_array = vz\n",
    "X_array = np.stack((x0_array, x1_array), axis=0)\n",
    "m = 1.5\n",
    "g = 9.8\n",
    "y_array = m*g*z + m*vz**2 #+ 0.5*m*vz**2\n",
    "\n",
    "# One of many symbolic solutions:\n",
    "target_program_str = [\"add\", \"mul\", \"mul\", \"m\", \"g\", \"z\", \"mul\", \"m\", \"n2\", \"v_z\"]\n",
    "print(len(target_program_str))\n"
   ]
  },
  {
   "cell_type": "code",
   "execution_count": 7,
   "id": "a796039f-fdbb-4991-bc58-3fcb92cae589",
   "metadata": {
    "pycharm": {
     "name": "#%%\n"
    }
   },
   "outputs": [
    {
     "data": {
      "image/png": "[encoded data removed]",
      "text/plain": [
       "<Figure size 1000x500 with 2 Axes>"
      ]
     },
     "metadata": {},
     "output_type": "display_data"
    }
   ],
   "source": [
    "n_dim = X_array.shape[0]\n",
    "fig, ax = plt.subplots(n_dim, 1, figsize=(10,5))\n",
    "for i in range (n_dim):\n",
    "    curr_ax = ax if n_dim==1 else ax[i]\n",
    "    curr_ax.plot(X_array[i], y_array, 'k.',)\n",
    "    curr_ax.set_xlabel(\"X[%i]\"%(i))\n",
    "    curr_ax.set_ylabel(\"y\")\n",
    "plt.show()"
   ]
  },
  {
   "cell_type": "code",
   "execution_count": 8,
   "id": "ca6b2f73-80c3-4f55-9866-f0297b81087f",
   "metadata": {
    "pycharm": {
     "name": "#%%\n"
    }
   },
   "outputs": [],
   "source": [
    "# ------ Vectors ------\n",
    "# Stack of all input variables\n",
    "X = torch.tensor(X_array).to(DEVICE)\n",
    "# Output of symbolic function to guess\n",
    "y = torch.tensor(y_array).to(DEVICE)\n",
    "\n",
    "# ------ Constants ------\n",
    "const1 = torch.tensor(np.array(1.)).to(DEVICE)\n",
    "m = torch.tensor(np.array(m)).to(DEVICE)\n",
    "g = torch.tensor(np.array(g)).to(DEVICE)"
   ]
  },
  {
   "cell_type": "markdown",
   "id": "058939ea-1550-4f41-87cf-a6d879d51102",
   "metadata": {
    "pycharm": {
     "name": "#%% md\n"
    }
   },
   "source": [
    "## Run config"
   ]
  },
  {
   "cell_type": "markdown",
   "id": "07990a3b-14c5-4c4a-b54a-908f7cb259d4",
   "metadata": {
    "pycharm": {
     "name": "#%% md\n"
    }
   },
   "source": [
    "### Library config"
   ]
  },
  {
   "cell_type": "code",
   "execution_count": 9,
   "id": "f8666ce1-dfb1-4ee9-8695-2bcb76f26e7b",
   "metadata": {
    "pycharm": {
     "name": "#%%\n"
    }
   },
   "outputs": [],
   "source": [
    "args_make_tokens = {\n",
    "                # operations\n",
    "                \"op_names\"             : [\"mul\", \"add\", \"sub\", \"div\", \"inv\", \"n2\", \"sqrt\", \"exp\", \"log\", \"sin\", \"cos\"],\n",
    "                \"use_protected_ops\"    : True,\n",
    "                # input variables\n",
    "                \"input_var_ids\"        : {\"z\" : 0         , \"v_z\" : 1         , },\n",
    "                \"input_var_units\"      : {\"z\" : [1, 0, 0] , \"v_z\" : [1, -1, 0], },\n",
    "                \"input_var_complexity\" : {\"z\" : 1.        , \"v_z\" : 1.        , },\n",
    "                # constants\n",
    "                \"constants\"            : {\"1\" : const1    , },\n",
    "                \"constants_units\"      : {\"1\" : [0, 0, 0] , },\n",
    "                \"constants_complexity\" : {\"1\" : 1.        , },\n",
    "                # free constants\n",
    "                \"free_constants\"            : {\"m\"              , \"g\"              ,},\n",
    "                \"free_constants_init_val\"   : {\"m\" : 1.         , \"g\" : 1.         ,},\n",
    "                \"free_constants_units\"      : {\"m\" : [0, 0, 1]  , \"g\" : [1, -2, 0] ,},\n",
    "                \"free_constants_complexity\" : {\"m\" : 1.         , \"g\" : 1.         ,},\n",
    "                    }\n",
    "\n",
    "library_config = {\"args_make_tokens\"  : args_make_tokens,\n",
    "                  \"superparent_units\" : [2, -2, 1],\n",
    "                  \"superparent_name\"  : \"E\",\n",
    "                }"
   ]
  },
  {
   "cell_type": "markdown",
   "id": "c13e2293-d4b0-42d4-a5e0-95c9e3be2a23",
   "metadata": {
    "pycharm": {
     "name": "#%% md\n"
    }
   },
   "source": [
    "### Free constant optimizer config"
   ]
  },
  {
   "cell_type": "code",
   "execution_count": 10,
   "id": "c63231f3-8ff9-4a4e-8091-fa56a7d14f68",
   "metadata": {
    "pycharm": {
     "name": "#%%\n"
    }
   },
   "outputs": [],
   "source": [
    "free_const_opti_args = {\n",
    "            'loss'   : \"MSE\",\n",
    "            'method' : 'LBFGS',\n",
    "            'method_args': {\n",
    "                        'n_steps' : 30,\n",
    "                        'tol'     : 1e-8,\n",
    "                        'lbfgs_func_args' : {\n",
    "                            'max_iter'       : 4,\n",
    "                            'line_search_fn' : \"strong_wolfe\",\n",
    "                                             },\n",
    "                            },\n",
    "        }"
   ]
  },
  {
   "cell_type": "markdown",
   "id": "5ce95cf0-4992-4542-a358-42390651a0aa",
   "metadata": {
    "pycharm": {
     "name": "#%% md\n"
    }
   },
   "source": [
    "### Learning config"
   ]
  },
  {
   "cell_type": "code",
   "execution_count": 11,
   "id": "7c9a1a7c-860e-40a3-a979-d52fa895f396",
   "metadata": {
    "pycharm": {
     "name": "#%%\n"
    }
   },
   "outputs": [],
   "source": [
    "MAX_TRIAL_EXPRESSIONS = 2*1e6\n",
    "BATCH_SIZE = int(1e3)\n",
    "MAX_LENGTH = 35\n",
    "GET_OPTIMIZER = lambda model : torch.optim.Adam(\n",
    "                                    model.parameters(),                \n",
    "                                    lr=0.0025, #0.001, #0.0050, #0.0005, #1,  #lr=0.0025\n",
    "                                                )"
   ]
  },
  {
   "cell_type": "code",
   "execution_count": 12,
   "id": "773de1e2-0dd2-4b39-922c-9229e6c603de",
   "metadata": {
    "pycharm": {
     "name": "#%%\n"
    }
   },
   "outputs": [],
   "source": [
    "reward_config = {\n",
    "                 \"reward_function\"     : physo.physym.reward.SquashedNRMSE, # PHYSICALITY\n",
    "                 \"zero_out_unphysical\" : True,\n",
    "                 \"zero_out_duplicates\" : False,\n",
    "                 \"keep_lowest_complexity_duplicate\" : False,\n",
    "                }"
   ]
  },
  {
   "cell_type": "code",
   "execution_count": 13,
   "id": "356b6ea9-603f-48d5-a53e-4317814ef03d",
   "metadata": {
    "pycharm": {
     "name": "#%%\n"
    }
   },
   "outputs": [],
   "source": [
    "learning_config = {\n",
    "    # Batch related\n",
    "    'batch_size'       : BATCH_SIZE,\n",
    "    'max_time_step'    : MAX_LENGTH,\n",
    "    'n_epochs'         : int(1e9), #int(MAX_TRIAL_EXPRESSIONS/BATCH_SIZE),\n",
    "    # Loss related\n",
    "    'gamma_decay'      : 0.7,\n",
    "    'entropy_weight'   : 0.005,\n",
    "    # Reward related\n",
    "    'risk_factor'      : 0.05,\n",
    "    'rewards_computer' : physo.physym.reward.make_RewardsComputer (**reward_config),\n",
    "    # Optimizer\n",
    "    'get_optimizer'    : GET_OPTIMIZER,\n",
    "}"
   ]
  },
  {
   "cell_type": "markdown",
   "id": "cc624c08-92d7-473f-b24c-1e63ef50e340",
   "metadata": {
    "pycharm": {
     "name": "#%% md\n"
    }
   },
   "source": [
    "### Priors config"
   ]
  },
  {
   "cell_type": "code",
   "execution_count": 14,
   "id": "629557bb-8932-4bcb-b1f9-3214cb0a7938",
   "metadata": {
    "pycharm": {
     "name": "#%%\n"
    }
   },
   "outputs": [],
   "source": [
    "priors_config  = [\n",
    "                #(\"UniformArityPrior\", None),\n",
    "                # LENGTH RELATED\n",
    "                (\"HardLengthPrior\"  , {\"min_length\": 4, \"max_length\": MAX_LENGTH, }),\n",
    "                (\"SoftLengthPrior\"  , {\"length_loc\": 6, \"scale\": 5, }),\n",
    "                # RELATIONSHIPS RELATED\n",
    "                (\"NoUselessInversePrior\"  , None),\n",
    "                (\"PhysicalUnitsPrior\", {\"prob_eps\": np.finfo(np.float32).eps}), # PHYSICALITY\n",
    "                #(\"NestedFunctions\", {\"functions\":[\"exp\",], \"max_nesting\" : 1}),\n",
    "                #(\"NestedFunctions\", {\"functions\":[\"log\",], \"max_nesting\" : 1}),\n",
    "                (\"NestedTrigonometryPrior\", {\"max_nesting\" : 1}),\n",
    "                (\"OccurrencesPrior\", {\"targets\" : [\"1\",], \"max\" : [3,] }),\n",
    "                 ]"
   ]
  },
  {
   "cell_type": "markdown",
   "id": "85f08d15-7325-4841-aebe-016a4f2978a8",
   "metadata": {
    "pycharm": {
     "name": "#%% md\n"
    }
   },
   "source": [
    "### Cell config"
   ]
  },
  {
   "cell_type": "code",
   "execution_count": 15,
   "id": "aadd010f-0efa-492a-966e-66836ddb49a6",
   "metadata": {
    "pycharm": {
     "name": "#%%\n"
    }
   },
   "outputs": [],
   "source": [
    "cell_config = {\n",
    "    \"hidden_size\" : 128,\n",
    "    \"n_layers\"    : 1,\n",
    "}"
   ]
  },
  {
   "cell_type": "markdown",
   "id": "9438ab61-dac6-4514-a155-aa0475073cdd",
   "metadata": {
    "pycharm": {
     "name": "#%% md\n"
    }
   },
   "source": [
    "### Logger"
   ]
  },
  {
   "cell_type": "code",
   "execution_count": 16,
   "id": "cfec047f-3f78-4542-924a-4fc2763ab7a9",
   "metadata": {
    "pycharm": {
     "name": "#%%\n"
    }
   },
   "outputs": [],
   "source": [
    "save_path_training_curves = 'demo_run_curves.png'\n",
    "save_path_log             = 'demo_run_log.log'\n",
    "\n",
    "run_logger     = monitoring.RunLogger(save_path = save_path_log, \n",
    "                                      do_save = True)\n",
    "\n",
    "run_visualiser = monitoring.RunVisualiser (epoch_refresh_rate = 1,\n",
    "                                           save_path = save_path_training_curves,\n",
    "                                           do_show   = False,\n",
    "                                           do_prints = True,\n",
    "                                           do_save   = True, )"
   ]
  },
  {
   "cell_type": "markdown",
   "id": "85375f12-1d28-4b38-8c39-1c078c251e46",
   "metadata": {
    "pycharm": {
     "name": "#%% md\n"
    }
   },
   "source": [
    "### Run config"
   ]
  },
  {
   "cell_type": "code",
   "execution_count": 17,
   "id": "ee052f01-8e11-48df-8d82-d98c625b8776",
   "metadata": {
    "pycharm": {
     "name": "#%%\n"
    }
   },
   "outputs": [],
   "source": [
    "run_config = {\n",
    "    \"learning_config\"      : learning_config,\n",
    "    \"reward_config\"        : reward_config,\n",
    "    \"free_const_opti_args\" : free_const_opti_args,\n",
    "    \"library_config\"       : library_config,\n",
    "    \"priors_config\"        : priors_config,\n",
    "    \"cell_config\"          : cell_config,\n",
    "    \"run_logger\"           : run_logger,\n",
    "    \"run_visualiser\"       : run_visualiser,\n",
    "}"
   ]
  },
  {
   "cell_type": "markdown",
   "id": "5b9c17c3-6ad4-4fb5-96ae-f9ee479dbc16",
   "metadata": {
    "pycharm": {
     "name": "#%% md\n"
    }
   },
   "source": [
    "## Dummy epoch for prior tuning"
   ]
  },
  {
   "cell_type": "code",
   "execution_count": 18,
   "id": "81604605-df6c-4029-9ec8-d9580162469c",
   "metadata": {
    "pycharm": {
     "name": "#%%\n"
    }
   },
   "outputs": [
    {
     "data": {
      "image/png": "[encoded data removed]",
      "text/plain": [
       "<Figure size 1400x700 with 2 Axes>"
      ]
     },
     "metadata": {},
     "output_type": "display_data"
    }
   ],
   "source": [
    "benchmark.dummy_epoch(X, y, run_config)"
   ]
  },
  {
   "cell_type": "markdown",
   "id": "91d262d8-36e6-48dd-85c5-ff5b19a0b1a9",
   "metadata": {
    "pycharm": {
     "name": "#%% md\n"
    }
   },
   "source": [
    "## Sanity checks"
   ]
  },
  {
   "cell_type": "code",
   "execution_count": 19,
   "id": "8bba9604-4e6e-4c0c-bf9c-6ad523fc346f",
   "metadata": {
    "pycharm": {
     "name": "#%%\n"
    }
   },
   "outputs": [
    {
     "name": "stdout",
     "output_type": "stream",
     "text": [
      "Data\n"
     ]
    },
    {
     "data": {
      "image/png": "[encoded data removed]",
      "text/plain": [
       "<Figure size 1000x500 with 2 Axes>"
      ]
     },
     "metadata": {},
     "output_type": "display_data"
    },
    {
     "name": "stdout",
     "output_type": "stream",
     "text": [
      "{'mul': 0, 'add': 1, 'sub': 2, 'div': 3, 'inv': 4, 'n2': 5, 'sqrt': 6, 'exp': 7, 'log': 8, 'sin': 9, 'cos': 10, '1': 11, 'g': 12, 'm': 13, 'z': 14, 'v_z': 15}\n",
      "-------------------------- Library -------------------------\n",
      "[mul add sub div inv n2 sqrt exp log sin cos 1 g m z v_z E dummy -]\n",
      "--------------------------- Prior --------------------------\n",
      "PriorCollection:\n",
      "- HardLengthPrior (min_length = 4, max_length = 35)\n",
      "- SoftLengthPrior (length_loc = 6, scale = 5)\n",
      "- NoUselessInversePrior (['inv', 'log', 'exp', 'n2', 'sqrt'] can not be child of ['inv', 'exp', 'log', 'sqrt', 'n2'])\n",
      "- PhysicalUnitsPrior\n",
      "- NestedTrigonometryPrior (tokens = ['sin' 'cos'], nesting forbidden)\n",
      "- OccurrencesPrior (tokens ['1'] can be used [3] times max)\n",
      "-------------------------- Dataset -------------------------\n",
      "X        : torch.Size([2, 50]) \n",
      "y_target : torch.Size([50])\n",
      "-------------------------- Programs ------------------------\n",
      "[['dummy' '-' '-' ... '-' '-' '-']\n",
      " ['dummy' '-' '-' ... '-' '-' '-']\n",
      " ['dummy' '-' '-' ... '-' '-' '-']\n",
      " ...\n",
      " ['dummy' '-' '-' ... '-' '-' '-']\n",
      " ['dummy' '-' '-' ... '-' '-' '-']\n",
      " ['dummy' '-' '-' ... '-' '-' '-']]\n",
      "\n",
      "-------------------------- Cell ------------------------\n",
      "Cell(\n",
      "  (input_dense): Linear(in_features=81, out_features=128, bias=True)\n",
      "  (stacked_cells): ModuleList(\n",
      "    (0): LSTMCell(128, 128)\n",
      "  )\n",
      "  (output_dense): Linear(in_features=128, out_features=16, bias=True)\n",
      ")\n",
      "n_params= 144657\n",
      "-------------------------- Ideal reward ------------------------\n",
      "---- Target ----\n",
      "Tokens in prefix notation:\n",
      "[add, mul, mul, m, g, z, mul, m, n2, v_z]\n",
      "Raw expression ascii:\n",
      "             2\n",
      "g⋅m⋅z + m⋅v_z \n",
      "Raw expression:\n"
     ]
    },
    {
     "data": {
      "image/png": "[encoded data removed]",
      "text/plain": [
       "<Figure size 1000x100 with 1 Axes>"
      ]
     },
     "metadata": {},
     "output_type": "display_data"
    },
    {
     "name": "stdout",
     "output_type": "stream",
     "text": [
      "Simplified expression:\n"
     ]
    },
    {
     "data": {
      "image/png": "[encoded data removed]",
      "text/plain": [
       "<Figure size 1000x100 with 1 Axes>"
      ]
     },
     "metadata": {},
     "output_type": "display_data"
    },
    {
     "name": "stdout",
     "output_type": "stream",
     "text": [
      "Ideal reward : 0.9999997816759182\n"
     ]
    }
   ],
   "source": [
    "target_program = benchmark.sanity_check(X, y, run_config, target_program_str=target_program_str)"
   ]
  },
  {
   "cell_type": "markdown",
   "id": "9cf38e56-553c-4849-b9e5-ab17dfc2fbb2",
   "metadata": {
    "pycharm": {
     "name": "#%% md\n"
    },
    "tags": []
   },
   "source": [
    "## Run"
   ]
  },
  {
   "cell_type": "code",
   "execution_count": null,
   "id": "21e1adc7-9ada-4ad9-97a6-a99d2f53451d",
   "metadata": {
    "pycharm": {
     "name": "#%%\n"
    },
    "scrolled": true,
    "tags": []
   },
   "outputs": [
    {
     "name": "stdout",
     "output_type": "stream",
     "text": [
      "=========== Epoch 00000 ===========\n",
      "\n",
      "Overall best  at R=0.607793\n",
      "-> Raw expression : \n",
      "  ⎛                         2⎞\n",
      "  ⎜    ⎛   0.5          0.5⎞ ⎟\n",
      "g⋅⎝z + ⎝- z    + (z + z)   ⎠ ⎠\n",
      "──────────────────────────────\n",
      "             ⎛1⎞              \n",
      "             ⎜─⎟              \n",
      "             ⎝m⎠              \n",
      "\n",
      "Best of epoch at R=0.607793\n",
      "-> Raw expression : \n",
      "  ⎛                         2⎞\n",
      "  ⎜    ⎛   0.5          0.5⎞ ⎟\n",
      "g⋅⎝z + ⎝- z    + (z + z)   ⎠ ⎠\n",
      "──────────────────────────────\n",
      "             ⎛1⎞              \n",
      "             ⎜─⎟              \n",
      "             ⎝m⎠              \n",
      "\n",
      "\n",
      "=========== Epoch 00001 ===========\n",
      "\n",
      "Overall best  at R=0.607793\n",
      "-> Raw expression : \n",
      "  ⎛                         2⎞\n",
      "  ⎜    ⎛   0.5          0.5⎞ ⎟\n",
      "g⋅⎝z + ⎝- z    + (z + z)   ⎠ ⎠\n",
      "──────────────────────────────\n",
      "             ⎛1⎞              \n",
      "             ⎜─⎟              \n",
      "             ⎝m⎠              \n",
      "\n",
      "Best of epoch at R=0.580145\n",
      "-> Raw expression : \n",
      "      sin(1)     \n",
      "─────────────────\n",
      "⎛       1       ⎞\n",
      "⎜───────────────⎟\n",
      "⎜              2⎟\n",
      "⎜    ⎛     0.5⎞ ⎟\n",
      "⎜    ⎜  ⎛1⎞   ⎟ ⎟\n",
      "⎜g⋅z⋅⎜m⋅⎜─⎟   ⎟ ⎟\n",
      "⎝    ⎝  ⎝m⎠   ⎠ ⎠\n",
      "\n",
      "\n",
      "=========== Epoch 00002 ===========\n",
      "\n",
      "Overall best  at R=0.607793\n",
      "-> Raw expression : \n",
      "  ⎛                         2⎞\n",
      "  ⎜    ⎛   0.5          0.5⎞ ⎟\n",
      "g⋅⎝z + ⎝- z    + (z + z)   ⎠ ⎠\n",
      "──────────────────────────────\n",
      "             ⎛1⎞              \n",
      "             ⎜─⎟              \n",
      "             ⎝m⎠              \n",
      "\n",
      "Best of epoch at R=0.580145\n",
      "-> Raw expression : \n",
      "         ⎛ 1⎞\n",
      "         ⎝ℯ ⎠\n",
      "g⋅g⋅m⋅z⋅ℯ    \n",
      "─────────────\n",
      "      g      \n",
      "\n",
      "\n",
      "=========== Epoch 00003 ===========\n",
      "\n",
      "Overall best  at R=0.607793\n",
      "-> Raw expression : \n",
      "  ⎛                         2⎞\n",
      "  ⎜    ⎛   0.5          0.5⎞ ⎟\n",
      "g⋅⎝z + ⎝- z    + (z + z)   ⎠ ⎠\n",
      "──────────────────────────────\n",
      "             ⎛1⎞              \n",
      "             ⎜─⎟              \n",
      "             ⎝m⎠              \n",
      "\n",
      "Best of epoch at R=0.580145\n",
      "-> Raw expression : \n",
      "                 ⎛   ⎛      0.5⎞⎞\n",
      " 0.5          0.5⎜   ⎜⎛ 0.5⎞   ⎟⎟\n",
      "1   ⋅g⋅m⋅z⋅log   ⎝cos⎝⎝1   ⎠   ⎠⎠\n",
      "\n",
      "\n",
      "=========== Epoch 00004 ===========\n",
      "\n",
      "Overall best  at R=0.607793\n",
      "-> Raw expression : \n",
      "  ⎛                         2⎞\n",
      "  ⎜    ⎛   0.5          0.5⎞ ⎟\n",
      "g⋅⎝z + ⎝- z    + (z + z)   ⎠ ⎠\n",
      "──────────────────────────────\n",
      "             ⎛1⎞              \n",
      "             ⎜─⎟              \n",
      "             ⎝m⎠              \n",
      "\n",
      "Best of epoch at R=0.490323\n",
      "-> Raw expression : \n",
      "             2\n",
      "⎛     1     ⎞ \n",
      "⎜───────────⎟ \n",
      "⎜⎛    0.5  ⎞⎟ \n",
      "⎜⎜   m     ⎟⎟ \n",
      "⎜⎜─────────⎟⎟ \n",
      "⎜⎜⎛  g⋅z  ⎞⎟⎟ \n",
      "⎜⎜⎜───────⎟⎟⎟ \n",
      "⎜⎜⎜⎛  1  ⎞⎟⎟⎟ \n",
      "⎜⎜⎜⎜─────⎟⎟⎟⎟ \n",
      "⎜⎜⎜⎜⎛ m ⎞⎟⎟⎟⎟ \n",
      "⎜⎜⎜⎜⎜───⎟⎟⎟⎟⎟ \n",
      "⎝⎝⎝⎝⎝v_z⎠⎠⎠⎠⎠ \n",
      "\n",
      "\n",
      "=========== Epoch 00005 ===========\n",
      "\n",
      "Overall best  at R=0.607793\n",
      "-> Raw expression : \n",
      "  ⎛                         2⎞\n",
      "  ⎜    ⎛   0.5          0.5⎞ ⎟\n",
      "g⋅⎝z + ⎝- z    + (z + z)   ⎠ ⎠\n",
      "──────────────────────────────\n",
      "             ⎛1⎞              \n",
      "             ⎜─⎟              \n",
      "             ⎝m⎠              \n",
      "\n",
      "Best of epoch at R=0.580145\n",
      "-> Raw expression : \n",
      "       ⎛       0.5⎞\n",
      "       ⎜⎛    1⎞   ⎟\n",
      "       ⎜⎜g⋅1⋅─⎟   ⎟\n",
      "       ⎝⎝    g⎠   ⎠\n",
      "g⋅m⋅z⋅ℯ            \n",
      "\n",
      "\n",
      "=========== Epoch 00006 ===========\n",
      "\n",
      "Overall best  at R=0.607793\n",
      "-> Raw expression : \n",
      "  ⎛                         2⎞\n",
      "  ⎜    ⎛   0.5          0.5⎞ ⎟\n",
      "g⋅⎝z + ⎝- z    + (z + z)   ⎠ ⎠\n",
      "──────────────────────────────\n",
      "             ⎛1⎞              \n",
      "             ⎜─⎟              \n",
      "             ⎝m⎠              \n",
      "\n",
      "Best of epoch at R=0.580145\n",
      "Unable to make visualisation plots.\n",
      "=========== Epoch 00007 ===========\n",
      "\n",
      "Overall best  at R=0.607793\n",
      "-> Raw expression : \n",
      "  ⎛                         2⎞\n",
      "  ⎜    ⎛   0.5          0.5⎞ ⎟\n",
      "g⋅⎝z + ⎝- z    + (z + z)   ⎠ ⎠\n",
      "──────────────────────────────\n",
      "             ⎛1⎞              \n",
      "             ⎜─⎟              \n",
      "             ⎝m⎠              \n",
      "\n",
      "Best of epoch at R=0.580145\n",
      "-> Raw expression : \n",
      "g⋅m⋅z \n",
      "──────\n",
      "sin(1)\n",
      "\n",
      "\n",
      "=========== Epoch 00008 ===========\n",
      "\n",
      "Overall best  at R=0.607793\n",
      "-> Raw expression : \n",
      "  ⎛                         2⎞\n",
      "  ⎜    ⎛   0.5          0.5⎞ ⎟\n",
      "g⋅⎝z + ⎝- z    + (z + z)   ⎠ ⎠\n",
      "──────────────────────────────\n",
      "             ⎛1⎞              \n",
      "             ⎜─⎟              \n",
      "             ⎝m⎠              \n",
      "\n",
      "Best of epoch at R=0.580145\n",
      "-> Raw expression : \n",
      "               1        \n",
      "       ─────────────────\n",
      "                  ⎛ 0.5⎞\n",
      "        log(1)⋅log⎝1   ⎠\n",
      "       ℯ                \n",
      "g⋅m⋅z⋅ℯ                 \n",
      "\n",
      "\n",
      "=========== Epoch 00009 ===========\n",
      "\n",
      "Overall best  at R=0.607793\n",
      "-> Raw expression : \n",
      "  ⎛                         2⎞\n",
      "  ⎜    ⎛   0.5          0.5⎞ ⎟\n",
      "g⋅⎝z + ⎝- z    + (z + z)   ⎠ ⎠\n",
      "──────────────────────────────\n",
      "             ⎛1⎞              \n",
      "             ⎜─⎟              \n",
      "             ⎝m⎠              \n",
      "\n",
      "Best of epoch at R=0.580145\n",
      "-> Raw expression : \n",
      "        z         \n",
      "──────────────────\n",
      "⎛   ⎛ 0.5⎞    ⎛1⎞⎞\n",
      "⎜sin⎝1   ⎠⋅cos⎜─⎟⎟\n",
      "⎜             ⎝1⎠⎟\n",
      "⎜────────────────⎟\n",
      "⎝     1⋅m⋅g      ⎠\n",
      "\n",
      "\n",
      "=========== Epoch 00010 ===========\n",
      "\n",
      "Overall best  at R=0.607793\n",
      "-> Raw expression : \n",
      "  ⎛                         2⎞\n",
      "  ⎜    ⎛   0.5          0.5⎞ ⎟\n",
      "g⋅⎝z + ⎝- z    + (z + z)   ⎠ ⎠\n",
      "──────────────────────────────\n",
      "             ⎛1⎞              \n",
      "             ⎜─⎟              \n",
      "             ⎝m⎠              \n",
      "\n",
      "Best of epoch at R=0.580145\n",
      "-> Raw expression : \n",
      "      ⎛     1     ⎞    \n",
      "   sin⎜───────────⎟    \n",
      "      ⎜   ⎛   0.5⎞⎟    \n",
      "      ⎜   ⎜⎛z⎞   ⎟⎟    \n",
      "      ⎜log⎜⎜─⎟   ⎟⎟    \n",
      "      ⎝   ⎝⎝z⎠   ⎠⎠    \n",
      "g⋅ℯ                 + g\n",
      "───────────────────────\n",
      "            1          \n",
      "         1⋅───         \n",
      "           m⋅z         \n",
      "\n",
      "\n",
      "=========== Epoch 00011 ===========\n",
      "\n",
      "Overall best  at R=0.607793\n",
      "-> Raw expression : \n",
      "  ⎛                         2⎞\n",
      "  ⎜    ⎛   0.5          0.5⎞ ⎟\n",
      "g⋅⎝z + ⎝- z    + (z + z)   ⎠ ⎠\n",
      "──────────────────────────────\n",
      "             ⎛1⎞              \n",
      "             ⎜─⎟              \n",
      "             ⎝m⎠              \n",
      "\n",
      "Best of epoch at R=0.580145\n",
      "-> Raw expression : \n",
      "     1         1   \n",
      "1⋅───────⋅1⋅───────\n",
      "   sin(1)   ⎛  1  ⎞\n",
      "  ℯ         ⎜─────⎟\n",
      "            ⎝g⋅m⋅z⎠\n",
      "\n",
      "\n",
      "=========== Epoch 00012 ===========\n",
      "\n",
      "Overall best  at R=0.607793\n",
      "-> Raw expression : \n",
      "  ⎛                         2⎞\n",
      "  ⎜    ⎛   0.5          0.5⎞ ⎟\n",
      "g⋅⎝z + ⎝- z    + (z + z)   ⎠ ⎠\n",
      "──────────────────────────────\n",
      "             ⎛1⎞              \n",
      "             ⎜─⎟              \n",
      "             ⎝m⎠              \n",
      "\n",
      "Best of epoch at R=0.580145\n",
      "-> Raw expression : \n",
      " 0.5    \n",
      "1   ⋅g⋅m\n",
      "────────\n",
      "      1 \n",
      "      ─ \n",
      "   1  1 \n",
      " 1⋅─⋅ℯ  \n",
      "   z    \n",
      "\n",
      "\n",
      "=========== Epoch 00013 ===========\n",
      "\n",
      "Overall best  at R=0.607793\n",
      "-> Raw expression : \n",
      "  ⎛                         2⎞\n",
      "  ⎜    ⎛   0.5          0.5⎞ ⎟\n",
      "g⋅⎝z + ⎝- z    + (z + z)   ⎠ ⎠\n",
      "──────────────────────────────\n",
      "             ⎛1⎞              \n",
      "             ⎜─⎟              \n",
      "             ⎝m⎠              \n",
      "\n",
      "Best of epoch at R=0.580145\n",
      "-> Raw expression : \n",
      "       g       \n",
      "───────────────\n",
      "⎛      1      ⎞\n",
      "⎜─────────────⎟\n",
      "⎜⎛ ⎛       2⎞⎞⎟\n",
      "⎜⎜ ⎜⎛  1  ⎞ ⎟⎟⎟\n",
      "⎜⎜ ⎜⎜─────⎟ ⎟⎟⎟\n",
      "⎜⎜ ⎝⎝1⋅1⋅1⎠ ⎠⎟⎟\n",
      "⎜⎜ℯ          ⎟⎟\n",
      "⎜⎜───────────⎟⎟\n",
      "⎜⎜   ⎛ 1 ⎞   ⎟⎟\n",
      "⎜⎜   ⎜───⎟   ⎟⎟\n",
      "⎝⎝   ⎝m⋅z⎠   ⎠⎠\n",
      "\n",
      "\n",
      "=========== Epoch 00014 ===========\n",
      "\n",
      "Overall best  at R=1.000000\n",
      "-> Raw expression : \n",
      "  ⎛          2⎞\n",
      "m⋅⎝-g⋅z + v_z ⎠\n",
      "───────────────\n",
      "  ⎛    ⎛1⎞ 1  ⎞\n",
      "  ⎜ log⎜─⎟⋅─⋅1⎟\n",
      "  ⎜    ⎝1⎠ 1  ⎟\n",
      "  ⎝ℯ          ⎠\n",
      " ℯ             \n",
      "\n",
      "Best of epoch at R=1.000000\n",
      "-> Raw expression : \n",
      "  ⎛          2⎞\n",
      "m⋅⎝-g⋅z + v_z ⎠\n",
      "───────────────\n",
      "  ⎛    ⎛1⎞ 1  ⎞\n",
      "  ⎜ log⎜─⎟⋅─⋅1⎟\n",
      "  ⎜    ⎝1⎠ 1  ⎟\n",
      "  ⎝ℯ          ⎠\n",
      " ℯ             \n",
      "\n",
      "\n",
      "=========== Epoch 00015 ===========\n",
      "\n",
      "Overall best  at R=1.000000\n",
      "-> Raw expression : \n",
      "          m           \n",
      "──────────────────────\n",
      "                1     \n",
      "            ──────────\n",
      "            ⎛   g    ⎞\n",
      "            ⎜────────⎟\n",
      "    1       ⎝g⋅sin(1)⎠\n",
      "──────────⋅ℯ          \n",
      "         2            \n",
      "g⋅z + v_z             \n",
      "\n",
      "Best of epoch at R=1.000000\n",
      "-> Raw expression : \n",
      "          m           \n",
      "──────────────────────\n",
      "                1     \n",
      "            ──────────\n",
      "            ⎛   g    ⎞\n",
      "            ⎜────────⎟\n",
      "    1       ⎝g⋅sin(1)⎠\n",
      "──────────⋅ℯ          \n",
      "         2            \n",
      "g⋅z + v_z             \n",
      "\n",
      "\n",
      "=========== Epoch 00016 ===========\n",
      "\n",
      "Overall best  at R=1.000000\n",
      "-> Raw expression : \n",
      "          m           \n",
      "──────────────────────\n",
      "                1     \n",
      "            ──────────\n",
      "            ⎛   g    ⎞\n",
      "            ⎜────────⎟\n",
      "    1       ⎝g⋅sin(1)⎠\n",
      "──────────⋅ℯ          \n",
      "         2            \n",
      "g⋅z + v_z             \n",
      "\n",
      "Best of epoch at R=0.580145\n",
      "-> Raw expression : \n",
      "         1⋅1       \n",
      "g⋅m⋅m⋅z⋅ℯ   ⋅sin(1)\n",
      "───────────────────\n",
      "         m         \n",
      "\n",
      "\n",
      "=========== Epoch 00017 ===========\n",
      "\n",
      "Overall best  at R=1.000000\n",
      "-> Raw expression : \n",
      "          m           \n",
      "──────────────────────\n",
      "                1     \n",
      "            ──────────\n",
      "            ⎛   g    ⎞\n",
      "            ⎜────────⎟\n",
      "    1       ⎝g⋅sin(1)⎠\n",
      "──────────⋅ℯ          \n",
      "         2            \n",
      "g⋅z + v_z             \n",
      "\n",
      "Best of epoch at R=1.000000\n",
      "-> Raw expression : \n",
      "           ⎛         1     ⎞  \n",
      "m⋅sin(1)⋅1⋅⎜g - ───────────⎟⋅z\n",
      "           ⎜           1   ⎟  \n",
      "           ⎜    1⋅z⋅───────⎟  \n",
      "           ⎝        v_z⋅v_z⎠  \n",
      "\n",
      "\n",
      "=========== Epoch 00018 ===========\n",
      "\n",
      "Overall best  at R=1.000000\n",
      "-> Raw expression : \n",
      "          m           \n",
      "──────────────────────\n",
      "                1     \n",
      "            ──────────\n",
      "            ⎛   g    ⎞\n",
      "            ⎜────────⎟\n",
      "    1       ⎝g⋅sin(1)⎠\n",
      "──────────⋅ℯ          \n",
      "         2            \n",
      "g⋅z + v_z             \n",
      "\n",
      "Best of epoch at R=0.580145\n",
      "-> Raw expression : \n",
      "     1              \n",
      " ─────────          \n",
      "      ⎛ 1⎞          \n",
      "   sin⎝ℯ ⎠          \n",
      " g⋅───────          \n",
      "      g           1 \n",
      "ℯ         ⋅1⋅z⋅m⋅───\n",
      "                 ⎛1⎞\n",
      "                 ⎜─⎟\n",
      "                 ⎝g⎠\n",
      "\n",
      "\n"
     ]
    }
   ],
   "source": [
    "rewards, candidates = physo.fit(X, y, run_config)"
   ]
  },
  {
   "cell_type": "code",
   "execution_count": null,
   "id": "488a37dc-0606-4d60-b32c-6b7158bc2268",
   "metadata": {
    "pycharm": {
     "name": "#%%\n"
    }
   },
   "outputs": [],
   "source": []
  },
  {
   "cell_type": "markdown",
   "id": "134053b0-093c-4da3-b9ad-bea874c5c447",
   "metadata": {
    "pycharm": {
     "name": "#%% md\n"
    }
   },
   "source": [
    "## Results"
   ]
  },
  {
   "cell_type": "markdown",
   "id": "33e55ee3-7655-4c22-bf06-e742b1a780a8",
   "metadata": {
    "pycharm": {
     "name": "#%% md\n"
    }
   },
   "source": [
    "### Run plot"
   ]
  },
  {
   "cell_type": "code",
   "execution_count": null,
   "id": "1ebacee6-677e-455f-8dea-b6b3e0931e06",
   "metadata": {
    "pycharm": {
     "name": "#%%\n"
    }
   },
   "outputs": [],
   "source": [
    "run_visualiser.make_visualisation()"
   ]
  },
  {
   "cell_type": "markdown",
   "id": "1084b1c8-8e73-444c-b8d2-f2dd3345c76e",
   "metadata": {
    "pycharm": {
     "name": "#%% md\n"
    }
   },
   "source": [
    "### Pareto Front"
   ]
  },
  {
   "cell_type": "code",
   "execution_count": null,
   "id": "a51a5d79-5bcf-450a-87b4-108dc391e1e5",
   "metadata": {
    "pycharm": {
     "name": "#%%\n"
    }
   },
   "outputs": [],
   "source": [
    "def plot_pareto_front(run_logger,\n",
    "                      do_simplify                   = True,\n",
    "                      show_superparent_at_beginning = True,\n",
    "                      eq_text_size                  = 12,\n",
    "                      delta_xlim                    = [0, 5 ],\n",
    "                      delta_ylim                    = [0, 15],\n",
    "                      frac_delta_equ                = [0.03, 0.03],\n",
    "                      figsize                       = (20, 10),\n",
    "                     ):\n",
    "\n",
    "    pareto_front_complexities, pareto_front_programs, pareto_front_r, pareto_front_rmse = run_logger.get_pareto_front()\n",
    "\n",
    "    pareto_front_rmse = np.log(pareto_front_rmse)\n",
    "    # Fig params\n",
    "    plt.rc('text', usetex=True)\n",
    "    plt.rc('font', family='serif')\n",
    "    # enables new_dummy_symbol = \"\\square\"\n",
    "    plt.rc('text.latex', preamble=r'\\usepackage{amssymb} \\usepackage{xcolor}')\n",
    "    plt.rc('font', size=32)\n",
    "\n",
    "    # Fig\n",
    "    fig, ax = plt.subplots(1, 1, figsize=figsize)\n",
    "    ax.plot(pareto_front_complexities, pareto_front_rmse, 'r-')\n",
    "    ax.plot(pareto_front_complexities, pareto_front_rmse, 'ro')\n",
    "\n",
    "    # Limits\n",
    "    xmin = pareto_front_complexities.min() + delta_xlim[0]\n",
    "    xmax = pareto_front_complexities.max() + delta_xlim[1]\n",
    "    ymin = pareto_front_rmse.min() + delta_ylim[0]\n",
    "    ymax = pareto_front_rmse.max() + delta_ylim[1]\n",
    "    ax.set_xlim(xmin, xmax)\n",
    "    ax.set_ylim(ymin, ymax)\n",
    "\n",
    "    # Axes labels\n",
    "    ax.set_xlabel(\"Expression complexity\")\n",
    "    ax.set_ylabel(\"log(RMSE)\")\n",
    "\n",
    "\n",
    "    for i_prog in range (len(pareto_front_programs)):\n",
    "        prog = pareto_front_programs[i_prog]\n",
    "\n",
    "        text_pos  = [pareto_front_complexities[i_prog] + frac_delta_equ[0]*(xmax-xmin), \n",
    "                     pareto_front_rmse[i_prog]         + frac_delta_equ[1]*(ymax-ymin)]\n",
    "        # Getting latex expr\n",
    "        latex_str = prog.get_infix_latex(do_simplify = do_simplify)\n",
    "        # Adding \"superparent =\" before program to make it pretty\n",
    "        if show_superparent_at_beginning:\n",
    "            latex_str = prog.library.superparent.name + ' =' + latex_str\n",
    "\n",
    "\n",
    "        ax.text(text_pos[0], text_pos[1], f'${latex_str}$', size = eq_text_size)"
   ]
  },
  {
   "cell_type": "code",
   "execution_count": null,
   "id": "04fab56f-9699-4a81-8d7c-c721623c7bc3",
   "metadata": {
    "pycharm": {
     "name": "#%%\n"
    }
   },
   "outputs": [],
   "source": [
    "plot_pareto_front(run_logger)\n"
   ]
  },
  {
   "cell_type": "code",
   "execution_count": null,
   "id": "12d8a853-59a0-46a4-afe3-5160f2d63753",
   "metadata": {
    "pycharm": {
     "name": "#%%\n"
    }
   },
   "outputs": [],
   "source": [
    "pareto_front_complexities, pareto_front_programs, pareto_front_r, pareto_front_rmse = run_logger.get_pareto_front()\n"
   ]
  },
  {
   "cell_type": "code",
   "execution_count": null,
   "id": "fc996840-28c0-4f84-a31a-f7c0ab3e5f92",
   "metadata": {
    "pycharm": {
     "name": "#%%\n"
    }
   },
   "outputs": [],
   "source": [
    "for prog in pareto_front_programs:\n",
    "    prog.show_infix(do_simplify=True)"
   ]
  },
  {
   "cell_type": "markdown",
   "id": "4334e022-869b-4ecf-b648-a35b2529d3bc",
   "metadata": {
    "pycharm": {
     "name": "#%% md\n"
    }
   },
   "source": [
    "### Symbolic equivalence"
   ]
  },
  {
   "cell_type": "code",
   "execution_count": null,
   "id": "7d0b695a-c48f-41b4-87b1-88343a633dab",
   "metadata": {
    "pycharm": {
     "name": "#%%\n"
    }
   },
   "outputs": [],
   "source": [
    "best_prog_sympy   = candidates[-1] .get_infix_sympy(do_simplify=True)\n",
    "target_prog_sympy = target_program .get_infix_sympy(do_simplify=True)"
   ]
  },
  {
   "cell_type": "code",
   "execution_count": null,
   "id": "b687d719-2e0e-40d3-96ef-e6587d746f85",
   "metadata": {
    "pycharm": {
     "name": "#%%\n"
    }
   },
   "outputs": [],
   "source": [
    "target_prog_sympy"
   ]
  },
  {
   "cell_type": "code",
   "execution_count": null,
   "id": "89ca621f-7ff1-443d-9977-cc29d3f4e3fb",
   "metadata": {
    "pycharm": {
     "name": "#%%\n"
    }
   },
   "outputs": [],
   "source": [
    "best_prog_sympy"
   ]
  },
  {
   "cell_type": "code",
   "execution_count": null,
   "id": "6fa18e5c-46b0-4519-a0d7-f998f9590bfe",
   "metadata": {
    "pycharm": {
     "name": "#%%\n"
    }
   },
   "outputs": [],
   "source": [
    "target_prog_sympy == best_prog_sympy"
   ]
  },
  {
   "cell_type": "code",
   "execution_count": null,
   "id": "3a10a858-ddf9-4f0a-965a-d8a90748388d",
   "metadata": {
    "pycharm": {
     "name": "#%%\n"
    }
   },
   "outputs": [],
   "source": [
    "\n",
    "\n",
    "\n"
   ]
  },
  {
   "cell_type": "code",
   "execution_count": null,
   "id": "c6bcefde-9e25-4b3d-9cb6-a8d4724f1f6a",
   "metadata": {
    "pycharm": {
     "name": "#%%\n"
    }
   },
   "outputs": [],
   "source": [
    "hall_of_fame = run_logger.hall_of_fame"
   ]
  },
  {
   "cell_type": "code",
   "execution_count": null,
   "id": "e651f71f-9056-45d9-a49b-c8eeae210e66",
   "metadata": {
    "pycharm": {
     "name": "#%%\n"
    }
   },
   "outputs": [],
   "source": [
    "for i in range(len(hall_of_fame)):\n",
    "    print(hall_of_fame[i].get_infix_sympy(do_simplify=False))"
   ]
  },
  {
   "cell_type": "code",
   "execution_count": null,
   "id": "5de9225d-91d8-4b45-87c9-3845d76ff0b2",
   "metadata": {
    "pycharm": {
     "name": "#%%\n"
    }
   },
   "outputs": [],
   "source": [
    "eq = hall_of_fame[i].get_infix_sympy(do_simplify=True)"
   ]
  },
  {
   "cell_type": "code",
   "execution_count": null,
   "id": "19d48941-4c1e-4522-a532-8244e16059ca",
   "metadata": {
    "pycharm": {
     "name": "#%%\n"
    }
   },
   "outputs": [],
   "source": [
    "for prog in pareto_front_programs:\n",
    "    prog.show_infix(do_simplify=True)\n",
    "    print(\"g\", prog.free_const_values[0])\n",
    "    print(\"m\", prog.free_const_values[1])"
   ]
  },
  {
   "cell_type": "code",
   "execution_count": null,
   "id": "743c3a54-0fa2-4a30-b719-e0c975ea70e4",
   "metadata": {
    "pycharm": {
     "name": "#%%\n"
    }
   },
   "outputs": [],
   "source": []
  },
  {
   "cell_type": "code",
   "execution_count": null,
   "id": "2b53664e-0ff0-4077-a461-3fcd4b501fb9",
   "metadata": {
    "pycharm": {
     "name": "#%%\n"
    }
   },
   "outputs": [],
   "source": []
  },
  {
   "cell_type": "code",
   "execution_count": null,
   "id": "bf703f2d-e425-41bd-8dbc-822a635b6ac4",
   "metadata": {
    "pycharm": {
     "name": "#%%\n"
    }
   },
   "outputs": [],
   "source": []
  },
  {
   "cell_type": "code",
   "execution_count": null,
   "id": "fef3f136-0b71-468b-9e81-cebaace0da48",
   "metadata": {
    "pycharm": {
     "name": "#%%\n"
    }
   },
   "outputs": [],
   "source": []
  }
 ],
 "metadata": {
  "kernelspec": {
   "display_name": "Python 3 (ipykernel)",
   "language": "python",
   "name": "python3"
  },
  "language_info": {
   "codemirror_mode": {
    "name": "ipython",
    "version": 3
   },
   "file_extension": ".py",
   "mimetype": "text/x-python",
   "name": "python",
   "nbconvert_exporter": "python",
   "pygments_lexer": "ipython3",
   "version": "3.8.16"
  }
 },
 "nbformat": 4,
 "nbformat_minor": 5
}
